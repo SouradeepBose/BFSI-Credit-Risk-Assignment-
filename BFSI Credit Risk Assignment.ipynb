{
 "cells": [
  {
   "cell_type": "markdown",
   "id": "4f7ae312",
   "metadata": {},
   "source": [
    "\n",
    "Business Objectives:\n",
    "\n",
    "Predicting Loss Given Default (LGD): The primary business objective is to develop a predictive model for Loss Given Default (LGD) for defaulted accounts. LGD represents the proportion of the exposure that a lender is unable to recover after a borrower defaults. Accurate prediction of LGD is crucial for risk management and financial planning.\n",
    "\n",
    "Performance Evaluation: Evaluate the predictive model based on a defined performance metric. The performance metric should align with business goals and accurately measure the model's effectiveness in predicting LGD.\n",
    "\n",
    "Understanding Data Sets: Gain a deep understanding of the provided data sets, including variables, data types, and distributions. Recognize the relevance of each variable to LGD prediction. This understanding is essential for building a meaningful and accurate model.\n",
    "\n",
    "Data Aggregation and Merging: Aggregate and merge relevant information from the collection data set to enhance the predictive power of the model. The merged data should provide comprehensive insights into the factors affecting LGD.\n",
    "\n",
    "Data Types and Quality: Ensure accurate identification of variable data types to prevent datatype mismatch errors. Clean and preprocess the data to handle missing values, outliers, or any issues that might negatively impact the model's performance.\n",
    "\n",
    "Feature Engineering and Extraction: Conduct feature engineering and extraction to create new variables that could enhance the model's predictive capabilities. Introduce features that capture the intricacies of defaulted accounts and contribute to a more accurate LGD prediction."
   ]
  },
  {
   "cell_type": "code",
   "execution_count": 1,
   "id": "085eb05b",
   "metadata": {},
   "outputs": [],
   "source": [
    "#Importing Libraries\n",
    "import pandas as pd\n",
    "import numpy as np\n",
    "import seaborn as sns\n",
    "import matplotlib.pyplot as plt\n",
    "%matplotlib inline"
   ]
  },
  {
   "cell_type": "code",
   "execution_count": 137,
   "id": "83430763",
   "metadata": {},
   "outputs": [],
   "source": [
    "import warnings\n",
    "warnings.filterwarnings(\"ignore\")"
   ]
  },
  {
   "cell_type": "code",
   "execution_count": 279,
   "id": "638e5778",
   "metadata": {},
   "outputs": [],
   "source": [
    "#importing the datasets\n",
    "df_main = pd.read_csv(\"main_loan_base.csv\")\n",
    "df_repayment = pd.read_csv(\"repayment_base.csv\")\n",
    "df_monthly_balance = pd.read_csv(\"monthly_balance_base.csv\")"
   ]
  },
  {
   "cell_type": "code",
   "execution_count": 280,
   "id": "27dd979c",
   "metadata": {},
   "outputs": [
    {
     "data": {
      "text/html": [
       "<div>\n",
       "<style scoped>\n",
       "    .dataframe tbody tr th:only-of-type {\n",
       "        vertical-align: middle;\n",
       "    }\n",
       "\n",
       "    .dataframe tbody tr th {\n",
       "        vertical-align: top;\n",
       "    }\n",
       "\n",
       "    .dataframe thead th {\n",
       "        text-align: right;\n",
       "    }\n",
       "</style>\n",
       "<table border=\"1\" class=\"dataframe\">\n",
       "  <thead>\n",
       "    <tr style=\"text-align: right;\">\n",
       "      <th></th>\n",
       "      <th>loan_acc_num</th>\n",
       "      <th>customer_name</th>\n",
       "      <th>customer_address</th>\n",
       "      <th>loan_type</th>\n",
       "      <th>loan_amount</th>\n",
       "      <th>collateral_value</th>\n",
       "      <th>cheque_bounces</th>\n",
       "      <th>number_of_loans</th>\n",
       "      <th>missed_repayments</th>\n",
       "      <th>vintage_in_months</th>\n",
       "      <th>tenure_years</th>\n",
       "      <th>interest</th>\n",
       "      <th>monthly_emi</th>\n",
       "      <th>disbursal_date</th>\n",
       "      <th>default_date</th>\n",
       "    </tr>\n",
       "  </thead>\n",
       "  <tbody>\n",
       "    <tr>\n",
       "      <th>0</th>\n",
       "      <td>LN79307711</td>\n",
       "      <td>Aarna Sura</td>\n",
       "      <td>09/506, Anand Path, Ongole 646592</td>\n",
       "      <td>Consumer-Durable</td>\n",
       "      <td>21916</td>\n",
       "      <td>4929.47</td>\n",
       "      <td>3</td>\n",
       "      <td>0</td>\n",
       "      <td>3</td>\n",
       "      <td>127</td>\n",
       "      <td>2</td>\n",
       "      <td>10.1</td>\n",
       "      <td>1012.32</td>\n",
       "      <td>2019-04-14</td>\n",
       "      <td>2020-07-31</td>\n",
       "    </tr>\n",
       "    <tr>\n",
       "      <th>1</th>\n",
       "      <td>LN88987787</td>\n",
       "      <td>Amira Konda</td>\n",
       "      <td>11, Dhaliwal Circle\\nRaichur 659460</td>\n",
       "      <td>Two-Wheeler</td>\n",
       "      <td>121184</td>\n",
       "      <td>10254.50</td>\n",
       "      <td>1</td>\n",
       "      <td>0</td>\n",
       "      <td>0</td>\n",
       "      <td>156</td>\n",
       "      <td>2</td>\n",
       "      <td>11.8</td>\n",
       "      <td>5693.24</td>\n",
       "      <td>2015-04-14</td>\n",
       "      <td>2016-07-30</td>\n",
       "    </tr>\n",
       "    <tr>\n",
       "      <th>2</th>\n",
       "      <td>LN78096023</td>\n",
       "      <td>Eshani Khosla</td>\n",
       "      <td>H.No. 31\\nAtwal Street\\nKatihar-037896</td>\n",
       "      <td>Car</td>\n",
       "      <td>487036</td>\n",
       "      <td>116183.86</td>\n",
       "      <td>0</td>\n",
       "      <td>1</td>\n",
       "      <td>10</td>\n",
       "      <td>22</td>\n",
       "      <td>3</td>\n",
       "      <td>14.6</td>\n",
       "      <td>16788.02</td>\n",
       "      <td>2015-01-10</td>\n",
       "      <td>2015-04-18</td>\n",
       "    </tr>\n",
       "    <tr>\n",
       "      <th>3</th>\n",
       "      <td>LN56862431</td>\n",
       "      <td>Divij Kala</td>\n",
       "      <td>766, Gulati Marg\\nPudukkottai-051396</td>\n",
       "      <td>Two-Wheeler</td>\n",
       "      <td>52125</td>\n",
       "      <td>10310.05</td>\n",
       "      <td>5</td>\n",
       "      <td>2</td>\n",
       "      <td>9</td>\n",
       "      <td>30</td>\n",
       "      <td>2</td>\n",
       "      <td>9.6</td>\n",
       "      <td>2395.69</td>\n",
       "      <td>2018-02-07</td>\n",
       "      <td>2018-09-13</td>\n",
       "    </tr>\n",
       "    <tr>\n",
       "      <th>4</th>\n",
       "      <td>LN77262680</td>\n",
       "      <td>Vaibhav Bir</td>\n",
       "      <td>55/73, Sachdev Marg\\nDharmavaram-332966</td>\n",
       "      <td>Consumer-Durable</td>\n",
       "      <td>8635</td>\n",
       "      <td>1051.25</td>\n",
       "      <td>0</td>\n",
       "      <td>1</td>\n",
       "      <td>3</td>\n",
       "      <td>62</td>\n",
       "      <td>2</td>\n",
       "      <td>9.6</td>\n",
       "      <td>396.87</td>\n",
       "      <td>2014-12-25</td>\n",
       "      <td>2016-02-20</td>\n",
       "    </tr>\n",
       "  </tbody>\n",
       "</table>\n",
       "</div>"
      ],
      "text/plain": [
       "  loan_acc_num  customer_name                         customer_address  \\\n",
       "0   LN79307711     Aarna Sura        09/506, Anand Path, Ongole 646592   \n",
       "1   LN88987787    Amira Konda      11, Dhaliwal Circle\\nRaichur 659460   \n",
       "2   LN78096023  Eshani Khosla   H.No. 31\\nAtwal Street\\nKatihar-037896   \n",
       "3   LN56862431     Divij Kala     766, Gulati Marg\\nPudukkottai-051396   \n",
       "4   LN77262680    Vaibhav Bir  55/73, Sachdev Marg\\nDharmavaram-332966   \n",
       "\n",
       "          loan_type  loan_amount  collateral_value  cheque_bounces  \\\n",
       "0  Consumer-Durable        21916           4929.47               3   \n",
       "1       Two-Wheeler       121184          10254.50               1   \n",
       "2               Car       487036         116183.86               0   \n",
       "3       Two-Wheeler        52125          10310.05               5   \n",
       "4  Consumer-Durable         8635           1051.25               0   \n",
       "\n",
       "   number_of_loans  missed_repayments  vintage_in_months  tenure_years  \\\n",
       "0                0                  3                127             2   \n",
       "1                0                  0                156             2   \n",
       "2                1                 10                 22             3   \n",
       "3                2                  9                 30             2   \n",
       "4                1                  3                 62             2   \n",
       "\n",
       "   interest  monthly_emi disbursal_date default_date  \n",
       "0      10.1      1012.32     2019-04-14   2020-07-31  \n",
       "1      11.8      5693.24     2015-04-14   2016-07-30  \n",
       "2      14.6     16788.02     2015-01-10   2015-04-18  \n",
       "3       9.6      2395.69     2018-02-07   2018-09-13  \n",
       "4       9.6       396.87     2014-12-25   2016-02-20  "
      ]
     },
     "execution_count": 280,
     "metadata": {},
     "output_type": "execute_result"
    }
   ],
   "source": [
    "#insepcting the mains dataset\n",
    "df_main.head()"
   ]
  },
  {
   "cell_type": "code",
   "execution_count": 281,
   "id": "77d59a15",
   "metadata": {},
   "outputs": [
    {
     "data": {
      "text/plain": [
       "loan_acc_num         0.0\n",
       "customer_name        0.0\n",
       "customer_address     0.0\n",
       "loan_type            0.0\n",
       "loan_amount          0.0\n",
       "collateral_value     0.0\n",
       "cheque_bounces       0.0\n",
       "number_of_loans      0.0\n",
       "missed_repayments    0.0\n",
       "vintage_in_months    0.0\n",
       "tenure_years         0.0\n",
       "interest             0.0\n",
       "monthly_emi          0.0\n",
       "disbursal_date       0.0\n",
       "default_date         0.0\n",
       "dtype: float64"
      ]
     },
     "execution_count": 281,
     "metadata": {},
     "output_type": "execute_result"
    }
   ],
   "source": [
    "#Checking for nulls\n",
    "null_perc= df_main.isnull().sum().sort_values(ascending=False)/len(df_main.index)*100\n",
    "null_perc"
   ]
  },
  {
   "cell_type": "code",
   "execution_count": 282,
   "id": "27bd5833",
   "metadata": {},
   "outputs": [
    {
     "name": "stdout",
     "output_type": "stream",
     "text": [
      "<class 'pandas.core.frame.DataFrame'>\n",
      "RangeIndex: 50000 entries, 0 to 49999\n",
      "Data columns (total 15 columns):\n",
      " #   Column             Non-Null Count  Dtype  \n",
      "---  ------             --------------  -----  \n",
      " 0   loan_acc_num       50000 non-null  object \n",
      " 1   customer_name      50000 non-null  object \n",
      " 2   customer_address   50000 non-null  object \n",
      " 3   loan_type          50000 non-null  object \n",
      " 4   loan_amount        50000 non-null  int64  \n",
      " 5   collateral_value   50000 non-null  float64\n",
      " 6   cheque_bounces     50000 non-null  int64  \n",
      " 7   number_of_loans    50000 non-null  int64  \n",
      " 8   missed_repayments  50000 non-null  int64  \n",
      " 9   vintage_in_months  50000 non-null  int64  \n",
      " 10  tenure_years       50000 non-null  int64  \n",
      " 11  interest           50000 non-null  float64\n",
      " 12  monthly_emi        50000 non-null  float64\n",
      " 13  disbursal_date     50000 non-null  object \n",
      " 14  default_date       50000 non-null  object \n",
      "dtypes: float64(3), int64(6), object(6)\n",
      "memory usage: 5.7+ MB\n"
     ]
    }
   ],
   "source": [
    "#Checking the variables of mains dataset\n",
    "df_main.info()"
   ]
  },
  {
   "cell_type": "markdown",
   "id": "522a3a26",
   "metadata": {},
   "source": [
    "The columns disbursal date and default date are stored as object data type, we need to convert them to date time format"
   ]
  },
  {
   "cell_type": "code",
   "execution_count": 283,
   "id": "d50ea9e9",
   "metadata": {},
   "outputs": [
    {
     "data": {
      "text/plain": [
       "(50000, 15)"
      ]
     },
     "execution_count": 283,
     "metadata": {},
     "output_type": "execute_result"
    }
   ],
   "source": [
    "#Checking shape\n",
    "df_main.shape"
   ]
  },
  {
   "cell_type": "code",
   "execution_count": 284,
   "id": "b1778cce",
   "metadata": {},
   "outputs": [],
   "source": [
    "#Dropping Duplicates in loan_acc_num\n",
    "df_main=df_main.drop_duplicates(subset=\"loan_acc_num\")"
   ]
  },
  {
   "cell_type": "code",
   "execution_count": 285,
   "id": "7b81e1e2",
   "metadata": {},
   "outputs": [
    {
     "data": {
      "text/plain": [
       "(49985, 15)"
      ]
     },
     "execution_count": 285,
     "metadata": {},
     "output_type": "execute_result"
    }
   ],
   "source": [
    "#Checking shape after dropping duplicates\n",
    "df_main.shape"
   ]
  },
  {
   "cell_type": "code",
   "execution_count": 286,
   "id": "83ed214d",
   "metadata": {},
   "outputs": [
    {
     "data": {
      "text/html": [
       "<div>\n",
       "<style scoped>\n",
       "    .dataframe tbody tr th:only-of-type {\n",
       "        vertical-align: middle;\n",
       "    }\n",
       "\n",
       "    .dataframe tbody tr th {\n",
       "        vertical-align: top;\n",
       "    }\n",
       "\n",
       "    .dataframe thead th {\n",
       "        text-align: right;\n",
       "    }\n",
       "</style>\n",
       "<table border=\"1\" class=\"dataframe\">\n",
       "  <thead>\n",
       "    <tr style=\"text-align: right;\">\n",
       "      <th></th>\n",
       "      <th>loan_acc_num</th>\n",
       "      <th>repayment_amount</th>\n",
       "      <th>repayment_date</th>\n",
       "    </tr>\n",
       "  </thead>\n",
       "  <tbody>\n",
       "    <tr>\n",
       "      <th>0</th>\n",
       "      <td>LN79307711</td>\n",
       "      <td>1012.320000</td>\n",
       "      <td>2019-05-18</td>\n",
       "    </tr>\n",
       "    <tr>\n",
       "      <th>1</th>\n",
       "      <td>LN79307711</td>\n",
       "      <td>667.987539</td>\n",
       "      <td>2019-06-20</td>\n",
       "    </tr>\n",
       "    <tr>\n",
       "      <th>2</th>\n",
       "      <td>LN79307711</td>\n",
       "      <td>1012.320000</td>\n",
       "      <td>2019-07-16</td>\n",
       "    </tr>\n",
       "    <tr>\n",
       "      <th>3</th>\n",
       "      <td>LN79307711</td>\n",
       "      <td>1012.320000</td>\n",
       "      <td>2019-08-16</td>\n",
       "    </tr>\n",
       "    <tr>\n",
       "      <th>4</th>\n",
       "      <td>LN79307711</td>\n",
       "      <td>1012.320000</td>\n",
       "      <td>2019-09-22</td>\n",
       "    </tr>\n",
       "  </tbody>\n",
       "</table>\n",
       "</div>"
      ],
      "text/plain": [
       "  loan_acc_num  repayment_amount repayment_date\n",
       "0   LN79307711       1012.320000     2019-05-18\n",
       "1   LN79307711        667.987539     2019-06-20\n",
       "2   LN79307711       1012.320000     2019-07-16\n",
       "3   LN79307711       1012.320000     2019-08-16\n",
       "4   LN79307711       1012.320000     2019-09-22"
      ]
     },
     "execution_count": 286,
     "metadata": {},
     "output_type": "execute_result"
    }
   ],
   "source": [
    "#insepcting the repayment dataset\n",
    "df_repayment.head()"
   ]
  },
  {
   "cell_type": "code",
   "execution_count": 287,
   "id": "d53b33c2",
   "metadata": {},
   "outputs": [
    {
     "data": {
      "text/plain": [
       "(626601, 3)"
      ]
     },
     "execution_count": 287,
     "metadata": {},
     "output_type": "execute_result"
    }
   ],
   "source": [
    "#Checking shape of repayment dataset\n",
    "df_repayment.shape"
   ]
  },
  {
   "cell_type": "code",
   "execution_count": 288,
   "id": "b9870955",
   "metadata": {},
   "outputs": [
    {
     "data": {
      "text/plain": [
       "loan_acc_num        0.0\n",
       "repayment_amount    0.0\n",
       "repayment_date      0.0\n",
       "dtype: float64"
      ]
     },
     "execution_count": 288,
     "metadata": {},
     "output_type": "execute_result"
    }
   ],
   "source": [
    "#Checking for nulls\n",
    "null_perc= df_repayment.isnull().sum().sort_values(ascending=False)/len(df_repayment.index)*100\n",
    "null_perc"
   ]
  },
  {
   "cell_type": "code",
   "execution_count": 289,
   "id": "b548eeb7",
   "metadata": {},
   "outputs": [],
   "source": [
    "#Aggregating the repayment amount by loan account number\n",
    "df_repayment=df_repayment.groupby('loan_acc_num').sum()"
   ]
  },
  {
   "cell_type": "code",
   "execution_count": 290,
   "id": "91628d02",
   "metadata": {},
   "outputs": [
    {
     "data": {
      "text/html": [
       "<div>\n",
       "<style scoped>\n",
       "    .dataframe tbody tr th:only-of-type {\n",
       "        vertical-align: middle;\n",
       "    }\n",
       "\n",
       "    .dataframe tbody tr th {\n",
       "        vertical-align: top;\n",
       "    }\n",
       "\n",
       "    .dataframe thead th {\n",
       "        text-align: right;\n",
       "    }\n",
       "</style>\n",
       "<table border=\"1\" class=\"dataframe\">\n",
       "  <thead>\n",
       "    <tr style=\"text-align: right;\">\n",
       "      <th></th>\n",
       "      <th>repayment_amount</th>\n",
       "    </tr>\n",
       "    <tr>\n",
       "      <th>loan_acc_num</th>\n",
       "      <th></th>\n",
       "    </tr>\n",
       "  </thead>\n",
       "  <tbody>\n",
       "    <tr>\n",
       "      <th>LN10000701</th>\n",
       "      <td>40020.990845</td>\n",
       "    </tr>\n",
       "    <tr>\n",
       "      <th>LN10001077</th>\n",
       "      <td>112218.467834</td>\n",
       "    </tr>\n",
       "    <tr>\n",
       "      <th>LN10004116</th>\n",
       "      <td>290634.935049</td>\n",
       "    </tr>\n",
       "    <tr>\n",
       "      <th>LN10007976</th>\n",
       "      <td>337321.715542</td>\n",
       "    </tr>\n",
       "    <tr>\n",
       "      <th>LN10010204</th>\n",
       "      <td>61290.488288</td>\n",
       "    </tr>\n",
       "  </tbody>\n",
       "</table>\n",
       "</div>"
      ],
      "text/plain": [
       "              repayment_amount\n",
       "loan_acc_num                  \n",
       "LN10000701        40020.990845\n",
       "LN10001077       112218.467834\n",
       "LN10004116       290634.935049\n",
       "LN10007976       337321.715542\n",
       "LN10010204        61290.488288"
      ]
     },
     "execution_count": 290,
     "metadata": {},
     "output_type": "execute_result"
    }
   ],
   "source": [
    "df_repayment.head()"
   ]
  },
  {
   "cell_type": "code",
   "execution_count": 291,
   "id": "83c8ae37",
   "metadata": {},
   "outputs": [],
   "source": [
    "#merging the main and repayment dataset\n",
    "df_train = pd.merge(\n",
    "    left=df_main,\n",
    "    right=df_repayment,\n",
    "    left_on='loan_acc_num',\n",
    "    right_on='loan_acc_num',\n",
    "    how='left'\n",
    ")"
   ]
  },
  {
   "cell_type": "code",
   "execution_count": 292,
   "id": "ee7b65fc",
   "metadata": {},
   "outputs": [
    {
     "data": {
      "text/html": [
       "<div>\n",
       "<style scoped>\n",
       "    .dataframe tbody tr th:only-of-type {\n",
       "        vertical-align: middle;\n",
       "    }\n",
       "\n",
       "    .dataframe tbody tr th {\n",
       "        vertical-align: top;\n",
       "    }\n",
       "\n",
       "    .dataframe thead th {\n",
       "        text-align: right;\n",
       "    }\n",
       "</style>\n",
       "<table border=\"1\" class=\"dataframe\">\n",
       "  <thead>\n",
       "    <tr style=\"text-align: right;\">\n",
       "      <th></th>\n",
       "      <th>loan_acc_num</th>\n",
       "      <th>customer_name</th>\n",
       "      <th>customer_address</th>\n",
       "      <th>loan_type</th>\n",
       "      <th>loan_amount</th>\n",
       "      <th>collateral_value</th>\n",
       "      <th>cheque_bounces</th>\n",
       "      <th>number_of_loans</th>\n",
       "      <th>missed_repayments</th>\n",
       "      <th>vintage_in_months</th>\n",
       "      <th>tenure_years</th>\n",
       "      <th>interest</th>\n",
       "      <th>monthly_emi</th>\n",
       "      <th>disbursal_date</th>\n",
       "      <th>default_date</th>\n",
       "      <th>repayment_amount</th>\n",
       "    </tr>\n",
       "  </thead>\n",
       "  <tbody>\n",
       "    <tr>\n",
       "      <th>0</th>\n",
       "      <td>LN79307711</td>\n",
       "      <td>Aarna Sura</td>\n",
       "      <td>09/506, Anand Path, Ongole 646592</td>\n",
       "      <td>Consumer-Durable</td>\n",
       "      <td>21916</td>\n",
       "      <td>4929.47</td>\n",
       "      <td>3</td>\n",
       "      <td>0</td>\n",
       "      <td>3</td>\n",
       "      <td>127</td>\n",
       "      <td>2</td>\n",
       "      <td>10.1</td>\n",
       "      <td>1012.32</td>\n",
       "      <td>2019-04-14</td>\n",
       "      <td>2020-07-31</td>\n",
       "      <td>13572.577778</td>\n",
       "    </tr>\n",
       "    <tr>\n",
       "      <th>1</th>\n",
       "      <td>LN88987787</td>\n",
       "      <td>Amira Konda</td>\n",
       "      <td>11, Dhaliwal Circle\\nRaichur 659460</td>\n",
       "      <td>Two-Wheeler</td>\n",
       "      <td>121184</td>\n",
       "      <td>10254.50</td>\n",
       "      <td>1</td>\n",
       "      <td>0</td>\n",
       "      <td>0</td>\n",
       "      <td>156</td>\n",
       "      <td>2</td>\n",
       "      <td>11.8</td>\n",
       "      <td>5693.24</td>\n",
       "      <td>2015-04-14</td>\n",
       "      <td>2016-07-30</td>\n",
       "      <td>96243.609484</td>\n",
       "    </tr>\n",
       "    <tr>\n",
       "      <th>2</th>\n",
       "      <td>LN78096023</td>\n",
       "      <td>Eshani Khosla</td>\n",
       "      <td>H.No. 31\\nAtwal Street\\nKatihar-037896</td>\n",
       "      <td>Car</td>\n",
       "      <td>487036</td>\n",
       "      <td>116183.86</td>\n",
       "      <td>0</td>\n",
       "      <td>1</td>\n",
       "      <td>10</td>\n",
       "      <td>22</td>\n",
       "      <td>3</td>\n",
       "      <td>14.6</td>\n",
       "      <td>16788.02</td>\n",
       "      <td>2015-01-10</td>\n",
       "      <td>2015-04-18</td>\n",
       "      <td>74083.731181</td>\n",
       "    </tr>\n",
       "    <tr>\n",
       "      <th>3</th>\n",
       "      <td>LN56862431</td>\n",
       "      <td>Divij Kala</td>\n",
       "      <td>766, Gulati Marg\\nPudukkottai-051396</td>\n",
       "      <td>Two-Wheeler</td>\n",
       "      <td>52125</td>\n",
       "      <td>10310.05</td>\n",
       "      <td>5</td>\n",
       "      <td>2</td>\n",
       "      <td>9</td>\n",
       "      <td>30</td>\n",
       "      <td>2</td>\n",
       "      <td>9.6</td>\n",
       "      <td>2395.69</td>\n",
       "      <td>2018-02-07</td>\n",
       "      <td>2018-09-13</td>\n",
       "      <td>NaN</td>\n",
       "    </tr>\n",
       "    <tr>\n",
       "      <th>4</th>\n",
       "      <td>LN77262680</td>\n",
       "      <td>Vaibhav Bir</td>\n",
       "      <td>55/73, Sachdev Marg\\nDharmavaram-332966</td>\n",
       "      <td>Consumer-Durable</td>\n",
       "      <td>8635</td>\n",
       "      <td>1051.25</td>\n",
       "      <td>0</td>\n",
       "      <td>1</td>\n",
       "      <td>3</td>\n",
       "      <td>62</td>\n",
       "      <td>2</td>\n",
       "      <td>9.6</td>\n",
       "      <td>396.87</td>\n",
       "      <td>2014-12-25</td>\n",
       "      <td>2016-02-20</td>\n",
       "      <td>4462.514597</td>\n",
       "    </tr>\n",
       "  </tbody>\n",
       "</table>\n",
       "</div>"
      ],
      "text/plain": [
       "  loan_acc_num  customer_name                         customer_address  \\\n",
       "0   LN79307711     Aarna Sura        09/506, Anand Path, Ongole 646592   \n",
       "1   LN88987787    Amira Konda      11, Dhaliwal Circle\\nRaichur 659460   \n",
       "2   LN78096023  Eshani Khosla   H.No. 31\\nAtwal Street\\nKatihar-037896   \n",
       "3   LN56862431     Divij Kala     766, Gulati Marg\\nPudukkottai-051396   \n",
       "4   LN77262680    Vaibhav Bir  55/73, Sachdev Marg\\nDharmavaram-332966   \n",
       "\n",
       "          loan_type  loan_amount  collateral_value  cheque_bounces  \\\n",
       "0  Consumer-Durable        21916           4929.47               3   \n",
       "1       Two-Wheeler       121184          10254.50               1   \n",
       "2               Car       487036         116183.86               0   \n",
       "3       Two-Wheeler        52125          10310.05               5   \n",
       "4  Consumer-Durable         8635           1051.25               0   \n",
       "\n",
       "   number_of_loans  missed_repayments  vintage_in_months  tenure_years  \\\n",
       "0                0                  3                127             2   \n",
       "1                0                  0                156             2   \n",
       "2                1                 10                 22             3   \n",
       "3                2                  9                 30             2   \n",
       "4                1                  3                 62             2   \n",
       "\n",
       "   interest  monthly_emi disbursal_date default_date  repayment_amount  \n",
       "0      10.1      1012.32     2019-04-14   2020-07-31      13572.577778  \n",
       "1      11.8      5693.24     2015-04-14   2016-07-30      96243.609484  \n",
       "2      14.6     16788.02     2015-01-10   2015-04-18      74083.731181  \n",
       "3       9.6      2395.69     2018-02-07   2018-09-13               NaN  \n",
       "4       9.6       396.87     2014-12-25   2016-02-20       4462.514597  "
      ]
     },
     "execution_count": 292,
     "metadata": {},
     "output_type": "execute_result"
    }
   ],
   "source": [
    "df_train.head()"
   ]
  },
  {
   "cell_type": "markdown",
   "id": "ccd53b27",
   "metadata": {},
   "source": [
    "Assuming people with nulls as repayment amount has made no repayments and replacing nulls with 0"
   ]
  },
  {
   "cell_type": "code",
   "execution_count": 293,
   "id": "65a4b4d4",
   "metadata": {},
   "outputs": [],
   "source": [
    "#Replacing nulls\n",
    "df_train=df_train.fillna(0)"
   ]
  },
  {
   "cell_type": "code",
   "execution_count": 294,
   "id": "b1ac11eb",
   "metadata": {},
   "outputs": [
    {
     "data": {
      "text/plain": [
       "loan_acc_num         0.0\n",
       "customer_name        0.0\n",
       "customer_address     0.0\n",
       "loan_type            0.0\n",
       "loan_amount          0.0\n",
       "collateral_value     0.0\n",
       "cheque_bounces       0.0\n",
       "number_of_loans      0.0\n",
       "missed_repayments    0.0\n",
       "vintage_in_months    0.0\n",
       "tenure_years         0.0\n",
       "interest             0.0\n",
       "monthly_emi          0.0\n",
       "disbursal_date       0.0\n",
       "default_date         0.0\n",
       "repayment_amount     0.0\n",
       "dtype: float64"
      ]
     },
     "execution_count": 294,
     "metadata": {},
     "output_type": "execute_result"
    }
   ],
   "source": [
    "#Checking for nulls\n",
    "null_perc= df_train.isnull().sum().sort_values(ascending=False)/len(df_train.index)*100\n",
    "null_perc"
   ]
  },
  {
   "cell_type": "code",
   "execution_count": 295,
   "id": "bf88bfc1",
   "metadata": {},
   "outputs": [
    {
     "data": {
      "text/html": [
       "<div>\n",
       "<style scoped>\n",
       "    .dataframe tbody tr th:only-of-type {\n",
       "        vertical-align: middle;\n",
       "    }\n",
       "\n",
       "    .dataframe tbody tr th {\n",
       "        vertical-align: top;\n",
       "    }\n",
       "\n",
       "    .dataframe thead th {\n",
       "        text-align: right;\n",
       "    }\n",
       "</style>\n",
       "<table border=\"1\" class=\"dataframe\">\n",
       "  <thead>\n",
       "    <tr style=\"text-align: right;\">\n",
       "      <th></th>\n",
       "      <th>loan_acc_num</th>\n",
       "      <th>date</th>\n",
       "      <th>balance_amount</th>\n",
       "    </tr>\n",
       "  </thead>\n",
       "  <tbody>\n",
       "    <tr>\n",
       "      <th>0</th>\n",
       "      <td>LN79307711</td>\n",
       "      <td>2010-03-26</td>\n",
       "      <td>407.343213</td>\n",
       "    </tr>\n",
       "    <tr>\n",
       "      <th>1</th>\n",
       "      <td>LN79307711</td>\n",
       "      <td>2010-04-25</td>\n",
       "      <td>545.431227</td>\n",
       "    </tr>\n",
       "    <tr>\n",
       "      <th>2</th>\n",
       "      <td>LN79307711</td>\n",
       "      <td>2010-05-25</td>\n",
       "      <td>861.932145</td>\n",
       "    </tr>\n",
       "    <tr>\n",
       "      <th>3</th>\n",
       "      <td>LN79307711</td>\n",
       "      <td>2010-06-24</td>\n",
       "      <td>562.082133</td>\n",
       "    </tr>\n",
       "    <tr>\n",
       "      <th>4</th>\n",
       "      <td>LN79307711</td>\n",
       "      <td>2010-07-24</td>\n",
       "      <td>37.768861</td>\n",
       "    </tr>\n",
       "  </tbody>\n",
       "</table>\n",
       "</div>"
      ],
      "text/plain": [
       "  loan_acc_num        date  balance_amount\n",
       "0   LN79307711  2010-03-26      407.343213\n",
       "1   LN79307711  2010-04-25      545.431227\n",
       "2   LN79307711  2010-05-25      861.932145\n",
       "3   LN79307711  2010-06-24      562.082133\n",
       "4   LN79307711  2010-07-24       37.768861"
      ]
     },
     "execution_count": 295,
     "metadata": {},
     "output_type": "execute_result"
    }
   ],
   "source": [
    "#insepcting the monthly balance dataset\n",
    "df_monthly_balance.head()"
   ]
  },
  {
   "cell_type": "code",
   "execution_count": 296,
   "id": "ad3743fb",
   "metadata": {},
   "outputs": [
    {
     "data": {
      "text/plain": [
       "(4002490, 3)"
      ]
     },
     "execution_count": 296,
     "metadata": {},
     "output_type": "execute_result"
    }
   ],
   "source": [
    "#Checking shape of repayment dataset\n",
    "df_monthly_balance.shape"
   ]
  },
  {
   "cell_type": "code",
   "execution_count": 297,
   "id": "a2b2ebfe",
   "metadata": {},
   "outputs": [
    {
     "data": {
      "text/plain": [
       "loan_acc_num      0.0\n",
       "date              0.0\n",
       "balance_amount    0.0\n",
       "dtype: float64"
      ]
     },
     "execution_count": 297,
     "metadata": {},
     "output_type": "execute_result"
    }
   ],
   "source": [
    "#Checking for nulls\n",
    "null_perc= df_monthly_balance.isnull().sum().sort_values(ascending=False)/len(df_monthly_balance.index)*100\n",
    "null_perc"
   ]
  },
  {
   "cell_type": "code",
   "execution_count": 298,
   "id": "0fa3e4da",
   "metadata": {},
   "outputs": [],
   "source": [
    "#Aggregating the monthly balance by loan account number\n",
    "df_monthly_balance=df_monthly_balance.groupby('loan_acc_num').mean()"
   ]
  },
  {
   "cell_type": "code",
   "execution_count": 299,
   "id": "7baf2655",
   "metadata": {},
   "outputs": [
    {
     "data": {
      "text/html": [
       "<div>\n",
       "<style scoped>\n",
       "    .dataframe tbody tr th:only-of-type {\n",
       "        vertical-align: middle;\n",
       "    }\n",
       "\n",
       "    .dataframe tbody tr th {\n",
       "        vertical-align: top;\n",
       "    }\n",
       "\n",
       "    .dataframe thead th {\n",
       "        text-align: right;\n",
       "    }\n",
       "</style>\n",
       "<table border=\"1\" class=\"dataframe\">\n",
       "  <thead>\n",
       "    <tr style=\"text-align: right;\">\n",
       "      <th></th>\n",
       "      <th>balance_amount</th>\n",
       "    </tr>\n",
       "    <tr>\n",
       "      <th>loan_acc_num</th>\n",
       "      <th></th>\n",
       "    </tr>\n",
       "  </thead>\n",
       "  <tbody>\n",
       "    <tr>\n",
       "      <th>LN10000701</th>\n",
       "      <td>2301.879193</td>\n",
       "    </tr>\n",
       "    <tr>\n",
       "      <th>LN10001077</th>\n",
       "      <td>2296.279543</td>\n",
       "    </tr>\n",
       "    <tr>\n",
       "      <th>LN10004116</th>\n",
       "      <td>8887.380832</td>\n",
       "    </tr>\n",
       "    <tr>\n",
       "      <th>LN10007976</th>\n",
       "      <td>9420.561560</td>\n",
       "    </tr>\n",
       "    <tr>\n",
       "      <th>LN10010204</th>\n",
       "      <td>6446.205233</td>\n",
       "    </tr>\n",
       "  </tbody>\n",
       "</table>\n",
       "</div>"
      ],
      "text/plain": [
       "              balance_amount\n",
       "loan_acc_num                \n",
       "LN10000701       2301.879193\n",
       "LN10001077       2296.279543\n",
       "LN10004116       8887.380832\n",
       "LN10007976       9420.561560\n",
       "LN10010204       6446.205233"
      ]
     },
     "execution_count": 299,
     "metadata": {},
     "output_type": "execute_result"
    }
   ],
   "source": [
    "df_monthly_balance.head()"
   ]
  },
  {
   "cell_type": "code",
   "execution_count": 300,
   "id": "9e3fe574",
   "metadata": {},
   "outputs": [],
   "source": [
    "#merging the train and monthly balance dataset\n",
    "df_train = pd.merge(\n",
    "    left=df_train,\n",
    "    right=df_monthly_balance,\n",
    "    left_on='loan_acc_num',\n",
    "    right_on='loan_acc_num',\n",
    "    how='left'\n",
    ")"
   ]
  },
  {
   "cell_type": "code",
   "execution_count": 301,
   "id": "ab49ccd5",
   "metadata": {},
   "outputs": [
    {
     "data": {
      "text/html": [
       "<div>\n",
       "<style scoped>\n",
       "    .dataframe tbody tr th:only-of-type {\n",
       "        vertical-align: middle;\n",
       "    }\n",
       "\n",
       "    .dataframe tbody tr th {\n",
       "        vertical-align: top;\n",
       "    }\n",
       "\n",
       "    .dataframe thead th {\n",
       "        text-align: right;\n",
       "    }\n",
       "</style>\n",
       "<table border=\"1\" class=\"dataframe\">\n",
       "  <thead>\n",
       "    <tr style=\"text-align: right;\">\n",
       "      <th></th>\n",
       "      <th>loan_acc_num</th>\n",
       "      <th>customer_name</th>\n",
       "      <th>customer_address</th>\n",
       "      <th>loan_type</th>\n",
       "      <th>loan_amount</th>\n",
       "      <th>collateral_value</th>\n",
       "      <th>cheque_bounces</th>\n",
       "      <th>number_of_loans</th>\n",
       "      <th>missed_repayments</th>\n",
       "      <th>vintage_in_months</th>\n",
       "      <th>tenure_years</th>\n",
       "      <th>interest</th>\n",
       "      <th>monthly_emi</th>\n",
       "      <th>disbursal_date</th>\n",
       "      <th>default_date</th>\n",
       "      <th>repayment_amount</th>\n",
       "      <th>balance_amount</th>\n",
       "    </tr>\n",
       "  </thead>\n",
       "  <tbody>\n",
       "    <tr>\n",
       "      <th>0</th>\n",
       "      <td>LN79307711</td>\n",
       "      <td>Aarna Sura</td>\n",
       "      <td>09/506, Anand Path, Ongole 646592</td>\n",
       "      <td>Consumer-Durable</td>\n",
       "      <td>21916</td>\n",
       "      <td>4929.47</td>\n",
       "      <td>3</td>\n",
       "      <td>0</td>\n",
       "      <td>3</td>\n",
       "      <td>127</td>\n",
       "      <td>2</td>\n",
       "      <td>10.1</td>\n",
       "      <td>1012.32</td>\n",
       "      <td>2019-04-14</td>\n",
       "      <td>2020-07-31</td>\n",
       "      <td>13572.577778</td>\n",
       "      <td>585.514569</td>\n",
       "    </tr>\n",
       "    <tr>\n",
       "      <th>1</th>\n",
       "      <td>LN88987787</td>\n",
       "      <td>Amira Konda</td>\n",
       "      <td>11, Dhaliwal Circle\\nRaichur 659460</td>\n",
       "      <td>Two-Wheeler</td>\n",
       "      <td>121184</td>\n",
       "      <td>10254.50</td>\n",
       "      <td>1</td>\n",
       "      <td>0</td>\n",
       "      <td>0</td>\n",
       "      <td>156</td>\n",
       "      <td>2</td>\n",
       "      <td>11.8</td>\n",
       "      <td>5693.24</td>\n",
       "      <td>2015-04-14</td>\n",
       "      <td>2016-07-30</td>\n",
       "      <td>96243.609484</td>\n",
       "      <td>7382.030208</td>\n",
       "    </tr>\n",
       "    <tr>\n",
       "      <th>2</th>\n",
       "      <td>LN78096023</td>\n",
       "      <td>Eshani Khosla</td>\n",
       "      <td>H.No. 31\\nAtwal Street\\nKatihar-037896</td>\n",
       "      <td>Car</td>\n",
       "      <td>487036</td>\n",
       "      <td>116183.86</td>\n",
       "      <td>0</td>\n",
       "      <td>1</td>\n",
       "      <td>10</td>\n",
       "      <td>22</td>\n",
       "      <td>3</td>\n",
       "      <td>14.6</td>\n",
       "      <td>16788.02</td>\n",
       "      <td>2015-01-10</td>\n",
       "      <td>2015-04-18</td>\n",
       "      <td>74083.731181</td>\n",
       "      <td>7812.884926</td>\n",
       "    </tr>\n",
       "    <tr>\n",
       "      <th>3</th>\n",
       "      <td>LN56862431</td>\n",
       "      <td>Divij Kala</td>\n",
       "      <td>766, Gulati Marg\\nPudukkottai-051396</td>\n",
       "      <td>Two-Wheeler</td>\n",
       "      <td>52125</td>\n",
       "      <td>10310.05</td>\n",
       "      <td>5</td>\n",
       "      <td>2</td>\n",
       "      <td>9</td>\n",
       "      <td>30</td>\n",
       "      <td>2</td>\n",
       "      <td>9.6</td>\n",
       "      <td>2395.69</td>\n",
       "      <td>2018-02-07</td>\n",
       "      <td>2018-09-13</td>\n",
       "      <td>0.000000</td>\n",
       "      <td>518.081369</td>\n",
       "    </tr>\n",
       "    <tr>\n",
       "      <th>4</th>\n",
       "      <td>LN77262680</td>\n",
       "      <td>Vaibhav Bir</td>\n",
       "      <td>55/73, Sachdev Marg\\nDharmavaram-332966</td>\n",
       "      <td>Consumer-Durable</td>\n",
       "      <td>8635</td>\n",
       "      <td>1051.25</td>\n",
       "      <td>0</td>\n",
       "      <td>1</td>\n",
       "      <td>3</td>\n",
       "      <td>62</td>\n",
       "      <td>2</td>\n",
       "      <td>9.6</td>\n",
       "      <td>396.87</td>\n",
       "      <td>2014-12-25</td>\n",
       "      <td>2016-02-20</td>\n",
       "      <td>4462.514597</td>\n",
       "      <td>323.679233</td>\n",
       "    </tr>\n",
       "  </tbody>\n",
       "</table>\n",
       "</div>"
      ],
      "text/plain": [
       "  loan_acc_num  customer_name                         customer_address  \\\n",
       "0   LN79307711     Aarna Sura        09/506, Anand Path, Ongole 646592   \n",
       "1   LN88987787    Amira Konda      11, Dhaliwal Circle\\nRaichur 659460   \n",
       "2   LN78096023  Eshani Khosla   H.No. 31\\nAtwal Street\\nKatihar-037896   \n",
       "3   LN56862431     Divij Kala     766, Gulati Marg\\nPudukkottai-051396   \n",
       "4   LN77262680    Vaibhav Bir  55/73, Sachdev Marg\\nDharmavaram-332966   \n",
       "\n",
       "          loan_type  loan_amount  collateral_value  cheque_bounces  \\\n",
       "0  Consumer-Durable        21916           4929.47               3   \n",
       "1       Two-Wheeler       121184          10254.50               1   \n",
       "2               Car       487036         116183.86               0   \n",
       "3       Two-Wheeler        52125          10310.05               5   \n",
       "4  Consumer-Durable         8635           1051.25               0   \n",
       "\n",
       "   number_of_loans  missed_repayments  vintage_in_months  tenure_years  \\\n",
       "0                0                  3                127             2   \n",
       "1                0                  0                156             2   \n",
       "2                1                 10                 22             3   \n",
       "3                2                  9                 30             2   \n",
       "4                1                  3                 62             2   \n",
       "\n",
       "   interest  monthly_emi disbursal_date default_date  repayment_amount  \\\n",
       "0      10.1      1012.32     2019-04-14   2020-07-31      13572.577778   \n",
       "1      11.8      5693.24     2015-04-14   2016-07-30      96243.609484   \n",
       "2      14.6     16788.02     2015-01-10   2015-04-18      74083.731181   \n",
       "3       9.6      2395.69     2018-02-07   2018-09-13          0.000000   \n",
       "4       9.6       396.87     2014-12-25   2016-02-20       4462.514597   \n",
       "\n",
       "   balance_amount  \n",
       "0      585.514569  \n",
       "1     7382.030208  \n",
       "2     7812.884926  \n",
       "3      518.081369  \n",
       "4      323.679233  "
      ]
     },
     "execution_count": 301,
     "metadata": {},
     "output_type": "execute_result"
    }
   ],
   "source": [
    "#Inspecting the merged dataset\n",
    "df_train.head()"
   ]
  },
  {
   "cell_type": "code",
   "execution_count": 302,
   "id": "c087a434",
   "metadata": {},
   "outputs": [
    {
     "data": {
      "text/plain": [
       "balance_amount       0.628188\n",
       "vintage_in_months    0.000000\n",
       "repayment_amount     0.000000\n",
       "default_date         0.000000\n",
       "disbursal_date       0.000000\n",
       "monthly_emi          0.000000\n",
       "interest             0.000000\n",
       "tenure_years         0.000000\n",
       "loan_acc_num         0.000000\n",
       "customer_name        0.000000\n",
       "number_of_loans      0.000000\n",
       "cheque_bounces       0.000000\n",
       "collateral_value     0.000000\n",
       "loan_amount          0.000000\n",
       "loan_type            0.000000\n",
       "customer_address     0.000000\n",
       "missed_repayments    0.000000\n",
       "dtype: float64"
      ]
     },
     "execution_count": 302,
     "metadata": {},
     "output_type": "execute_result"
    }
   ],
   "source": [
    "#Checking for nulls\n",
    "null_perc= df_train.isnull().sum().sort_values(ascending=False)/len(df_train.index)*100\n",
    "null_perc"
   ]
  },
  {
   "cell_type": "markdown",
   "id": "651ca17c",
   "metadata": {},
   "source": [
    "We have ~0.6% rows with no monthly balance, this can be due to two reasons: \n",
    "1. These people didn't provide correct account info\n",
    "2. The monthly balance is 0"
   ]
  },
  {
   "cell_type": "code",
   "execution_count": 303,
   "id": "3a2bfda4",
   "metadata": {},
   "outputs": [],
   "source": [
    "# Removing the nulls from the dataframe\n",
    "df_train=df_train.dropna()"
   ]
  },
  {
   "cell_type": "code",
   "execution_count": 304,
   "id": "61d07dd0",
   "metadata": {},
   "outputs": [
    {
     "name": "stdout",
     "output_type": "stream",
     "text": [
      "<class 'pandas.core.frame.DataFrame'>\n",
      "Int64Index: 49671 entries, 0 to 49984\n",
      "Data columns (total 17 columns):\n",
      " #   Column             Non-Null Count  Dtype  \n",
      "---  ------             --------------  -----  \n",
      " 0   loan_acc_num       49671 non-null  object \n",
      " 1   customer_name      49671 non-null  object \n",
      " 2   customer_address   49671 non-null  object \n",
      " 3   loan_type          49671 non-null  object \n",
      " 4   loan_amount        49671 non-null  int64  \n",
      " 5   collateral_value   49671 non-null  float64\n",
      " 6   cheque_bounces     49671 non-null  int64  \n",
      " 7   number_of_loans    49671 non-null  int64  \n",
      " 8   missed_repayments  49671 non-null  int64  \n",
      " 9   vintage_in_months  49671 non-null  int64  \n",
      " 10  tenure_years       49671 non-null  int64  \n",
      " 11  interest           49671 non-null  float64\n",
      " 12  monthly_emi        49671 non-null  float64\n",
      " 13  disbursal_date     49671 non-null  object \n",
      " 14  default_date       49671 non-null  object \n",
      " 15  repayment_amount   49671 non-null  float64\n",
      " 16  balance_amount     49671 non-null  float64\n",
      "dtypes: float64(5), int64(6), object(6)\n",
      "memory usage: 6.8+ MB\n"
     ]
    }
   ],
   "source": [
    "df_train.info()"
   ]
  },
  {
   "cell_type": "code",
   "execution_count": 305,
   "id": "b02995bb",
   "metadata": {},
   "outputs": [],
   "source": [
    "#Calculating the target  variable \n",
    "df_train['LGD'] = (df_train['loan_amount'] - (df_train['collateral_value'] + df_train['repayment_amount'])) / df_train['loan_amount']"
   ]
  },
  {
   "cell_type": "code",
   "execution_count": 306,
   "id": "8c352757",
   "metadata": {},
   "outputs": [
    {
     "data": {
      "text/html": [
       "<div>\n",
       "<style scoped>\n",
       "    .dataframe tbody tr th:only-of-type {\n",
       "        vertical-align: middle;\n",
       "    }\n",
       "\n",
       "    .dataframe tbody tr th {\n",
       "        vertical-align: top;\n",
       "    }\n",
       "\n",
       "    .dataframe thead th {\n",
       "        text-align: right;\n",
       "    }\n",
       "</style>\n",
       "<table border=\"1\" class=\"dataframe\">\n",
       "  <thead>\n",
       "    <tr style=\"text-align: right;\">\n",
       "      <th></th>\n",
       "      <th>loan_amount</th>\n",
       "      <th>collateral_value</th>\n",
       "      <th>cheque_bounces</th>\n",
       "      <th>number_of_loans</th>\n",
       "      <th>missed_repayments</th>\n",
       "      <th>vintage_in_months</th>\n",
       "      <th>tenure_years</th>\n",
       "      <th>interest</th>\n",
       "      <th>monthly_emi</th>\n",
       "      <th>repayment_amount</th>\n",
       "      <th>balance_amount</th>\n",
       "      <th>LGD</th>\n",
       "    </tr>\n",
       "  </thead>\n",
       "  <tbody>\n",
       "    <tr>\n",
       "      <th>count</th>\n",
       "      <td>4.967100e+04</td>\n",
       "      <td>49671.000000</td>\n",
       "      <td>49671.000000</td>\n",
       "      <td>49671.000000</td>\n",
       "      <td>49671.000000</td>\n",
       "      <td>49671.000000</td>\n",
       "      <td>49671.000000</td>\n",
       "      <td>49671.000000</td>\n",
       "      <td>49671.000000</td>\n",
       "      <td>4.967100e+04</td>\n",
       "      <td>49671.000000</td>\n",
       "      <td>49671.000000</td>\n",
       "    </tr>\n",
       "    <tr>\n",
       "      <th>mean</th>\n",
       "      <td>3.816700e+05</td>\n",
       "      <td>57158.604035</td>\n",
       "      <td>1.764349</td>\n",
       "      <td>1.509432</td>\n",
       "      <td>9.809607</td>\n",
       "      <td>80.023414</td>\n",
       "      <td>2.995249</td>\n",
       "      <td>11.483803</td>\n",
       "      <td>16588.569490</td>\n",
       "      <td>1.513801e+05</td>\n",
       "      <td>7679.277187</td>\n",
       "      <td>0.450587</td>\n",
       "    </tr>\n",
       "    <tr>\n",
       "      <th>std</th>\n",
       "      <td>5.036410e+05</td>\n",
       "      <td>93342.759113</td>\n",
       "      <td>1.760051</td>\n",
       "      <td>1.259435</td>\n",
       "      <td>7.788334</td>\n",
       "      <td>44.148918</td>\n",
       "      <td>1.415643</td>\n",
       "      <td>2.019586</td>\n",
       "      <td>26686.916967</td>\n",
       "      <td>2.552661e+05</td>\n",
       "      <td>16121.869819</td>\n",
       "      <td>0.244505</td>\n",
       "    </tr>\n",
       "    <tr>\n",
       "      <th>min</th>\n",
       "      <td>2.000000e+03</td>\n",
       "      <td>0.070000</td>\n",
       "      <td>0.000000</td>\n",
       "      <td>0.000000</td>\n",
       "      <td>0.000000</td>\n",
       "      <td>15.000000</td>\n",
       "      <td>1.000000</td>\n",
       "      <td>8.000000</td>\n",
       "      <td>42.520000</td>\n",
       "      <td>0.000000e+00</td>\n",
       "      <td>0.096557</td>\n",
       "      <td>-5.708001</td>\n",
       "    </tr>\n",
       "    <tr>\n",
       "      <th>25%</th>\n",
       "      <td>2.393800e+04</td>\n",
       "      <td>3326.790000</td>\n",
       "      <td>0.000000</td>\n",
       "      <td>0.000000</td>\n",
       "      <td>4.000000</td>\n",
       "      <td>44.000000</td>\n",
       "      <td>2.000000</td>\n",
       "      <td>9.700000</td>\n",
       "      <td>1159.165000</td>\n",
       "      <td>6.766393e+03</td>\n",
       "      <td>411.939041</td>\n",
       "      <td>0.242472</td>\n",
       "    </tr>\n",
       "    <tr>\n",
       "      <th>50%</th>\n",
       "      <td>1.927520e+05</td>\n",
       "      <td>19879.100000</td>\n",
       "      <td>1.000000</td>\n",
       "      <td>1.000000</td>\n",
       "      <td>8.000000</td>\n",
       "      <td>78.000000</td>\n",
       "      <td>3.000000</td>\n",
       "      <td>11.500000</td>\n",
       "      <td>6543.350000</td>\n",
       "      <td>4.855662e+04</td>\n",
       "      <td>2151.702319</td>\n",
       "      <td>0.455286</td>\n",
       "    </tr>\n",
       "    <tr>\n",
       "      <th>75%</th>\n",
       "      <td>4.334240e+05</td>\n",
       "      <td>62291.610000</td>\n",
       "      <td>3.000000</td>\n",
       "      <td>2.000000</td>\n",
       "      <td>15.000000</td>\n",
       "      <td>113.000000</td>\n",
       "      <td>4.000000</td>\n",
       "      <td>13.200000</td>\n",
       "      <td>19444.165000</td>\n",
       "      <td>1.670328e+05</td>\n",
       "      <td>7339.773259</td>\n",
       "      <td>0.667015</td>\n",
       "    </tr>\n",
       "    <tr>\n",
       "      <th>max</th>\n",
       "      <td>1.999992e+06</td>\n",
       "      <td>592545.710000</td>\n",
       "      <td>11.000000</td>\n",
       "      <td>6.000000</td>\n",
       "      <td>38.000000</td>\n",
       "      <td>258.000000</td>\n",
       "      <td>5.000000</td>\n",
       "      <td>15.000000</td>\n",
       "      <td>179521.680000</td>\n",
       "      <td>1.852111e+06</td>\n",
       "      <td>261799.895617</td>\n",
       "      <td>0.898372</td>\n",
       "    </tr>\n",
       "  </tbody>\n",
       "</table>\n",
       "</div>"
      ],
      "text/plain": [
       "        loan_amount  collateral_value  cheque_bounces  number_of_loans  \\\n",
       "count  4.967100e+04      49671.000000    49671.000000     49671.000000   \n",
       "mean   3.816700e+05      57158.604035        1.764349         1.509432   \n",
       "std    5.036410e+05      93342.759113        1.760051         1.259435   \n",
       "min    2.000000e+03          0.070000        0.000000         0.000000   \n",
       "25%    2.393800e+04       3326.790000        0.000000         0.000000   \n",
       "50%    1.927520e+05      19879.100000        1.000000         1.000000   \n",
       "75%    4.334240e+05      62291.610000        3.000000         2.000000   \n",
       "max    1.999992e+06     592545.710000       11.000000         6.000000   \n",
       "\n",
       "       missed_repayments  vintage_in_months  tenure_years      interest  \\\n",
       "count       49671.000000       49671.000000  49671.000000  49671.000000   \n",
       "mean            9.809607          80.023414      2.995249     11.483803   \n",
       "std             7.788334          44.148918      1.415643      2.019586   \n",
       "min             0.000000          15.000000      1.000000      8.000000   \n",
       "25%             4.000000          44.000000      2.000000      9.700000   \n",
       "50%             8.000000          78.000000      3.000000     11.500000   \n",
       "75%            15.000000         113.000000      4.000000     13.200000   \n",
       "max            38.000000         258.000000      5.000000     15.000000   \n",
       "\n",
       "         monthly_emi  repayment_amount  balance_amount           LGD  \n",
       "count   49671.000000      4.967100e+04    49671.000000  49671.000000  \n",
       "mean    16588.569490      1.513801e+05     7679.277187      0.450587  \n",
       "std     26686.916967      2.552661e+05    16121.869819      0.244505  \n",
       "min        42.520000      0.000000e+00        0.096557     -5.708001  \n",
       "25%      1159.165000      6.766393e+03      411.939041      0.242472  \n",
       "50%      6543.350000      4.855662e+04     2151.702319      0.455286  \n",
       "75%     19444.165000      1.670328e+05     7339.773259      0.667015  \n",
       "max    179521.680000      1.852111e+06   261799.895617      0.898372  "
      ]
     },
     "execution_count": 306,
     "metadata": {},
     "output_type": "execute_result"
    }
   ],
   "source": [
    "df_train.describe()"
   ]
  },
  {
   "cell_type": "markdown",
   "id": "1cd483c8",
   "metadata": {},
   "source": [
    "The LGD should be a value between 0 to 1, therefore having negatives in the column is due to some error and we need to remove it"
   ]
  },
  {
   "cell_type": "code",
   "execution_count": 307,
   "id": "3988c41b",
   "metadata": {},
   "outputs": [],
   "source": [
    "df_train = df_train[df_train['LGD'] >= 0]"
   ]
  },
  {
   "cell_type": "code",
   "execution_count": 308,
   "id": "a5ed496c",
   "metadata": {},
   "outputs": [
    {
     "data": {
      "text/html": [
       "<div>\n",
       "<style scoped>\n",
       "    .dataframe tbody tr th:only-of-type {\n",
       "        vertical-align: middle;\n",
       "    }\n",
       "\n",
       "    .dataframe tbody tr th {\n",
       "        vertical-align: top;\n",
       "    }\n",
       "\n",
       "    .dataframe thead th {\n",
       "        text-align: right;\n",
       "    }\n",
       "</style>\n",
       "<table border=\"1\" class=\"dataframe\">\n",
       "  <thead>\n",
       "    <tr style=\"text-align: right;\">\n",
       "      <th></th>\n",
       "      <th>loan_amount</th>\n",
       "      <th>collateral_value</th>\n",
       "      <th>cheque_bounces</th>\n",
       "      <th>number_of_loans</th>\n",
       "      <th>missed_repayments</th>\n",
       "      <th>vintage_in_months</th>\n",
       "      <th>tenure_years</th>\n",
       "      <th>interest</th>\n",
       "      <th>monthly_emi</th>\n",
       "      <th>repayment_amount</th>\n",
       "      <th>balance_amount</th>\n",
       "      <th>LGD</th>\n",
       "    </tr>\n",
       "  </thead>\n",
       "  <tbody>\n",
       "    <tr>\n",
       "      <th>count</th>\n",
       "      <td>4.957500e+04</td>\n",
       "      <td>49575.000000</td>\n",
       "      <td>49575.000000</td>\n",
       "      <td>49575.000000</td>\n",
       "      <td>49575.000000</td>\n",
       "      <td>49575.000000</td>\n",
       "      <td>49575.000000</td>\n",
       "      <td>49575.000000</td>\n",
       "      <td>49575.000000</td>\n",
       "      <td>4.957500e+04</td>\n",
       "      <td>49575.000000</td>\n",
       "      <td>49575.000000</td>\n",
       "    </tr>\n",
       "    <tr>\n",
       "      <th>mean</th>\n",
       "      <td>3.815856e+05</td>\n",
       "      <td>57166.219422</td>\n",
       "      <td>1.766193</td>\n",
       "      <td>1.511770</td>\n",
       "      <td>9.826021</td>\n",
       "      <td>79.915098</td>\n",
       "      <td>2.998729</td>\n",
       "      <td>11.483609</td>\n",
       "      <td>16548.838168</td>\n",
       "      <td>1.509369e+05</td>\n",
       "      <td>7635.193584</td>\n",
       "      <td>0.451797</td>\n",
       "    </tr>\n",
       "    <tr>\n",
       "      <th>std</th>\n",
       "      <td>5.035225e+05</td>\n",
       "      <td>93355.556957</td>\n",
       "      <td>1.760519</td>\n",
       "      <td>1.259161</td>\n",
       "      <td>7.786010</td>\n",
       "      <td>44.101763</td>\n",
       "      <td>1.414348</td>\n",
       "      <td>2.019208</td>\n",
       "      <td>26607.423458</td>\n",
       "      <td>2.543506e+05</td>\n",
       "      <td>15984.746041</td>\n",
       "      <td>0.240193</td>\n",
       "    </tr>\n",
       "    <tr>\n",
       "      <th>min</th>\n",
       "      <td>2.000000e+03</td>\n",
       "      <td>0.070000</td>\n",
       "      <td>0.000000</td>\n",
       "      <td>0.000000</td>\n",
       "      <td>0.000000</td>\n",
       "      <td>15.000000</td>\n",
       "      <td>1.000000</td>\n",
       "      <td>8.000000</td>\n",
       "      <td>42.520000</td>\n",
       "      <td>0.000000e+00</td>\n",
       "      <td>0.096557</td>\n",
       "      <td>0.000103</td>\n",
       "    </tr>\n",
       "    <tr>\n",
       "      <th>25%</th>\n",
       "      <td>2.393950e+04</td>\n",
       "      <td>3331.045000</td>\n",
       "      <td>0.000000</td>\n",
       "      <td>0.000000</td>\n",
       "      <td>4.000000</td>\n",
       "      <td>44.000000</td>\n",
       "      <td>2.000000</td>\n",
       "      <td>9.700000</td>\n",
       "      <td>1156.560000</td>\n",
       "      <td>6.739956e+03</td>\n",
       "      <td>410.547985</td>\n",
       "      <td>0.243721</td>\n",
       "    </tr>\n",
       "    <tr>\n",
       "      <th>50%</th>\n",
       "      <td>1.927980e+05</td>\n",
       "      <td>19895.540000</td>\n",
       "      <td>1.000000</td>\n",
       "      <td>1.000000</td>\n",
       "      <td>8.000000</td>\n",
       "      <td>78.000000</td>\n",
       "      <td>3.000000</td>\n",
       "      <td>11.500000</td>\n",
       "      <td>6533.230000</td>\n",
       "      <td>4.844938e+04</td>\n",
       "      <td>2147.680468</td>\n",
       "      <td>0.455986</td>\n",
       "    </tr>\n",
       "    <tr>\n",
       "      <th>75%</th>\n",
       "      <td>4.333650e+05</td>\n",
       "      <td>62291.610000</td>\n",
       "      <td>3.000000</td>\n",
       "      <td>2.000000</td>\n",
       "      <td>15.000000</td>\n",
       "      <td>113.000000</td>\n",
       "      <td>4.000000</td>\n",
       "      <td>13.200000</td>\n",
       "      <td>19413.110000</td>\n",
       "      <td>1.666157e+05</td>\n",
       "      <td>7323.967647</td>\n",
       "      <td>0.667406</td>\n",
       "    </tr>\n",
       "    <tr>\n",
       "      <th>max</th>\n",
       "      <td>1.999992e+06</td>\n",
       "      <td>592545.710000</td>\n",
       "      <td>11.000000</td>\n",
       "      <td>6.000000</td>\n",
       "      <td>38.000000</td>\n",
       "      <td>258.000000</td>\n",
       "      <td>5.000000</td>\n",
       "      <td>15.000000</td>\n",
       "      <td>179521.680000</td>\n",
       "      <td>1.852111e+06</td>\n",
       "      <td>261799.895617</td>\n",
       "      <td>0.898372</td>\n",
       "    </tr>\n",
       "  </tbody>\n",
       "</table>\n",
       "</div>"
      ],
      "text/plain": [
       "        loan_amount  collateral_value  cheque_bounces  number_of_loans  \\\n",
       "count  4.957500e+04      49575.000000    49575.000000     49575.000000   \n",
       "mean   3.815856e+05      57166.219422        1.766193         1.511770   \n",
       "std    5.035225e+05      93355.556957        1.760519         1.259161   \n",
       "min    2.000000e+03          0.070000        0.000000         0.000000   \n",
       "25%    2.393950e+04       3331.045000        0.000000         0.000000   \n",
       "50%    1.927980e+05      19895.540000        1.000000         1.000000   \n",
       "75%    4.333650e+05      62291.610000        3.000000         2.000000   \n",
       "max    1.999992e+06     592545.710000       11.000000         6.000000   \n",
       "\n",
       "       missed_repayments  vintage_in_months  tenure_years      interest  \\\n",
       "count       49575.000000       49575.000000  49575.000000  49575.000000   \n",
       "mean            9.826021          79.915098      2.998729     11.483609   \n",
       "std             7.786010          44.101763      1.414348      2.019208   \n",
       "min             0.000000          15.000000      1.000000      8.000000   \n",
       "25%             4.000000          44.000000      2.000000      9.700000   \n",
       "50%             8.000000          78.000000      3.000000     11.500000   \n",
       "75%            15.000000         113.000000      4.000000     13.200000   \n",
       "max            38.000000         258.000000      5.000000     15.000000   \n",
       "\n",
       "         monthly_emi  repayment_amount  balance_amount           LGD  \n",
       "count   49575.000000      4.957500e+04    49575.000000  49575.000000  \n",
       "mean    16548.838168      1.509369e+05     7635.193584      0.451797  \n",
       "std     26607.423458      2.543506e+05    15984.746041      0.240193  \n",
       "min        42.520000      0.000000e+00        0.096557      0.000103  \n",
       "25%      1156.560000      6.739956e+03      410.547985      0.243721  \n",
       "50%      6533.230000      4.844938e+04     2147.680468      0.455986  \n",
       "75%     19413.110000      1.666157e+05     7323.967647      0.667406  \n",
       "max    179521.680000      1.852111e+06   261799.895617      0.898372  "
      ]
     },
     "execution_count": 308,
     "metadata": {},
     "output_type": "execute_result"
    }
   ],
   "source": [
    "#Checking the values post removal of negative values\n",
    "df_train.describe()"
   ]
  },
  {
   "cell_type": "code",
   "execution_count": 309,
   "id": "e318ffc2",
   "metadata": {},
   "outputs": [
    {
     "name": "stdout",
     "output_type": "stream",
     "text": [
      "<class 'pandas.core.frame.DataFrame'>\n",
      "Int64Index: 49575 entries, 0 to 49984\n",
      "Data columns (total 18 columns):\n",
      " #   Column             Non-Null Count  Dtype  \n",
      "---  ------             --------------  -----  \n",
      " 0   loan_acc_num       49575 non-null  object \n",
      " 1   customer_name      49575 non-null  object \n",
      " 2   customer_address   49575 non-null  object \n",
      " 3   loan_type          49575 non-null  object \n",
      " 4   loan_amount        49575 non-null  int64  \n",
      " 5   collateral_value   49575 non-null  float64\n",
      " 6   cheque_bounces     49575 non-null  int64  \n",
      " 7   number_of_loans    49575 non-null  int64  \n",
      " 8   missed_repayments  49575 non-null  int64  \n",
      " 9   vintage_in_months  49575 non-null  int64  \n",
      " 10  tenure_years       49575 non-null  int64  \n",
      " 11  interest           49575 non-null  float64\n",
      " 12  monthly_emi        49575 non-null  float64\n",
      " 13  disbursal_date     49575 non-null  object \n",
      " 14  default_date       49575 non-null  object \n",
      " 15  repayment_amount   49575 non-null  float64\n",
      " 16  balance_amount     49575 non-null  float64\n",
      " 17  LGD                49575 non-null  float64\n",
      "dtypes: float64(6), int64(6), object(6)\n",
      "memory usage: 7.2+ MB\n"
     ]
    }
   ],
   "source": [
    "df_train.info()"
   ]
  },
  {
   "cell_type": "markdown",
   "id": "fcd1bbd0",
   "metadata": {},
   "source": [
    "Creating a new variable default_days to understand the time taken for customers to default"
   ]
  },
  {
   "cell_type": "code",
   "execution_count": 310,
   "id": "3813c9c2",
   "metadata": {},
   "outputs": [],
   "source": [
    "#Converting the date variables to date format\n",
    "df_train['default_date'] = pd.to_datetime(df_train['default_date'], format='%Y-%m-%d')\n",
    "df_train['disbursal_date'] = pd.to_datetime(df_train['disbursal_date'], format='%Y-%m-%d')"
   ]
  },
  {
   "cell_type": "code",
   "execution_count": 311,
   "id": "0eb5ffd3",
   "metadata": {},
   "outputs": [],
   "source": [
    "#Calculating the days to default for each customer\n",
    "df_train['days_to_default'] = (df_train['default_date'] - df_train['disbursal_date']).dt.days"
   ]
  },
  {
   "cell_type": "code",
   "execution_count": 312,
   "id": "62fb0ef6",
   "metadata": {},
   "outputs": [],
   "source": [
    "#Dropping some of the columns which are not required for modelling\n",
    "df_train=df_train.drop([\"loan_acc_num\",\"customer_name\",\"customer_address\",\"disbursal_date\",\"default_date\"],axis=1)"
   ]
  },
  {
   "cell_type": "code",
   "execution_count": 313,
   "id": "26b54677",
   "metadata": {},
   "outputs": [
    {
     "name": "stdout",
     "output_type": "stream",
     "text": [
      "<class 'pandas.core.frame.DataFrame'>\n",
      "Int64Index: 49575 entries, 0 to 49984\n",
      "Data columns (total 14 columns):\n",
      " #   Column             Non-Null Count  Dtype  \n",
      "---  ------             --------------  -----  \n",
      " 0   loan_type          49575 non-null  object \n",
      " 1   loan_amount        49575 non-null  int64  \n",
      " 2   collateral_value   49575 non-null  float64\n",
      " 3   cheque_bounces     49575 non-null  int64  \n",
      " 4   number_of_loans    49575 non-null  int64  \n",
      " 5   missed_repayments  49575 non-null  int64  \n",
      " 6   vintage_in_months  49575 non-null  int64  \n",
      " 7   tenure_years       49575 non-null  int64  \n",
      " 8   interest           49575 non-null  float64\n",
      " 9   monthly_emi        49575 non-null  float64\n",
      " 10  repayment_amount   49575 non-null  float64\n",
      " 11  balance_amount     49575 non-null  float64\n",
      " 12  LGD                49575 non-null  float64\n",
      " 13  days_to_default    49575 non-null  int64  \n",
      "dtypes: float64(6), int64(7), object(1)\n",
      "memory usage: 5.7+ MB\n"
     ]
    }
   ],
   "source": [
    "df_train.info()"
   ]
  },
  {
   "cell_type": "code",
   "execution_count": 314,
   "id": "c80a7ec4",
   "metadata": {},
   "outputs": [
    {
     "data": {
      "text/html": [
       "<div>\n",
       "<style scoped>\n",
       "    .dataframe tbody tr th:only-of-type {\n",
       "        vertical-align: middle;\n",
       "    }\n",
       "\n",
       "    .dataframe tbody tr th {\n",
       "        vertical-align: top;\n",
       "    }\n",
       "\n",
       "    .dataframe thead th {\n",
       "        text-align: right;\n",
       "    }\n",
       "</style>\n",
       "<table border=\"1\" class=\"dataframe\">\n",
       "  <thead>\n",
       "    <tr style=\"text-align: right;\">\n",
       "      <th></th>\n",
       "      <th>loan_amount</th>\n",
       "      <th>collateral_value</th>\n",
       "      <th>cheque_bounces</th>\n",
       "      <th>number_of_loans</th>\n",
       "      <th>missed_repayments</th>\n",
       "      <th>vintage_in_months</th>\n",
       "      <th>tenure_years</th>\n",
       "      <th>interest</th>\n",
       "      <th>monthly_emi</th>\n",
       "      <th>repayment_amount</th>\n",
       "      <th>balance_amount</th>\n",
       "      <th>LGD</th>\n",
       "      <th>days_to_default</th>\n",
       "    </tr>\n",
       "  </thead>\n",
       "  <tbody>\n",
       "    <tr>\n",
       "      <th>count</th>\n",
       "      <td>4.957500e+04</td>\n",
       "      <td>49575.000000</td>\n",
       "      <td>49575.000000</td>\n",
       "      <td>49575.000000</td>\n",
       "      <td>49575.000000</td>\n",
       "      <td>49575.000000</td>\n",
       "      <td>49575.000000</td>\n",
       "      <td>49575.000000</td>\n",
       "      <td>49575.000000</td>\n",
       "      <td>4.957500e+04</td>\n",
       "      <td>49575.000000</td>\n",
       "      <td>49575.000000</td>\n",
       "      <td>49575.000000</td>\n",
       "    </tr>\n",
       "    <tr>\n",
       "      <th>mean</th>\n",
       "      <td>3.815856e+05</td>\n",
       "      <td>57166.219422</td>\n",
       "      <td>1.766193</td>\n",
       "      <td>1.511770</td>\n",
       "      <td>9.826021</td>\n",
       "      <td>79.915098</td>\n",
       "      <td>2.998729</td>\n",
       "      <td>11.483609</td>\n",
       "      <td>16548.838168</td>\n",
       "      <td>1.509369e+05</td>\n",
       "      <td>7635.193584</td>\n",
       "      <td>0.451797</td>\n",
       "      <td>543.397741</td>\n",
       "    </tr>\n",
       "    <tr>\n",
       "      <th>std</th>\n",
       "      <td>5.035225e+05</td>\n",
       "      <td>93355.556957</td>\n",
       "      <td>1.760519</td>\n",
       "      <td>1.259161</td>\n",
       "      <td>7.786010</td>\n",
       "      <td>44.101763</td>\n",
       "      <td>1.414348</td>\n",
       "      <td>2.019208</td>\n",
       "      <td>26607.423458</td>\n",
       "      <td>2.543506e+05</td>\n",
       "      <td>15984.746041</td>\n",
       "      <td>0.240193</td>\n",
       "      <td>395.351846</td>\n",
       "    </tr>\n",
       "    <tr>\n",
       "      <th>min</th>\n",
       "      <td>2.000000e+03</td>\n",
       "      <td>0.070000</td>\n",
       "      <td>0.000000</td>\n",
       "      <td>0.000000</td>\n",
       "      <td>0.000000</td>\n",
       "      <td>15.000000</td>\n",
       "      <td>1.000000</td>\n",
       "      <td>8.000000</td>\n",
       "      <td>42.520000</td>\n",
       "      <td>0.000000e+00</td>\n",
       "      <td>0.096557</td>\n",
       "      <td>0.000103</td>\n",
       "      <td>90.000000</td>\n",
       "    </tr>\n",
       "    <tr>\n",
       "      <th>25%</th>\n",
       "      <td>2.393950e+04</td>\n",
       "      <td>3331.045000</td>\n",
       "      <td>0.000000</td>\n",
       "      <td>0.000000</td>\n",
       "      <td>4.000000</td>\n",
       "      <td>44.000000</td>\n",
       "      <td>2.000000</td>\n",
       "      <td>9.700000</td>\n",
       "      <td>1156.560000</td>\n",
       "      <td>6.739956e+03</td>\n",
       "      <td>410.547985</td>\n",
       "      <td>0.243721</td>\n",
       "      <td>215.000000</td>\n",
       "    </tr>\n",
       "    <tr>\n",
       "      <th>50%</th>\n",
       "      <td>1.927980e+05</td>\n",
       "      <td>19895.540000</td>\n",
       "      <td>1.000000</td>\n",
       "      <td>1.000000</td>\n",
       "      <td>8.000000</td>\n",
       "      <td>78.000000</td>\n",
       "      <td>3.000000</td>\n",
       "      <td>11.500000</td>\n",
       "      <td>6533.230000</td>\n",
       "      <td>4.844938e+04</td>\n",
       "      <td>2147.680468</td>\n",
       "      <td>0.455986</td>\n",
       "      <td>438.000000</td>\n",
       "    </tr>\n",
       "    <tr>\n",
       "      <th>75%</th>\n",
       "      <td>4.333650e+05</td>\n",
       "      <td>62291.610000</td>\n",
       "      <td>3.000000</td>\n",
       "      <td>2.000000</td>\n",
       "      <td>15.000000</td>\n",
       "      <td>113.000000</td>\n",
       "      <td>4.000000</td>\n",
       "      <td>13.200000</td>\n",
       "      <td>19413.110000</td>\n",
       "      <td>1.666157e+05</td>\n",
       "      <td>7323.967647</td>\n",
       "      <td>0.667406</td>\n",
       "      <td>793.000000</td>\n",
       "    </tr>\n",
       "    <tr>\n",
       "      <th>max</th>\n",
       "      <td>1.999992e+06</td>\n",
       "      <td>592545.710000</td>\n",
       "      <td>11.000000</td>\n",
       "      <td>6.000000</td>\n",
       "      <td>38.000000</td>\n",
       "      <td>258.000000</td>\n",
       "      <td>5.000000</td>\n",
       "      <td>15.000000</td>\n",
       "      <td>179521.680000</td>\n",
       "      <td>1.852111e+06</td>\n",
       "      <td>261799.895617</td>\n",
       "      <td>0.898372</td>\n",
       "      <td>1709.000000</td>\n",
       "    </tr>\n",
       "  </tbody>\n",
       "</table>\n",
       "</div>"
      ],
      "text/plain": [
       "        loan_amount  collateral_value  cheque_bounces  number_of_loans  \\\n",
       "count  4.957500e+04      49575.000000    49575.000000     49575.000000   \n",
       "mean   3.815856e+05      57166.219422        1.766193         1.511770   \n",
       "std    5.035225e+05      93355.556957        1.760519         1.259161   \n",
       "min    2.000000e+03          0.070000        0.000000         0.000000   \n",
       "25%    2.393950e+04       3331.045000        0.000000         0.000000   \n",
       "50%    1.927980e+05      19895.540000        1.000000         1.000000   \n",
       "75%    4.333650e+05      62291.610000        3.000000         2.000000   \n",
       "max    1.999992e+06     592545.710000       11.000000         6.000000   \n",
       "\n",
       "       missed_repayments  vintage_in_months  tenure_years      interest  \\\n",
       "count       49575.000000       49575.000000  49575.000000  49575.000000   \n",
       "mean            9.826021          79.915098      2.998729     11.483609   \n",
       "std             7.786010          44.101763      1.414348      2.019208   \n",
       "min             0.000000          15.000000      1.000000      8.000000   \n",
       "25%             4.000000          44.000000      2.000000      9.700000   \n",
       "50%             8.000000          78.000000      3.000000     11.500000   \n",
       "75%            15.000000         113.000000      4.000000     13.200000   \n",
       "max            38.000000         258.000000      5.000000     15.000000   \n",
       "\n",
       "         monthly_emi  repayment_amount  balance_amount           LGD  \\\n",
       "count   49575.000000      4.957500e+04    49575.000000  49575.000000   \n",
       "mean    16548.838168      1.509369e+05     7635.193584      0.451797   \n",
       "std     26607.423458      2.543506e+05    15984.746041      0.240193   \n",
       "min        42.520000      0.000000e+00        0.096557      0.000103   \n",
       "25%      1156.560000      6.739956e+03      410.547985      0.243721   \n",
       "50%      6533.230000      4.844938e+04     2147.680468      0.455986   \n",
       "75%     19413.110000      1.666157e+05     7323.967647      0.667406   \n",
       "max    179521.680000      1.852111e+06   261799.895617      0.898372   \n",
       "\n",
       "       days_to_default  \n",
       "count     49575.000000  \n",
       "mean        543.397741  \n",
       "std         395.351846  \n",
       "min          90.000000  \n",
       "25%         215.000000  \n",
       "50%         438.000000  \n",
       "75%         793.000000  \n",
       "max        1709.000000  "
      ]
     },
     "execution_count": 314,
     "metadata": {},
     "output_type": "execute_result"
    }
   ],
   "source": [
    "df_train.describe()"
   ]
  },
  {
   "cell_type": "markdown",
   "id": "99501dac",
   "metadata": {},
   "source": [
    "## EDA"
   ]
  },
  {
   "cell_type": "code",
   "execution_count": 315,
   "id": "32ee18c8",
   "metadata": {},
   "outputs": [
    {
     "data": {
      "text/plain": [
       "<AxesSubplot:>"
      ]
     },
     "execution_count": 315,
     "metadata": {},
     "output_type": "execute_result"
    },
    {
     "data": {
      "image/png": "[encoded data removed]",
      "text/plain": [
       "<Figure size 432x288 with 1 Axes>"
      ]
     },
     "metadata": {
      "needs_background": "light"
     },
     "output_type": "display_data"
    }
   ],
   "source": [
    "# Checking the distribution of loans by loan type\n",
    "df_train[\"loan_type\"].value_counts().plot.bar()\n"
   ]
  },
  {
   "cell_type": "markdown",
   "id": "d3b96cdc",
   "metadata": {},
   "source": [
    "In terms of loan types all loan types have a equal distribution"
   ]
  },
  {
   "cell_type": "code",
   "execution_count": 316,
   "id": "a50fd288",
   "metadata": {},
   "outputs": [
    {
     "data": {
      "text/plain": [
       "<AxesSubplot:xlabel='number_of_loans', ylabel='Count'>"
      ]
     },
     "execution_count": 316,
     "metadata": {},
     "output_type": "execute_result"
    },
    {
     "data": {
      "image/png": "[encoded data removed]",
      "text/plain": [
       "<Figure size 432x288 with 1 Axes>"
      ]
     },
     "metadata": {
      "needs_background": "light"
     },
     "output_type": "display_data"
    }
   ],
   "source": [
    "sns.histplot(df_train[\"number_of_loans\"])"
   ]
  },
  {
   "cell_type": "markdown",
   "id": "a5135e39",
   "metadata": {},
   "source": [
    "Majority of customers have 1- 3 loans, which shows that they are living off high credit"
   ]
  },
  {
   "cell_type": "code",
   "execution_count": 317,
   "id": "a410e287",
   "metadata": {},
   "outputs": [
    {
     "data": {
      "image/png": "[encoded data removed]",
      "text/plain": [
       "<Figure size 432x288 with 1 Axes>"
      ]
     },
     "metadata": {
      "needs_background": "light"
     },
     "output_type": "display_data"
    }
   ],
   "source": [
    "#Bivariate Analysis\n",
    "sns.boxplot(data=df_train,y=\"loan_amount\",x=\"loan_type\")\n",
    "plt.show()"
   ]
  },
  {
   "cell_type": "markdown",
   "id": "f4eea273",
   "metadata": {},
   "source": [
    "The loan amount for car loans are the highest even though car loans contribute to ~25% of loans"
   ]
  },
  {
   "cell_type": "code",
   "execution_count": 318,
   "id": "54144917",
   "metadata": {},
   "outputs": [
    {
     "data": {
      "image/png": "[encoded data removed]",
      "text/plain": [
       "<Figure size 432x288 with 1 Axes>"
      ]
     },
     "metadata": {
      "needs_background": "light"
     },
     "output_type": "display_data"
    }
   ],
   "source": [
    "#Bivariate Analysis\n",
    "sns.boxplot(data=df_train,y=\"collateral_value\",x=\"loan_type\")\n",
    "plt.show()"
   ]
  },
  {
   "cell_type": "markdown",
   "id": "5ea3c52f",
   "metadata": {},
   "source": [
    "Similar distribution for collateral values show that car loans require higher collateral (e.g. The car itself)"
   ]
  },
  {
   "cell_type": "code",
   "execution_count": 319,
   "id": "6020142b",
   "metadata": {},
   "outputs": [
    {
     "data": {
      "image/png": "[encoded data removed]",
      "text/plain": [
       "<Figure size 432x288 with 1 Axes>"
      ]
     },
     "metadata": {
      "needs_background": "light"
     },
     "output_type": "display_data"
    }
   ],
   "source": [
    "#Bivariate Analysis\n",
    "sns.boxplot(data=df_train,y=\"interest\",x=\"loan_type\")\n",
    "plt.show()"
   ]
  },
  {
   "cell_type": "code",
   "execution_count": 320,
   "id": "3ea3ee72",
   "metadata": {},
   "outputs": [
    {
     "data": {
      "image/png": "[encoded data removed]",
      "text/plain": [
       "<Figure size 432x288 with 1 Axes>"
      ]
     },
     "metadata": {
      "needs_background": "light"
     },
     "output_type": "display_data"
    }
   ],
   "source": [
    "#Bivariate Analysis\n",
    "sns.boxplot(data=df_train,y=\"repayment_amount\",x=\"loan_type\")\n",
    "plt.show()"
   ]
  },
  {
   "cell_type": "code",
   "execution_count": 321,
   "id": "8727bc21",
   "metadata": {},
   "outputs": [
    {
     "data": {
      "image/png": "[encoded data removed]",
      "text/plain": [
       "<Figure size 432x288 with 1 Axes>"
      ]
     },
     "metadata": {
      "needs_background": "light"
     },
     "output_type": "display_data"
    }
   ],
   "source": [
    "#Bivariate Analysis of target variable\n",
    "sns.boxplot(data=df_train,y=\"LGD\",x=\"loan_type\")\n",
    "plt.show()"
   ]
  },
  {
   "cell_type": "markdown",
   "id": "541dc491",
   "metadata": {},
   "source": [
    "Even though car loans have higher collateral and higher repayments, the LGD is same as other loans"
   ]
  },
  {
   "cell_type": "code",
   "execution_count": 322,
   "id": "494a6bdc",
   "metadata": {},
   "outputs": [
    {
     "data": {
      "image/png": "[encoded data removed]",
      "text/plain": [
       "<Figure size 432x288 with 1 Axes>"
      ]
     },
     "metadata": {
      "needs_background": "light"
     },
     "output_type": "display_data"
    }
   ],
   "source": [
    "#Bivariate analysis\n",
    "sns.boxplot(data=df_train,y=\"days_to_default\",x=\"loan_type\")\n",
    "plt.show()"
   ]
  },
  {
   "cell_type": "markdown",
   "id": "43c8dc69",
   "metadata": {},
   "source": [
    "Customers take similar time to defualt on loans irrespective of loan type"
   ]
  },
  {
   "cell_type": "code",
   "execution_count": 323,
   "id": "69ae09e8",
   "metadata": {},
   "outputs": [
    {
     "data": {
      "image/png": "[encoded data removed]",
      "text/plain": [
       "<Figure size 432x288 with 1 Axes>"
      ]
     },
     "metadata": {
      "needs_background": "light"
     },
     "output_type": "display_data"
    }
   ],
   "source": [
    "#Bivariate analysis\n",
    "sns.boxplot(data=df_train,y=\"monthly_emi\",x=\"tenure_years\")\n",
    "plt.show()"
   ]
  },
  {
   "cell_type": "markdown",
   "id": "807e1b42",
   "metadata": {},
   "source": [
    "As expected longer loans have lower monthly emi"
   ]
  },
  {
   "cell_type": "code",
   "execution_count": 324,
   "id": "5af247a7",
   "metadata": {},
   "outputs": [
    {
     "data": {
      "image/png": "[encoded data removed]",
      "text/plain": [
       "<Figure size 432x288 with 1 Axes>"
      ]
     },
     "metadata": {
      "needs_background": "light"
     },
     "output_type": "display_data"
    }
   ],
   "source": [
    "#Bivariate analysis\n",
    "sns.boxplot(data=df_train,y=\"balance_amount\",x=\"loan_type\")\n",
    "plt.show()"
   ]
  },
  {
   "cell_type": "markdown",
   "id": "9408fc34",
   "metadata": {},
   "source": [
    "Customers with higher balance opt for car loans"
   ]
  },
  {
   "cell_type": "code",
   "execution_count": 325,
   "id": "17a6ee9b",
   "metadata": {},
   "outputs": [
    {
     "data": {
      "image/png": "[encoded data removed]",
      "text/plain": [
       "<Figure size 432x288 with 1 Axes>"
      ]
     },
     "metadata": {
      "needs_background": "light"
     },
     "output_type": "display_data"
    }
   ],
   "source": [
    "#Bivariate Analysis\n",
    "sns.scatterplot(data=df_train,x=\"days_to_default\",y=\"balance_amount\")\n",
    "plt.show()"
   ]
  },
  {
   "cell_type": "markdown",
   "id": "5fff1660",
   "metadata": {},
   "source": [
    "There's an inverse relationship between average bank balance and time taken to default by a customer"
   ]
  },
  {
   "cell_type": "code",
   "execution_count": 326,
   "id": "91efdffb",
   "metadata": {},
   "outputs": [
    {
     "data": {
      "image/png": "[encoded data removed]",
      "text/plain": [
       "<Figure size 432x288 with 1 Axes>"
      ]
     },
     "metadata": {
      "needs_background": "light"
     },
     "output_type": "display_data"
    }
   ],
   "source": [
    "#Bivariate Analysis\n",
    "sns.scatterplot(data=df_train,x=\"loan_amount\",y=\"collateral_value\")\n",
    "plt.show()"
   ]
  },
  {
   "cell_type": "markdown",
   "id": "4487f2d3",
   "metadata": {},
   "source": [
    "Higher Loan amounts require higher collateral values"
   ]
  },
  {
   "cell_type": "code",
   "execution_count": 327,
   "id": "e52ac9d9",
   "metadata": {},
   "outputs": [
    {
     "data": {
      "text/plain": [
       "<AxesSubplot:>"
      ]
     },
     "execution_count": 327,
     "metadata": {},
     "output_type": "execute_result"
    },
    {
     "data": {
      "image/png": "[encoded data removed]",
      "text/plain": [
       "<Figure size 1080x1080 with 2 Axes>"
      ]
     },
     "metadata": {
      "needs_background": "light"
     },
     "output_type": "display_data"
    }
   ],
   "source": [
    "#Checking for correlation bewteen variables\n",
    "plt.figure(figsize=[15,15])\n",
    "sns.heatmap(df_train.corr(),cmap=\"RdYlGn\",annot=True)"
   ]
  },
  {
   "cell_type": "markdown",
   "id": "be1cfe2c",
   "metadata": {},
   "source": [
    "The above matrix shows that: \n",
    "1. Long term customers have lower missed repayments and lower LGDs which makes them better candidates for loans\n",
    "2. Higher missed repayments, Number of loans,cheque bounces and LGD are positively correlated which shows that customers which have higher missed payments and #loans tend to greater loss \n",
    "3. Customers with higher bank balance tend to less loss at default\n"
   ]
  },
  {
   "cell_type": "markdown",
   "id": "f6b5a62e",
   "metadata": {},
   "source": [
    "## Preparing train data for modelling"
   ]
  },
  {
   "cell_type": "code",
   "execution_count": 328,
   "id": "7537462d",
   "metadata": {},
   "outputs": [
    {
     "name": "stdout",
     "output_type": "stream",
     "text": [
      "<class 'pandas.core.frame.DataFrame'>\n",
      "Int64Index: 49575 entries, 0 to 49984\n",
      "Data columns (total 14 columns):\n",
      " #   Column             Non-Null Count  Dtype  \n",
      "---  ------             --------------  -----  \n",
      " 0   loan_type          49575 non-null  object \n",
      " 1   loan_amount        49575 non-null  int64  \n",
      " 2   collateral_value   49575 non-null  float64\n",
      " 3   cheque_bounces     49575 non-null  int64  \n",
      " 4   number_of_loans    49575 non-null  int64  \n",
      " 5   missed_repayments  49575 non-null  int64  \n",
      " 6   vintage_in_months  49575 non-null  int64  \n",
      " 7   tenure_years       49575 non-null  int64  \n",
      " 8   interest           49575 non-null  float64\n",
      " 9   monthly_emi        49575 non-null  float64\n",
      " 10  repayment_amount   49575 non-null  float64\n",
      " 11  balance_amount     49575 non-null  float64\n",
      " 12  LGD                49575 non-null  float64\n",
      " 13  days_to_default    49575 non-null  int64  \n",
      "dtypes: float64(6), int64(7), object(1)\n",
      "memory usage: 6.7+ MB\n"
     ]
    }
   ],
   "source": [
    "df_train.info()"
   ]
  },
  {
   "cell_type": "code",
   "execution_count": 329,
   "id": "5aba60ac",
   "metadata": {},
   "outputs": [],
   "source": [
    "#Converting the loan_type to dummy variables\n",
    "dummy = pd.get_dummies(df_train['loan_type'],drop_first=True)"
   ]
  },
  {
   "cell_type": "code",
   "execution_count": 330,
   "id": "739d6375",
   "metadata": {},
   "outputs": [],
   "source": [
    "#Joining the dummy dataset\n",
    "df_train=pd.concat([df_train,dummy],axis=1)"
   ]
  },
  {
   "cell_type": "code",
   "execution_count": 331,
   "id": "c55289d0",
   "metadata": {},
   "outputs": [],
   "source": [
    "#Dropping the loan_type column\n",
    "df_train= df_train.drop(\"loan_type\",axis=1)"
   ]
  },
  {
   "cell_type": "code",
   "execution_count": 332,
   "id": "a12e2d08",
   "metadata": {},
   "outputs": [
    {
     "data": {
      "text/html": [
       "<div>\n",
       "<style scoped>\n",
       "    .dataframe tbody tr th:only-of-type {\n",
       "        vertical-align: middle;\n",
       "    }\n",
       "\n",
       "    .dataframe tbody tr th {\n",
       "        vertical-align: top;\n",
       "    }\n",
       "\n",
       "    .dataframe thead th {\n",
       "        text-align: right;\n",
       "    }\n",
       "</style>\n",
       "<table border=\"1\" class=\"dataframe\">\n",
       "  <thead>\n",
       "    <tr style=\"text-align: right;\">\n",
       "      <th></th>\n",
       "      <th>loan_amount</th>\n",
       "      <th>collateral_value</th>\n",
       "      <th>cheque_bounces</th>\n",
       "      <th>number_of_loans</th>\n",
       "      <th>missed_repayments</th>\n",
       "      <th>vintage_in_months</th>\n",
       "      <th>tenure_years</th>\n",
       "      <th>interest</th>\n",
       "      <th>monthly_emi</th>\n",
       "      <th>repayment_amount</th>\n",
       "      <th>balance_amount</th>\n",
       "      <th>LGD</th>\n",
       "      <th>days_to_default</th>\n",
       "      <th>Consumer-Durable</th>\n",
       "      <th>Personal</th>\n",
       "      <th>Two-Wheeler</th>\n",
       "    </tr>\n",
       "  </thead>\n",
       "  <tbody>\n",
       "    <tr>\n",
       "      <th>count</th>\n",
       "      <td>4.957500e+04</td>\n",
       "      <td>49575.000000</td>\n",
       "      <td>49575.000000</td>\n",
       "      <td>49575.000000</td>\n",
       "      <td>49575.000000</td>\n",
       "      <td>49575.000000</td>\n",
       "      <td>49575.000000</td>\n",
       "      <td>49575.000000</td>\n",
       "      <td>49575.000000</td>\n",
       "      <td>4.957500e+04</td>\n",
       "      <td>49575.000000</td>\n",
       "      <td>49575.000000</td>\n",
       "      <td>49575.000000</td>\n",
       "      <td>49575.000000</td>\n",
       "      <td>49575.000000</td>\n",
       "      <td>49575.000000</td>\n",
       "    </tr>\n",
       "    <tr>\n",
       "      <th>mean</th>\n",
       "      <td>3.815856e+05</td>\n",
       "      <td>57166.219422</td>\n",
       "      <td>1.766193</td>\n",
       "      <td>1.511770</td>\n",
       "      <td>9.826021</td>\n",
       "      <td>79.915098</td>\n",
       "      <td>2.998729</td>\n",
       "      <td>11.483609</td>\n",
       "      <td>16548.838168</td>\n",
       "      <td>1.509369e+05</td>\n",
       "      <td>7635.193584</td>\n",
       "      <td>0.451797</td>\n",
       "      <td>543.397741</td>\n",
       "      <td>0.248371</td>\n",
       "      <td>0.249319</td>\n",
       "      <td>0.251357</td>\n",
       "    </tr>\n",
       "    <tr>\n",
       "      <th>std</th>\n",
       "      <td>5.035225e+05</td>\n",
       "      <td>93355.556957</td>\n",
       "      <td>1.760519</td>\n",
       "      <td>1.259161</td>\n",
       "      <td>7.786010</td>\n",
       "      <td>44.101763</td>\n",
       "      <td>1.414348</td>\n",
       "      <td>2.019208</td>\n",
       "      <td>26607.423458</td>\n",
       "      <td>2.543506e+05</td>\n",
       "      <td>15984.746041</td>\n",
       "      <td>0.240193</td>\n",
       "      <td>395.351846</td>\n",
       "      <td>0.432073</td>\n",
       "      <td>0.432623</td>\n",
       "      <td>0.433797</td>\n",
       "    </tr>\n",
       "    <tr>\n",
       "      <th>min</th>\n",
       "      <td>2.000000e+03</td>\n",
       "      <td>0.070000</td>\n",
       "      <td>0.000000</td>\n",
       "      <td>0.000000</td>\n",
       "      <td>0.000000</td>\n",
       "      <td>15.000000</td>\n",
       "      <td>1.000000</td>\n",
       "      <td>8.000000</td>\n",
       "      <td>42.520000</td>\n",
       "      <td>0.000000e+00</td>\n",
       "      <td>0.096557</td>\n",
       "      <td>0.000103</td>\n",
       "      <td>90.000000</td>\n",
       "      <td>0.000000</td>\n",
       "      <td>0.000000</td>\n",
       "      <td>0.000000</td>\n",
       "    </tr>\n",
       "    <tr>\n",
       "      <th>25%</th>\n",
       "      <td>2.393950e+04</td>\n",
       "      <td>3331.045000</td>\n",
       "      <td>0.000000</td>\n",
       "      <td>0.000000</td>\n",
       "      <td>4.000000</td>\n",
       "      <td>44.000000</td>\n",
       "      <td>2.000000</td>\n",
       "      <td>9.700000</td>\n",
       "      <td>1156.560000</td>\n",
       "      <td>6.739956e+03</td>\n",
       "      <td>410.547985</td>\n",
       "      <td>0.243721</td>\n",
       "      <td>215.000000</td>\n",
       "      <td>0.000000</td>\n",
       "      <td>0.000000</td>\n",
       "      <td>0.000000</td>\n",
       "    </tr>\n",
       "    <tr>\n",
       "      <th>50%</th>\n",
       "      <td>1.927980e+05</td>\n",
       "      <td>19895.540000</td>\n",
       "      <td>1.000000</td>\n",
       "      <td>1.000000</td>\n",
       "      <td>8.000000</td>\n",
       "      <td>78.000000</td>\n",
       "      <td>3.000000</td>\n",
       "      <td>11.500000</td>\n",
       "      <td>6533.230000</td>\n",
       "      <td>4.844938e+04</td>\n",
       "      <td>2147.680468</td>\n",
       "      <td>0.455986</td>\n",
       "      <td>438.000000</td>\n",
       "      <td>0.000000</td>\n",
       "      <td>0.000000</td>\n",
       "      <td>0.000000</td>\n",
       "    </tr>\n",
       "    <tr>\n",
       "      <th>75%</th>\n",
       "      <td>4.333650e+05</td>\n",
       "      <td>62291.610000</td>\n",
       "      <td>3.000000</td>\n",
       "      <td>2.000000</td>\n",
       "      <td>15.000000</td>\n",
       "      <td>113.000000</td>\n",
       "      <td>4.000000</td>\n",
       "      <td>13.200000</td>\n",
       "      <td>19413.110000</td>\n",
       "      <td>1.666157e+05</td>\n",
       "      <td>7323.967647</td>\n",
       "      <td>0.667406</td>\n",
       "      <td>793.000000</td>\n",
       "      <td>0.000000</td>\n",
       "      <td>0.000000</td>\n",
       "      <td>1.000000</td>\n",
       "    </tr>\n",
       "    <tr>\n",
       "      <th>max</th>\n",
       "      <td>1.999992e+06</td>\n",
       "      <td>592545.710000</td>\n",
       "      <td>11.000000</td>\n",
       "      <td>6.000000</td>\n",
       "      <td>38.000000</td>\n",
       "      <td>258.000000</td>\n",
       "      <td>5.000000</td>\n",
       "      <td>15.000000</td>\n",
       "      <td>179521.680000</td>\n",
       "      <td>1.852111e+06</td>\n",
       "      <td>261799.895617</td>\n",
       "      <td>0.898372</td>\n",
       "      <td>1709.000000</td>\n",
       "      <td>1.000000</td>\n",
       "      <td>1.000000</td>\n",
       "      <td>1.000000</td>\n",
       "    </tr>\n",
       "  </tbody>\n",
       "</table>\n",
       "</div>"
      ],
      "text/plain": [
       "        loan_amount  collateral_value  cheque_bounces  number_of_loans  \\\n",
       "count  4.957500e+04      49575.000000    49575.000000     49575.000000   \n",
       "mean   3.815856e+05      57166.219422        1.766193         1.511770   \n",
       "std    5.035225e+05      93355.556957        1.760519         1.259161   \n",
       "min    2.000000e+03          0.070000        0.000000         0.000000   \n",
       "25%    2.393950e+04       3331.045000        0.000000         0.000000   \n",
       "50%    1.927980e+05      19895.540000        1.000000         1.000000   \n",
       "75%    4.333650e+05      62291.610000        3.000000         2.000000   \n",
       "max    1.999992e+06     592545.710000       11.000000         6.000000   \n",
       "\n",
       "       missed_repayments  vintage_in_months  tenure_years      interest  \\\n",
       "count       49575.000000       49575.000000  49575.000000  49575.000000   \n",
       "mean            9.826021          79.915098      2.998729     11.483609   \n",
       "std             7.786010          44.101763      1.414348      2.019208   \n",
       "min             0.000000          15.000000      1.000000      8.000000   \n",
       "25%             4.000000          44.000000      2.000000      9.700000   \n",
       "50%             8.000000          78.000000      3.000000     11.500000   \n",
       "75%            15.000000         113.000000      4.000000     13.200000   \n",
       "max            38.000000         258.000000      5.000000     15.000000   \n",
       "\n",
       "         monthly_emi  repayment_amount  balance_amount           LGD  \\\n",
       "count   49575.000000      4.957500e+04    49575.000000  49575.000000   \n",
       "mean    16548.838168      1.509369e+05     7635.193584      0.451797   \n",
       "std     26607.423458      2.543506e+05    15984.746041      0.240193   \n",
       "min        42.520000      0.000000e+00        0.096557      0.000103   \n",
       "25%      1156.560000      6.739956e+03      410.547985      0.243721   \n",
       "50%      6533.230000      4.844938e+04     2147.680468      0.455986   \n",
       "75%     19413.110000      1.666157e+05     7323.967647      0.667406   \n",
       "max    179521.680000      1.852111e+06   261799.895617      0.898372   \n",
       "\n",
       "       days_to_default  Consumer-Durable      Personal   Two-Wheeler  \n",
       "count     49575.000000      49575.000000  49575.000000  49575.000000  \n",
       "mean        543.397741          0.248371      0.249319      0.251357  \n",
       "std         395.351846          0.432073      0.432623      0.433797  \n",
       "min          90.000000          0.000000      0.000000      0.000000  \n",
       "25%         215.000000          0.000000      0.000000      0.000000  \n",
       "50%         438.000000          0.000000      0.000000      0.000000  \n",
       "75%         793.000000          0.000000      0.000000      1.000000  \n",
       "max        1709.000000          1.000000      1.000000      1.000000  "
      ]
     },
     "execution_count": 332,
     "metadata": {},
     "output_type": "execute_result"
    }
   ],
   "source": [
    "#Checking the train dataset\n",
    "df_train.describe()"
   ]
  },
  {
   "cell_type": "code",
   "execution_count": 695,
   "id": "fad817f0",
   "metadata": {},
   "outputs": [],
   "source": [
    "#Splitting the data into X and y variables\n",
    "X_train=df_train.drop(\"LGD\",axis=1)\n",
    "y_train=df_train[\"LGD\"]"
   ]
  },
  {
   "cell_type": "code",
   "execution_count": 696,
   "id": "186fe26b",
   "metadata": {},
   "outputs": [],
   "source": [
    "#Scaling the data\n",
    "from sklearn.preprocessing import MinMaxScaler\n",
    "scaler = MinMaxScaler()"
   ]
  },
  {
   "cell_type": "code",
   "execution_count": 697,
   "id": "e58820ad",
   "metadata": {},
   "outputs": [
    {
     "data": {
      "text/plain": [
       "Index(['loan_amount', 'collateral_value', 'cheque_bounces', 'number_of_loans',\n",
       "       'missed_repayments', 'vintage_in_months', 'tenure_years', 'interest',\n",
       "       'monthly_emi', 'repayment_amount', 'balance_amount', 'days_to_default',\n",
       "       'Consumer-Durable', 'Personal', 'Two-Wheeler'],\n",
       "      dtype='object')"
      ]
     },
     "execution_count": 697,
     "metadata": {},
     "output_type": "execute_result"
    }
   ],
   "source": [
    "X_train.columns"
   ]
  },
  {
   "cell_type": "code",
   "execution_count": 698,
   "id": "edb65926",
   "metadata": {},
   "outputs": [],
   "source": [
    "#Scaling the data\n",
    "X_train[['loan_amount', 'collateral_value', 'cheque_bounces', 'number_of_loans',\n",
    "       'missed_repayments', 'vintage_in_months', 'tenure_years', 'interest',\n",
    "       'monthly_emi', 'repayment_amount', 'balance_amount', 'days_to_default']]=scaler.fit_transform(X_train[['loan_amount', 'collateral_value', 'cheque_bounces', 'number_of_loans',\n",
    "       'missed_repayments', 'vintage_in_months', 'tenure_years', 'interest',\n",
    "       'monthly_emi', 'repayment_amount', 'balance_amount', 'days_to_default']])"
   ]
  },
  {
   "cell_type": "code",
   "execution_count": 699,
   "id": "0dabbd4a",
   "metadata": {},
   "outputs": [
    {
     "data": {
      "text/plain": [
       "count    49575.000000\n",
       "mean         0.451797\n",
       "std          0.240193\n",
       "min          0.000103\n",
       "25%          0.243721\n",
       "50%          0.455986\n",
       "75%          0.667406\n",
       "max          0.898372\n",
       "Name: LGD, dtype: float64"
      ]
     },
     "execution_count": 699,
     "metadata": {},
     "output_type": "execute_result"
    }
   ],
   "source": [
    "y_train.describe()"
   ]
  },
  {
   "cell_type": "code",
   "execution_count": 700,
   "id": "4a3c86d8",
   "metadata": {},
   "outputs": [
    {
     "data": {
      "text/html": [
       "<div>\n",
       "<style scoped>\n",
       "    .dataframe tbody tr th:only-of-type {\n",
       "        vertical-align: middle;\n",
       "    }\n",
       "\n",
       "    .dataframe tbody tr th {\n",
       "        vertical-align: top;\n",
       "    }\n",
       "\n",
       "    .dataframe thead th {\n",
       "        text-align: right;\n",
       "    }\n",
       "</style>\n",
       "<table border=\"1\" class=\"dataframe\">\n",
       "  <thead>\n",
       "    <tr style=\"text-align: right;\">\n",
       "      <th></th>\n",
       "      <th>loan_amount</th>\n",
       "      <th>collateral_value</th>\n",
       "      <th>cheque_bounces</th>\n",
       "      <th>number_of_loans</th>\n",
       "      <th>missed_repayments</th>\n",
       "      <th>vintage_in_months</th>\n",
       "      <th>tenure_years</th>\n",
       "      <th>interest</th>\n",
       "      <th>monthly_emi</th>\n",
       "      <th>repayment_amount</th>\n",
       "      <th>balance_amount</th>\n",
       "      <th>days_to_default</th>\n",
       "      <th>Consumer-Durable</th>\n",
       "      <th>Personal</th>\n",
       "      <th>Two-Wheeler</th>\n",
       "    </tr>\n",
       "  </thead>\n",
       "  <tbody>\n",
       "    <tr>\n",
       "      <th>count</th>\n",
       "      <td>49575.000000</td>\n",
       "      <td>49575.000000</td>\n",
       "      <td>49575.000000</td>\n",
       "      <td>49575.000000</td>\n",
       "      <td>49575.000000</td>\n",
       "      <td>49575.000000</td>\n",
       "      <td>49575.000000</td>\n",
       "      <td>49575.000000</td>\n",
       "      <td>49575.000000</td>\n",
       "      <td>49575.000000</td>\n",
       "      <td>49575.000000</td>\n",
       "      <td>49575.000000</td>\n",
       "      <td>49575.000000</td>\n",
       "      <td>49575.000000</td>\n",
       "      <td>49575.000000</td>\n",
       "    </tr>\n",
       "    <tr>\n",
       "      <th>mean</th>\n",
       "      <td>0.189984</td>\n",
       "      <td>0.096476</td>\n",
       "      <td>0.160563</td>\n",
       "      <td>0.251962</td>\n",
       "      <td>0.258580</td>\n",
       "      <td>0.267140</td>\n",
       "      <td>0.499682</td>\n",
       "      <td>0.497658</td>\n",
       "      <td>0.091968</td>\n",
       "      <td>0.081494</td>\n",
       "      <td>0.029164</td>\n",
       "      <td>0.280048</td>\n",
       "      <td>0.248371</td>\n",
       "      <td>0.249319</td>\n",
       "      <td>0.251357</td>\n",
       "    </tr>\n",
       "    <tr>\n",
       "      <th>std</th>\n",
       "      <td>0.252014</td>\n",
       "      <td>0.157550</td>\n",
       "      <td>0.160047</td>\n",
       "      <td>0.209860</td>\n",
       "      <td>0.204895</td>\n",
       "      <td>0.181489</td>\n",
       "      <td>0.353587</td>\n",
       "      <td>0.288458</td>\n",
       "      <td>0.148248</td>\n",
       "      <td>0.137330</td>\n",
       "      <td>0.061057</td>\n",
       "      <td>0.244195</td>\n",
       "      <td>0.432073</td>\n",
       "      <td>0.432623</td>\n",
       "      <td>0.433797</td>\n",
       "    </tr>\n",
       "    <tr>\n",
       "      <th>min</th>\n",
       "      <td>0.000000</td>\n",
       "      <td>0.000000</td>\n",
       "      <td>0.000000</td>\n",
       "      <td>0.000000</td>\n",
       "      <td>0.000000</td>\n",
       "      <td>0.000000</td>\n",
       "      <td>0.000000</td>\n",
       "      <td>0.000000</td>\n",
       "      <td>0.000000</td>\n",
       "      <td>0.000000</td>\n",
       "      <td>0.000000</td>\n",
       "      <td>0.000000</td>\n",
       "      <td>0.000000</td>\n",
       "      <td>0.000000</td>\n",
       "      <td>0.000000</td>\n",
       "    </tr>\n",
       "    <tr>\n",
       "      <th>25%</th>\n",
       "      <td>0.010981</td>\n",
       "      <td>0.005621</td>\n",
       "      <td>0.000000</td>\n",
       "      <td>0.000000</td>\n",
       "      <td>0.105263</td>\n",
       "      <td>0.119342</td>\n",
       "      <td>0.250000</td>\n",
       "      <td>0.242857</td>\n",
       "      <td>0.006207</td>\n",
       "      <td>0.003639</td>\n",
       "      <td>0.001568</td>\n",
       "      <td>0.077208</td>\n",
       "      <td>0.000000</td>\n",
       "      <td>0.000000</td>\n",
       "      <td>0.000000</td>\n",
       "    </tr>\n",
       "    <tr>\n",
       "      <th>50%</th>\n",
       "      <td>0.095495</td>\n",
       "      <td>0.033576</td>\n",
       "      <td>0.090909</td>\n",
       "      <td>0.166667</td>\n",
       "      <td>0.210526</td>\n",
       "      <td>0.259259</td>\n",
       "      <td>0.500000</td>\n",
       "      <td>0.500000</td>\n",
       "      <td>0.036164</td>\n",
       "      <td>0.026159</td>\n",
       "      <td>0.008203</td>\n",
       "      <td>0.214947</td>\n",
       "      <td>0.000000</td>\n",
       "      <td>0.000000</td>\n",
       "      <td>0.000000</td>\n",
       "    </tr>\n",
       "    <tr>\n",
       "      <th>75%</th>\n",
       "      <td>0.215899</td>\n",
       "      <td>0.105125</td>\n",
       "      <td>0.272727</td>\n",
       "      <td>0.333333</td>\n",
       "      <td>0.394737</td>\n",
       "      <td>0.403292</td>\n",
       "      <td>0.750000</td>\n",
       "      <td>0.742857</td>\n",
       "      <td>0.107927</td>\n",
       "      <td>0.089960</td>\n",
       "      <td>0.027975</td>\n",
       "      <td>0.434219</td>\n",
       "      <td>0.000000</td>\n",
       "      <td>0.000000</td>\n",
       "      <td>1.000000</td>\n",
       "    </tr>\n",
       "    <tr>\n",
       "      <th>max</th>\n",
       "      <td>1.000000</td>\n",
       "      <td>1.000000</td>\n",
       "      <td>1.000000</td>\n",
       "      <td>1.000000</td>\n",
       "      <td>1.000000</td>\n",
       "      <td>1.000000</td>\n",
       "      <td>1.000000</td>\n",
       "      <td>1.000000</td>\n",
       "      <td>1.000000</td>\n",
       "      <td>1.000000</td>\n",
       "      <td>1.000000</td>\n",
       "      <td>1.000000</td>\n",
       "      <td>1.000000</td>\n",
       "      <td>1.000000</td>\n",
       "      <td>1.000000</td>\n",
       "    </tr>\n",
       "  </tbody>\n",
       "</table>\n",
       "</div>"
      ],
      "text/plain": [
       "        loan_amount  collateral_value  cheque_bounces  number_of_loans  \\\n",
       "count  49575.000000      49575.000000    49575.000000     49575.000000   \n",
       "mean       0.189984          0.096476        0.160563         0.251962   \n",
       "std        0.252014          0.157550        0.160047         0.209860   \n",
       "min        0.000000          0.000000        0.000000         0.000000   \n",
       "25%        0.010981          0.005621        0.000000         0.000000   \n",
       "50%        0.095495          0.033576        0.090909         0.166667   \n",
       "75%        0.215899          0.105125        0.272727         0.333333   \n",
       "max        1.000000          1.000000        1.000000         1.000000   \n",
       "\n",
       "       missed_repayments  vintage_in_months  tenure_years      interest  \\\n",
       "count       49575.000000       49575.000000  49575.000000  49575.000000   \n",
       "mean            0.258580           0.267140      0.499682      0.497658   \n",
       "std             0.204895           0.181489      0.353587      0.288458   \n",
       "min             0.000000           0.000000      0.000000      0.000000   \n",
       "25%             0.105263           0.119342      0.250000      0.242857   \n",
       "50%             0.210526           0.259259      0.500000      0.500000   \n",
       "75%             0.394737           0.403292      0.750000      0.742857   \n",
       "max             1.000000           1.000000      1.000000      1.000000   \n",
       "\n",
       "        monthly_emi  repayment_amount  balance_amount  days_to_default  \\\n",
       "count  49575.000000      49575.000000    49575.000000     49575.000000   \n",
       "mean       0.091968          0.081494        0.029164         0.280048   \n",
       "std        0.148248          0.137330        0.061057         0.244195   \n",
       "min        0.000000          0.000000        0.000000         0.000000   \n",
       "25%        0.006207          0.003639        0.001568         0.077208   \n",
       "50%        0.036164          0.026159        0.008203         0.214947   \n",
       "75%        0.107927          0.089960        0.027975         0.434219   \n",
       "max        1.000000          1.000000        1.000000         1.000000   \n",
       "\n",
       "       Consumer-Durable      Personal   Two-Wheeler  \n",
       "count      49575.000000  49575.000000  49575.000000  \n",
       "mean           0.248371      0.249319      0.251357  \n",
       "std            0.432073      0.432623      0.433797  \n",
       "min            0.000000      0.000000      0.000000  \n",
       "25%            0.000000      0.000000      0.000000  \n",
       "50%            0.000000      0.000000      0.000000  \n",
       "75%            0.000000      0.000000      1.000000  \n",
       "max            1.000000      1.000000      1.000000  "
      ]
     },
     "execution_count": 700,
     "metadata": {},
     "output_type": "execute_result"
    }
   ],
   "source": [
    "#Checking the data\n",
    "X_train.describe()"
   ]
  },
  {
   "cell_type": "markdown",
   "id": "f5550987",
   "metadata": {},
   "source": [
    "All variables have been scaled"
   ]
  },
  {
   "cell_type": "markdown",
   "id": "52e68f79",
   "metadata": {},
   "source": [
    "## Preparing the test dataset"
   ]
  },
  {
   "cell_type": "markdown",
   "id": "794346e4",
   "metadata": {},
   "source": [
    "#### We will perform the same steps on test data to derive the required features and drop unncessary columns"
   ]
  },
  {
   "cell_type": "code",
   "execution_count": 763,
   "id": "0a066ae3",
   "metadata": {},
   "outputs": [],
   "source": [
    "#importing the datasets\n",
    "df_test_main = pd.read_csv(\"test_main_loan_base.csv\")\n",
    "df_test_repayment = pd.read_csv(\"test_repayment_base.csv\")\n",
    "df_test_monthly_balance = pd.read_csv(\"test_monthly_balance_base.csv\")"
   ]
  },
  {
   "cell_type": "code",
   "execution_count": 764,
   "id": "00d4159f",
   "metadata": {},
   "outputs": [],
   "source": [
    "#Dropping Duplicates in loan_acc_num\n",
    "df_test_main=df_test_main.drop_duplicates(subset=\"loan_acc_num\")"
   ]
  },
  {
   "cell_type": "code",
   "execution_count": 765,
   "id": "f95d6d17",
   "metadata": {},
   "outputs": [
    {
     "data": {
      "text/html": [
       "<div>\n",
       "<style scoped>\n",
       "    .dataframe tbody tr th:only-of-type {\n",
       "        vertical-align: middle;\n",
       "    }\n",
       "\n",
       "    .dataframe tbody tr th {\n",
       "        vertical-align: top;\n",
       "    }\n",
       "\n",
       "    .dataframe thead th {\n",
       "        text-align: right;\n",
       "    }\n",
       "</style>\n",
       "<table border=\"1\" class=\"dataframe\">\n",
       "  <thead>\n",
       "    <tr style=\"text-align: right;\">\n",
       "      <th></th>\n",
       "      <th>loan_acc_num</th>\n",
       "      <th>customer_name</th>\n",
       "      <th>customer_address</th>\n",
       "      <th>loan_type</th>\n",
       "      <th>loan_amount</th>\n",
       "      <th>collateral_value</th>\n",
       "      <th>cheque_bounces</th>\n",
       "      <th>number_of_loans</th>\n",
       "      <th>missed_repayments</th>\n",
       "      <th>vintage_in_months</th>\n",
       "      <th>tenure_years</th>\n",
       "      <th>interest</th>\n",
       "      <th>monthly_emi</th>\n",
       "      <th>disbursal_date</th>\n",
       "      <th>default_date</th>\n",
       "    </tr>\n",
       "  </thead>\n",
       "  <tbody>\n",
       "    <tr>\n",
       "      <th>0</th>\n",
       "      <td>LN14086568</td>\n",
       "      <td>Jayesh Kar</td>\n",
       "      <td>83/65, Deo Circle\\nBhagalpur-852841</td>\n",
       "      <td>Car</td>\n",
       "      <td>1259062</td>\n",
       "      <td>10184.09</td>\n",
       "      <td>3</td>\n",
       "      <td>1</td>\n",
       "      <td>5</td>\n",
       "      <td>103</td>\n",
       "      <td>1</td>\n",
       "      <td>12.1</td>\n",
       "      <td>111925.04</td>\n",
       "      <td>2014-11-23</td>\n",
       "      <td>2015-04-30</td>\n",
       "    </tr>\n",
       "    <tr>\n",
       "      <th>1</th>\n",
       "      <td>LN37082418</td>\n",
       "      <td>Kaira Chhabra</td>\n",
       "      <td>17\\nSule Ganj\\nAizawl 491897</td>\n",
       "      <td>Consumer-Durable</td>\n",
       "      <td>21731</td>\n",
       "      <td>2313.21</td>\n",
       "      <td>0</td>\n",
       "      <td>3</td>\n",
       "      <td>26</td>\n",
       "      <td>39</td>\n",
       "      <td>5</td>\n",
       "      <td>12.2</td>\n",
       "      <td>485.59</td>\n",
       "      <td>2014-01-11</td>\n",
       "      <td>2017-03-11</td>\n",
       "    </tr>\n",
       "    <tr>\n",
       "      <th>2</th>\n",
       "      <td>LN42963368</td>\n",
       "      <td>Anahita Bhargava</td>\n",
       "      <td>51/421\\nKannan Chowk\\nVaranasi-209999</td>\n",
       "      <td>Car</td>\n",
       "      <td>207660</td>\n",
       "      <td>8308.71</td>\n",
       "      <td>1</td>\n",
       "      <td>2</td>\n",
       "      <td>0</td>\n",
       "      <td>63</td>\n",
       "      <td>1</td>\n",
       "      <td>13.9</td>\n",
       "      <td>18635.42</td>\n",
       "      <td>2012-10-26</td>\n",
       "      <td>2013-06-23</td>\n",
       "    </tr>\n",
       "    <tr>\n",
       "      <th>3</th>\n",
       "      <td>LN54572294</td>\n",
       "      <td>Myra Samra</td>\n",
       "      <td>22\\nSubramanian Marg, Bhilai 850327</td>\n",
       "      <td>Two-Wheeler</td>\n",
       "      <td>193528</td>\n",
       "      <td>26432.24</td>\n",
       "      <td>4</td>\n",
       "      <td>3</td>\n",
       "      <td>12</td>\n",
       "      <td>15</td>\n",
       "      <td>2</td>\n",
       "      <td>12.5</td>\n",
       "      <td>9155.29</td>\n",
       "      <td>2021-10-07</td>\n",
       "      <td>2023-01-19</td>\n",
       "    </tr>\n",
       "    <tr>\n",
       "      <th>4</th>\n",
       "      <td>LN65792799</td>\n",
       "      <td>Arhaan Rana</td>\n",
       "      <td>22, Kapoor Road\\nJalandhar 667155</td>\n",
       "      <td>Consumer-Durable</td>\n",
       "      <td>5980</td>\n",
       "      <td>1641.66</td>\n",
       "      <td>1</td>\n",
       "      <td>1</td>\n",
       "      <td>0</td>\n",
       "      <td>152</td>\n",
       "      <td>1</td>\n",
       "      <td>14.6</td>\n",
       "      <td>538.62</td>\n",
       "      <td>2020-03-04</td>\n",
       "      <td>2020-10-08</td>\n",
       "    </tr>\n",
       "  </tbody>\n",
       "</table>\n",
       "</div>"
      ],
      "text/plain": [
       "  loan_acc_num     customer_name                       customer_address  \\\n",
       "0   LN14086568        Jayesh Kar    83/65, Deo Circle\\nBhagalpur-852841   \n",
       "1   LN37082418     Kaira Chhabra           17\\nSule Ganj\\nAizawl 491897   \n",
       "2   LN42963368  Anahita Bhargava  51/421\\nKannan Chowk\\nVaranasi-209999   \n",
       "3   LN54572294        Myra Samra    22\\nSubramanian Marg, Bhilai 850327   \n",
       "4   LN65792799       Arhaan Rana      22, Kapoor Road\\nJalandhar 667155   \n",
       "\n",
       "          loan_type  loan_amount  collateral_value  cheque_bounces  \\\n",
       "0               Car      1259062          10184.09               3   \n",
       "1  Consumer-Durable        21731           2313.21               0   \n",
       "2               Car       207660           8308.71               1   \n",
       "3       Two-Wheeler       193528          26432.24               4   \n",
       "4  Consumer-Durable         5980           1641.66               1   \n",
       "\n",
       "   number_of_loans  missed_repayments  vintage_in_months  tenure_years  \\\n",
       "0                1                  5                103             1   \n",
       "1                3                 26                 39             5   \n",
       "2                2                  0                 63             1   \n",
       "3                3                 12                 15             2   \n",
       "4                1                  0                152             1   \n",
       "\n",
       "   interest  monthly_emi disbursal_date default_date  \n",
       "0      12.1    111925.04     2014-11-23   2015-04-30  \n",
       "1      12.2       485.59     2014-01-11   2017-03-11  \n",
       "2      13.9     18635.42     2012-10-26   2013-06-23  \n",
       "3      12.5      9155.29     2021-10-07   2023-01-19  \n",
       "4      14.6       538.62     2020-03-04   2020-10-08  "
      ]
     },
     "execution_count": 765,
     "metadata": {},
     "output_type": "execute_result"
    }
   ],
   "source": [
    "df_test_main.head()"
   ]
  },
  {
   "cell_type": "code",
   "execution_count": 766,
   "id": "34ceee8c",
   "metadata": {},
   "outputs": [
    {
     "data": {
      "text/html": [
       "<div>\n",
       "<style scoped>\n",
       "    .dataframe tbody tr th:only-of-type {\n",
       "        vertical-align: middle;\n",
       "    }\n",
       "\n",
       "    .dataframe tbody tr th {\n",
       "        vertical-align: top;\n",
       "    }\n",
       "\n",
       "    .dataframe thead th {\n",
       "        text-align: right;\n",
       "    }\n",
       "</style>\n",
       "<table border=\"1\" class=\"dataframe\">\n",
       "  <thead>\n",
       "    <tr style=\"text-align: right;\">\n",
       "      <th></th>\n",
       "      <th>loan_acc_num</th>\n",
       "      <th>repayment_amount</th>\n",
       "      <th>repayment_date</th>\n",
       "    </tr>\n",
       "  </thead>\n",
       "  <tbody>\n",
       "    <tr>\n",
       "      <th>0</th>\n",
       "      <td>LN14086568</td>\n",
       "      <td>111925.040000</td>\n",
       "      <td>2014-12-19</td>\n",
       "    </tr>\n",
       "    <tr>\n",
       "      <th>1</th>\n",
       "      <td>LN14086568</td>\n",
       "      <td>111925.040000</td>\n",
       "      <td>2015-01-26</td>\n",
       "    </tr>\n",
       "    <tr>\n",
       "      <th>2</th>\n",
       "      <td>LN14086568</td>\n",
       "      <td>111925.040000</td>\n",
       "      <td>2015-02-21</td>\n",
       "    </tr>\n",
       "    <tr>\n",
       "      <th>3</th>\n",
       "      <td>LN14086568</td>\n",
       "      <td>111925.040000</td>\n",
       "      <td>2015-03-20</td>\n",
       "    </tr>\n",
       "    <tr>\n",
       "      <th>4</th>\n",
       "      <td>LN14086568</td>\n",
       "      <td>11590.317813</td>\n",
       "      <td>2015-04-26</td>\n",
       "    </tr>\n",
       "  </tbody>\n",
       "</table>\n",
       "</div>"
      ],
      "text/plain": [
       "  loan_acc_num  repayment_amount repayment_date\n",
       "0   LN14086568     111925.040000     2014-12-19\n",
       "1   LN14086568     111925.040000     2015-01-26\n",
       "2   LN14086568     111925.040000     2015-02-21\n",
       "3   LN14086568     111925.040000     2015-03-20\n",
       "4   LN14086568      11590.317813     2015-04-26"
      ]
     },
     "execution_count": 766,
     "metadata": {},
     "output_type": "execute_result"
    }
   ],
   "source": [
    "#insepcting the repayment dataset\n",
    "df_test_repayment.head()"
   ]
  },
  {
   "cell_type": "code",
   "execution_count": 767,
   "id": "1edd757b",
   "metadata": {},
   "outputs": [
    {
     "data": {
      "text/html": [
       "<div>\n",
       "<style scoped>\n",
       "    .dataframe tbody tr th:only-of-type {\n",
       "        vertical-align: middle;\n",
       "    }\n",
       "\n",
       "    .dataframe tbody tr th {\n",
       "        vertical-align: top;\n",
       "    }\n",
       "\n",
       "    .dataframe thead th {\n",
       "        text-align: right;\n",
       "    }\n",
       "</style>\n",
       "<table border=\"1\" class=\"dataframe\">\n",
       "  <thead>\n",
       "    <tr style=\"text-align: right;\">\n",
       "      <th></th>\n",
       "      <th>loan_acc_num</th>\n",
       "      <th>repayment_amount</th>\n",
       "    </tr>\n",
       "  </thead>\n",
       "  <tbody>\n",
       "    <tr>\n",
       "      <th>0</th>\n",
       "      <td>LN10011015</td>\n",
       "      <td>1725.313355</td>\n",
       "    </tr>\n",
       "    <tr>\n",
       "      <th>1</th>\n",
       "      <td>LN10028091</td>\n",
       "      <td>3560.311180</td>\n",
       "    </tr>\n",
       "    <tr>\n",
       "      <th>2</th>\n",
       "      <td>LN10033713</td>\n",
       "      <td>11582.166773</td>\n",
       "    </tr>\n",
       "    <tr>\n",
       "      <th>3</th>\n",
       "      <td>LN10045654</td>\n",
       "      <td>66181.736267</td>\n",
       "    </tr>\n",
       "    <tr>\n",
       "      <th>4</th>\n",
       "      <td>LN10051605</td>\n",
       "      <td>87664.413068</td>\n",
       "    </tr>\n",
       "  </tbody>\n",
       "</table>\n",
       "</div>"
      ],
      "text/plain": [
       "  loan_acc_num  repayment_amount\n",
       "0   LN10011015       1725.313355\n",
       "1   LN10028091       3560.311180\n",
       "2   LN10033713      11582.166773\n",
       "3   LN10045654      66181.736267\n",
       "4   LN10051605      87664.413068"
      ]
     },
     "execution_count": 767,
     "metadata": {},
     "output_type": "execute_result"
    }
   ],
   "source": [
    "#Aggregating the repayment amount by loan account number\n",
    "df_test_repayment=df_test_repayment.groupby('loan_acc_num')[\"repayment_amount\"].sum()\n",
    "df_test_repayment = pd.DataFrame({\"loan_acc_num\":df_test_repayment.index, \"repayment_amount\":df_test_repayment.values})\n",
    "df_test_repayment.head()"
   ]
  },
  {
   "cell_type": "code",
   "execution_count": 768,
   "id": "2bddab75",
   "metadata": {},
   "outputs": [],
   "source": [
    "#merging the main and repayment dataset\n",
    "df_test = pd.merge(\n",
    "    left=df_test_main,\n",
    "    right=df_test_repayment,\n",
    "    left_on='loan_acc_num',\n",
    "    right_on='loan_acc_num',\n",
    "    how='left'\n",
    ")"
   ]
  },
  {
   "cell_type": "code",
   "execution_count": 769,
   "id": "0fd1bc5a",
   "metadata": {},
   "outputs": [
    {
     "data": {
      "text/html": [
       "<div>\n",
       "<style scoped>\n",
       "    .dataframe tbody tr th:only-of-type {\n",
       "        vertical-align: middle;\n",
       "    }\n",
       "\n",
       "    .dataframe tbody tr th {\n",
       "        vertical-align: top;\n",
       "    }\n",
       "\n",
       "    .dataframe thead th {\n",
       "        text-align: right;\n",
       "    }\n",
       "</style>\n",
       "<table border=\"1\" class=\"dataframe\">\n",
       "  <thead>\n",
       "    <tr style=\"text-align: right;\">\n",
       "      <th></th>\n",
       "      <th>loan_acc_num</th>\n",
       "      <th>customer_name</th>\n",
       "      <th>customer_address</th>\n",
       "      <th>loan_type</th>\n",
       "      <th>loan_amount</th>\n",
       "      <th>collateral_value</th>\n",
       "      <th>cheque_bounces</th>\n",
       "      <th>number_of_loans</th>\n",
       "      <th>missed_repayments</th>\n",
       "      <th>vintage_in_months</th>\n",
       "      <th>tenure_years</th>\n",
       "      <th>interest</th>\n",
       "      <th>monthly_emi</th>\n",
       "      <th>disbursal_date</th>\n",
       "      <th>default_date</th>\n",
       "      <th>repayment_amount</th>\n",
       "    </tr>\n",
       "  </thead>\n",
       "  <tbody>\n",
       "    <tr>\n",
       "      <th>0</th>\n",
       "      <td>LN14086568</td>\n",
       "      <td>Jayesh Kar</td>\n",
       "      <td>83/65, Deo Circle\\nBhagalpur-852841</td>\n",
       "      <td>Car</td>\n",
       "      <td>1259062</td>\n",
       "      <td>10184.09</td>\n",
       "      <td>3</td>\n",
       "      <td>1</td>\n",
       "      <td>5</td>\n",
       "      <td>103</td>\n",
       "      <td>1</td>\n",
       "      <td>12.1</td>\n",
       "      <td>111925.04</td>\n",
       "      <td>2014-11-23</td>\n",
       "      <td>2015-04-30</td>\n",
       "      <td>675861.052902</td>\n",
       "    </tr>\n",
       "    <tr>\n",
       "      <th>1</th>\n",
       "      <td>LN37082418</td>\n",
       "      <td>Kaira Chhabra</td>\n",
       "      <td>17\\nSule Ganj\\nAizawl 491897</td>\n",
       "      <td>Consumer-Durable</td>\n",
       "      <td>21731</td>\n",
       "      <td>2313.21</td>\n",
       "      <td>0</td>\n",
       "      <td>3</td>\n",
       "      <td>26</td>\n",
       "      <td>39</td>\n",
       "      <td>5</td>\n",
       "      <td>12.2</td>\n",
       "      <td>485.59</td>\n",
       "      <td>2014-01-11</td>\n",
       "      <td>2017-03-11</td>\n",
       "      <td>2208.645810</td>\n",
       "    </tr>\n",
       "    <tr>\n",
       "      <th>2</th>\n",
       "      <td>LN42963368</td>\n",
       "      <td>Anahita Bhargava</td>\n",
       "      <td>51/421\\nKannan Chowk\\nVaranasi-209999</td>\n",
       "      <td>Car</td>\n",
       "      <td>207660</td>\n",
       "      <td>8308.71</td>\n",
       "      <td>1</td>\n",
       "      <td>2</td>\n",
       "      <td>0</td>\n",
       "      <td>63</td>\n",
       "      <td>1</td>\n",
       "      <td>13.9</td>\n",
       "      <td>18635.42</td>\n",
       "      <td>2012-10-26</td>\n",
       "      <td>2013-06-23</td>\n",
       "      <td>111812.520000</td>\n",
       "    </tr>\n",
       "    <tr>\n",
       "      <th>3</th>\n",
       "      <td>LN54572294</td>\n",
       "      <td>Myra Samra</td>\n",
       "      <td>22\\nSubramanian Marg, Bhilai 850327</td>\n",
       "      <td>Two-Wheeler</td>\n",
       "      <td>193528</td>\n",
       "      <td>26432.24</td>\n",
       "      <td>4</td>\n",
       "      <td>3</td>\n",
       "      <td>12</td>\n",
       "      <td>15</td>\n",
       "      <td>2</td>\n",
       "      <td>12.5</td>\n",
       "      <td>9155.29</td>\n",
       "      <td>2021-10-07</td>\n",
       "      <td>2023-01-19</td>\n",
       "      <td>18310.580000</td>\n",
       "    </tr>\n",
       "    <tr>\n",
       "      <th>4</th>\n",
       "      <td>LN65792799</td>\n",
       "      <td>Arhaan Rana</td>\n",
       "      <td>22, Kapoor Road\\nJalandhar 667155</td>\n",
       "      <td>Consumer-Durable</td>\n",
       "      <td>5980</td>\n",
       "      <td>1641.66</td>\n",
       "      <td>1</td>\n",
       "      <td>1</td>\n",
       "      <td>0</td>\n",
       "      <td>152</td>\n",
       "      <td>1</td>\n",
       "      <td>14.6</td>\n",
       "      <td>538.62</td>\n",
       "      <td>2020-03-04</td>\n",
       "      <td>2020-10-08</td>\n",
       "      <td>3428.641165</td>\n",
       "    </tr>\n",
       "  </tbody>\n",
       "</table>\n",
       "</div>"
      ],
      "text/plain": [
       "  loan_acc_num     customer_name                       customer_address  \\\n",
       "0   LN14086568        Jayesh Kar    83/65, Deo Circle\\nBhagalpur-852841   \n",
       "1   LN37082418     Kaira Chhabra           17\\nSule Ganj\\nAizawl 491897   \n",
       "2   LN42963368  Anahita Bhargava  51/421\\nKannan Chowk\\nVaranasi-209999   \n",
       "3   LN54572294        Myra Samra    22\\nSubramanian Marg, Bhilai 850327   \n",
       "4   LN65792799       Arhaan Rana      22, Kapoor Road\\nJalandhar 667155   \n",
       "\n",
       "          loan_type  loan_amount  collateral_value  cheque_bounces  \\\n",
       "0               Car      1259062          10184.09               3   \n",
       "1  Consumer-Durable        21731           2313.21               0   \n",
       "2               Car       207660           8308.71               1   \n",
       "3       Two-Wheeler       193528          26432.24               4   \n",
       "4  Consumer-Durable         5980           1641.66               1   \n",
       "\n",
       "   number_of_loans  missed_repayments  vintage_in_months  tenure_years  \\\n",
       "0                1                  5                103             1   \n",
       "1                3                 26                 39             5   \n",
       "2                2                  0                 63             1   \n",
       "3                3                 12                 15             2   \n",
       "4                1                  0                152             1   \n",
       "\n",
       "   interest  monthly_emi disbursal_date default_date  repayment_amount  \n",
       "0      12.1    111925.04     2014-11-23   2015-04-30     675861.052902  \n",
       "1      12.2       485.59     2014-01-11   2017-03-11       2208.645810  \n",
       "2      13.9     18635.42     2012-10-26   2013-06-23     111812.520000  \n",
       "3      12.5      9155.29     2021-10-07   2023-01-19      18310.580000  \n",
       "4      14.6       538.62     2020-03-04   2020-10-08       3428.641165  "
      ]
     },
     "execution_count": 769,
     "metadata": {},
     "output_type": "execute_result"
    }
   ],
   "source": [
    "df_test.head()"
   ]
  },
  {
   "cell_type": "code",
   "execution_count": 770,
   "id": "d27b9368",
   "metadata": {},
   "outputs": [
    {
     "data": {
      "text/plain": [
       "repayment_amount     7.682305\n",
       "loan_acc_num         0.000000\n",
       "customer_name        0.000000\n",
       "customer_address     0.000000\n",
       "loan_type            0.000000\n",
       "loan_amount          0.000000\n",
       "collateral_value     0.000000\n",
       "cheque_bounces       0.000000\n",
       "number_of_loans      0.000000\n",
       "missed_repayments    0.000000\n",
       "vintage_in_months    0.000000\n",
       "tenure_years         0.000000\n",
       "interest             0.000000\n",
       "monthly_emi          0.000000\n",
       "disbursal_date       0.000000\n",
       "default_date         0.000000\n",
       "dtype: float64"
      ]
     },
     "execution_count": 770,
     "metadata": {},
     "output_type": "execute_result"
    }
   ],
   "source": [
    "#Checking for nulls\n",
    "null_perc= df_test.isnull().sum().sort_values(ascending=False)/len(df_test.index)*100\n",
    "null_perc"
   ]
  },
  {
   "cell_type": "code",
   "execution_count": 771,
   "id": "02f70d31",
   "metadata": {},
   "outputs": [],
   "source": [
    "#Replacing nulls\n",
    "df_test=df_test.fillna(0)"
   ]
  },
  {
   "cell_type": "code",
   "execution_count": 772,
   "id": "dd66d5a8",
   "metadata": {},
   "outputs": [],
   "source": [
    "#Aggregating the monthly balance by loan account number\n",
    "df_test_monthly_balance=df_test_monthly_balance.groupby('loan_acc_num')['balance_amount'].mean()"
   ]
  },
  {
   "cell_type": "code",
   "execution_count": 773,
   "id": "1040f775",
   "metadata": {},
   "outputs": [
    {
     "data": {
      "text/plain": [
       "loan_acc_num\n",
       "LN10011015      25.088570\n",
       "LN10028091      62.525212\n",
       "LN10033713     182.411380\n",
       "LN10045654    1838.350525\n",
       "LN10051605    3374.170053\n",
       "Name: balance_amount, dtype: float64"
      ]
     },
     "execution_count": 773,
     "metadata": {},
     "output_type": "execute_result"
    }
   ],
   "source": [
    "df_test_monthly_balance.head()"
   ]
  },
  {
   "cell_type": "code",
   "execution_count": 774,
   "id": "14cc543a",
   "metadata": {},
   "outputs": [],
   "source": [
    "#merging the train and monthly balance dataset\n",
    "df_test = pd.merge(\n",
    "    left=df_test,\n",
    "    right=df_test_monthly_balance,\n",
    "    left_on='loan_acc_num',\n",
    "    right_on='loan_acc_num',\n",
    "    how='left'\n",
    ")"
   ]
  },
  {
   "cell_type": "code",
   "execution_count": 775,
   "id": "832f8837",
   "metadata": {},
   "outputs": [
    {
     "data": {
      "text/html": [
       "<div>\n",
       "<style scoped>\n",
       "    .dataframe tbody tr th:only-of-type {\n",
       "        vertical-align: middle;\n",
       "    }\n",
       "\n",
       "    .dataframe tbody tr th {\n",
       "        vertical-align: top;\n",
       "    }\n",
       "\n",
       "    .dataframe thead th {\n",
       "        text-align: right;\n",
       "    }\n",
       "</style>\n",
       "<table border=\"1\" class=\"dataframe\">\n",
       "  <thead>\n",
       "    <tr style=\"text-align: right;\">\n",
       "      <th></th>\n",
       "      <th>loan_acc_num</th>\n",
       "      <th>customer_name</th>\n",
       "      <th>customer_address</th>\n",
       "      <th>loan_type</th>\n",
       "      <th>loan_amount</th>\n",
       "      <th>collateral_value</th>\n",
       "      <th>cheque_bounces</th>\n",
       "      <th>number_of_loans</th>\n",
       "      <th>missed_repayments</th>\n",
       "      <th>vintage_in_months</th>\n",
       "      <th>tenure_years</th>\n",
       "      <th>interest</th>\n",
       "      <th>monthly_emi</th>\n",
       "      <th>disbursal_date</th>\n",
       "      <th>default_date</th>\n",
       "      <th>repayment_amount</th>\n",
       "      <th>balance_amount</th>\n",
       "    </tr>\n",
       "  </thead>\n",
       "  <tbody>\n",
       "    <tr>\n",
       "      <th>0</th>\n",
       "      <td>LN14086568</td>\n",
       "      <td>Jayesh Kar</td>\n",
       "      <td>83/65, Deo Circle\\nBhagalpur-852841</td>\n",
       "      <td>Car</td>\n",
       "      <td>1259062</td>\n",
       "      <td>10184.09</td>\n",
       "      <td>3</td>\n",
       "      <td>1</td>\n",
       "      <td>5</td>\n",
       "      <td>103</td>\n",
       "      <td>1</td>\n",
       "      <td>12.1</td>\n",
       "      <td>111925.04</td>\n",
       "      <td>2014-11-23</td>\n",
       "      <td>2015-04-30</td>\n",
       "      <td>675861.052902</td>\n",
       "      <td>26560.585984</td>\n",
       "    </tr>\n",
       "    <tr>\n",
       "      <th>1</th>\n",
       "      <td>LN37082418</td>\n",
       "      <td>Kaira Chhabra</td>\n",
       "      <td>17\\nSule Ganj\\nAizawl 491897</td>\n",
       "      <td>Consumer-Durable</td>\n",
       "      <td>21731</td>\n",
       "      <td>2313.21</td>\n",
       "      <td>0</td>\n",
       "      <td>3</td>\n",
       "      <td>26</td>\n",
       "      <td>39</td>\n",
       "      <td>5</td>\n",
       "      <td>12.2</td>\n",
       "      <td>485.59</td>\n",
       "      <td>2014-01-11</td>\n",
       "      <td>2017-03-11</td>\n",
       "      <td>2208.645810</td>\n",
       "      <td>80.712017</td>\n",
       "    </tr>\n",
       "    <tr>\n",
       "      <th>2</th>\n",
       "      <td>LN42963368</td>\n",
       "      <td>Anahita Bhargava</td>\n",
       "      <td>51/421\\nKannan Chowk\\nVaranasi-209999</td>\n",
       "      <td>Car</td>\n",
       "      <td>207660</td>\n",
       "      <td>8308.71</td>\n",
       "      <td>1</td>\n",
       "      <td>2</td>\n",
       "      <td>0</td>\n",
       "      <td>63</td>\n",
       "      <td>1</td>\n",
       "      <td>13.9</td>\n",
       "      <td>18635.42</td>\n",
       "      <td>2012-10-26</td>\n",
       "      <td>2013-06-23</td>\n",
       "      <td>111812.520000</td>\n",
       "      <td>15501.249720</td>\n",
       "    </tr>\n",
       "    <tr>\n",
       "      <th>3</th>\n",
       "      <td>LN54572294</td>\n",
       "      <td>Myra Samra</td>\n",
       "      <td>22\\nSubramanian Marg, Bhilai 850327</td>\n",
       "      <td>Two-Wheeler</td>\n",
       "      <td>193528</td>\n",
       "      <td>26432.24</td>\n",
       "      <td>4</td>\n",
       "      <td>3</td>\n",
       "      <td>12</td>\n",
       "      <td>15</td>\n",
       "      <td>2</td>\n",
       "      <td>12.5</td>\n",
       "      <td>9155.29</td>\n",
       "      <td>2021-10-07</td>\n",
       "      <td>2023-01-19</td>\n",
       "      <td>18310.580000</td>\n",
       "      <td>2806.721974</td>\n",
       "    </tr>\n",
       "    <tr>\n",
       "      <th>4</th>\n",
       "      <td>LN65792799</td>\n",
       "      <td>Arhaan Rana</td>\n",
       "      <td>22, Kapoor Road\\nJalandhar 667155</td>\n",
       "      <td>Consumer-Durable</td>\n",
       "      <td>5980</td>\n",
       "      <td>1641.66</td>\n",
       "      <td>1</td>\n",
       "      <td>1</td>\n",
       "      <td>0</td>\n",
       "      <td>152</td>\n",
       "      <td>1</td>\n",
       "      <td>14.6</td>\n",
       "      <td>538.62</td>\n",
       "      <td>2020-03-04</td>\n",
       "      <td>2020-10-08</td>\n",
       "      <td>3428.641165</td>\n",
       "      <td>673.018752</td>\n",
       "    </tr>\n",
       "  </tbody>\n",
       "</table>\n",
       "</div>"
      ],
      "text/plain": [
       "  loan_acc_num     customer_name                       customer_address  \\\n",
       "0   LN14086568        Jayesh Kar    83/65, Deo Circle\\nBhagalpur-852841   \n",
       "1   LN37082418     Kaira Chhabra           17\\nSule Ganj\\nAizawl 491897   \n",
       "2   LN42963368  Anahita Bhargava  51/421\\nKannan Chowk\\nVaranasi-209999   \n",
       "3   LN54572294        Myra Samra    22\\nSubramanian Marg, Bhilai 850327   \n",
       "4   LN65792799       Arhaan Rana      22, Kapoor Road\\nJalandhar 667155   \n",
       "\n",
       "          loan_type  loan_amount  collateral_value  cheque_bounces  \\\n",
       "0               Car      1259062          10184.09               3   \n",
       "1  Consumer-Durable        21731           2313.21               0   \n",
       "2               Car       207660           8308.71               1   \n",
       "3       Two-Wheeler       193528          26432.24               4   \n",
       "4  Consumer-Durable         5980           1641.66               1   \n",
       "\n",
       "   number_of_loans  missed_repayments  vintage_in_months  tenure_years  \\\n",
       "0                1                  5                103             1   \n",
       "1                3                 26                 39             5   \n",
       "2                2                  0                 63             1   \n",
       "3                3                 12                 15             2   \n",
       "4                1                  0                152             1   \n",
       "\n",
       "   interest  monthly_emi disbursal_date default_date  repayment_amount  \\\n",
       "0      12.1    111925.04     2014-11-23   2015-04-30     675861.052902   \n",
       "1      12.2       485.59     2014-01-11   2017-03-11       2208.645810   \n",
       "2      13.9     18635.42     2012-10-26   2013-06-23     111812.520000   \n",
       "3      12.5      9155.29     2021-10-07   2023-01-19      18310.580000   \n",
       "4      14.6       538.62     2020-03-04   2020-10-08       3428.641165   \n",
       "\n",
       "   balance_amount  \n",
       "0    26560.585984  \n",
       "1       80.712017  \n",
       "2    15501.249720  \n",
       "3     2806.721974  \n",
       "4      673.018752  "
      ]
     },
     "execution_count": 775,
     "metadata": {},
     "output_type": "execute_result"
    }
   ],
   "source": [
    "df_test.head()"
   ]
  },
  {
   "cell_type": "code",
   "execution_count": 776,
   "id": "712da7ef",
   "metadata": {},
   "outputs": [
    {
     "data": {
      "text/plain": [
       "balance_amount       0.570171\n",
       "vintage_in_months    0.000000\n",
       "repayment_amount     0.000000\n",
       "default_date         0.000000\n",
       "disbursal_date       0.000000\n",
       "monthly_emi          0.000000\n",
       "interest             0.000000\n",
       "tenure_years         0.000000\n",
       "loan_acc_num         0.000000\n",
       "customer_name        0.000000\n",
       "number_of_loans      0.000000\n",
       "cheque_bounces       0.000000\n",
       "collateral_value     0.000000\n",
       "loan_amount          0.000000\n",
       "loan_type            0.000000\n",
       "customer_address     0.000000\n",
       "missed_repayments    0.000000\n",
       "dtype: float64"
      ]
     },
     "execution_count": 776,
     "metadata": {},
     "output_type": "execute_result"
    }
   ],
   "source": [
    "#Checking for nulls\n",
    "null_perc= df_test.isnull().sum().sort_values(ascending=False)/len(df_test.index)*100\n",
    "null_perc"
   ]
  },
  {
   "cell_type": "code",
   "execution_count": 777,
   "id": "d1284c43",
   "metadata": {},
   "outputs": [],
   "source": [
    "# Removing the nulls from the dataframe\n",
    "df_test=df_test.dropna()"
   ]
  },
  {
   "cell_type": "code",
   "execution_count": 778,
   "id": "fcbeee12",
   "metadata": {},
   "outputs": [],
   "source": [
    "#Calculating the target  variable \n",
    "df_test['LGD'] = (df_test['loan_amount'] - (df_test['collateral_value'] + df_test['repayment_amount'])) / df_test['loan_amount']"
   ]
  },
  {
   "cell_type": "code",
   "execution_count": 779,
   "id": "a76c12d3",
   "metadata": {},
   "outputs": [],
   "source": [
    "df_test = df_test[df_test['LGD'] >= 0]"
   ]
  },
  {
   "cell_type": "code",
   "execution_count": 780,
   "id": "a5a69c53",
   "metadata": {
    "scrolled": true
   },
   "outputs": [
    {
     "data": {
      "text/html": [
       "<div>\n",
       "<style scoped>\n",
       "    .dataframe tbody tr th:only-of-type {\n",
       "        vertical-align: middle;\n",
       "    }\n",
       "\n",
       "    .dataframe tbody tr th {\n",
       "        vertical-align: top;\n",
       "    }\n",
       "\n",
       "    .dataframe thead th {\n",
       "        text-align: right;\n",
       "    }\n",
       "</style>\n",
       "<table border=\"1\" class=\"dataframe\">\n",
       "  <thead>\n",
       "    <tr style=\"text-align: right;\">\n",
       "      <th></th>\n",
       "      <th>loan_amount</th>\n",
       "      <th>collateral_value</th>\n",
       "      <th>cheque_bounces</th>\n",
       "      <th>number_of_loans</th>\n",
       "      <th>missed_repayments</th>\n",
       "      <th>vintage_in_months</th>\n",
       "      <th>tenure_years</th>\n",
       "      <th>interest</th>\n",
       "      <th>monthly_emi</th>\n",
       "      <th>repayment_amount</th>\n",
       "      <th>balance_amount</th>\n",
       "      <th>LGD</th>\n",
       "    </tr>\n",
       "  </thead>\n",
       "  <tbody>\n",
       "    <tr>\n",
       "      <th>count</th>\n",
       "      <td>9.918000e+03</td>\n",
       "      <td>9918.000000</td>\n",
       "      <td>9918.000000</td>\n",
       "      <td>9918.000000</td>\n",
       "      <td>9918.000000</td>\n",
       "      <td>9918.000000</td>\n",
       "      <td>9918.000000</td>\n",
       "      <td>9918.000000</td>\n",
       "      <td>9918.000000</td>\n",
       "      <td>9.918000e+03</td>\n",
       "      <td>9918.000000</td>\n",
       "      <td>9918.000000</td>\n",
       "    </tr>\n",
       "    <tr>\n",
       "      <th>mean</th>\n",
       "      <td>3.827339e+05</td>\n",
       "      <td>57841.127977</td>\n",
       "      <td>1.763460</td>\n",
       "      <td>1.502420</td>\n",
       "      <td>9.742589</td>\n",
       "      <td>79.996068</td>\n",
       "      <td>2.992740</td>\n",
       "      <td>11.511474</td>\n",
       "      <td>16589.329126</td>\n",
       "      <td>1.530098e+05</td>\n",
       "      <td>7646.420428</td>\n",
       "      <td>0.448900</td>\n",
       "    </tr>\n",
       "    <tr>\n",
       "      <th>std</th>\n",
       "      <td>5.007372e+05</td>\n",
       "      <td>93274.665976</td>\n",
       "      <td>1.783567</td>\n",
       "      <td>1.260129</td>\n",
       "      <td>7.668617</td>\n",
       "      <td>43.542479</td>\n",
       "      <td>1.413196</td>\n",
       "      <td>2.012211</td>\n",
       "      <td>26349.498314</td>\n",
       "      <td>2.541952e+05</td>\n",
       "      <td>15322.388091</td>\n",
       "      <td>0.238735</td>\n",
       "    </tr>\n",
       "    <tr>\n",
       "      <th>min</th>\n",
       "      <td>2.009000e+03</td>\n",
       "      <td>1.160000</td>\n",
       "      <td>0.000000</td>\n",
       "      <td>0.000000</td>\n",
       "      <td>0.000000</td>\n",
       "      <td>15.000000</td>\n",
       "      <td>1.000000</td>\n",
       "      <td>8.000000</td>\n",
       "      <td>45.520000</td>\n",
       "      <td>0.000000e+00</td>\n",
       "      <td>1.590481</td>\n",
       "      <td>0.000780</td>\n",
       "    </tr>\n",
       "    <tr>\n",
       "      <th>25%</th>\n",
       "      <td>2.407500e+04</td>\n",
       "      <td>3338.812500</td>\n",
       "      <td>0.000000</td>\n",
       "      <td>0.000000</td>\n",
       "      <td>4.000000</td>\n",
       "      <td>45.000000</td>\n",
       "      <td>2.000000</td>\n",
       "      <td>9.800000</td>\n",
       "      <td>1158.697500</td>\n",
       "      <td>6.921822e+03</td>\n",
       "      <td>433.492533</td>\n",
       "      <td>0.245286</td>\n",
       "    </tr>\n",
       "    <tr>\n",
       "      <th>50%</th>\n",
       "      <td>1.965420e+05</td>\n",
       "      <td>20364.375000</td>\n",
       "      <td>1.000000</td>\n",
       "      <td>1.000000</td>\n",
       "      <td>8.000000</td>\n",
       "      <td>79.000000</td>\n",
       "      <td>3.000000</td>\n",
       "      <td>11.500000</td>\n",
       "      <td>6673.340000</td>\n",
       "      <td>4.974993e+04</td>\n",
       "      <td>2220.853842</td>\n",
       "      <td>0.448757</td>\n",
       "    </tr>\n",
       "    <tr>\n",
       "      <th>75%</th>\n",
       "      <td>4.348158e+05</td>\n",
       "      <td>64189.637500</td>\n",
       "      <td>3.000000</td>\n",
       "      <td>2.000000</td>\n",
       "      <td>14.000000</td>\n",
       "      <td>112.000000</td>\n",
       "      <td>4.000000</td>\n",
       "      <td>13.200000</td>\n",
       "      <td>19559.632500</td>\n",
       "      <td>1.671279e+05</td>\n",
       "      <td>7537.811612</td>\n",
       "      <td>0.661967</td>\n",
       "    </tr>\n",
       "    <tr>\n",
       "      <th>max</th>\n",
       "      <td>1.998735e+06</td>\n",
       "      <td>591419.920000</td>\n",
       "      <td>10.000000</td>\n",
       "      <td>6.000000</td>\n",
       "      <td>35.000000</td>\n",
       "      <td>235.000000</td>\n",
       "      <td>5.000000</td>\n",
       "      <td>15.000000</td>\n",
       "      <td>177491.690000</td>\n",
       "      <td>1.772722e+06</td>\n",
       "      <td>222997.614259</td>\n",
       "      <td>0.894842</td>\n",
       "    </tr>\n",
       "  </tbody>\n",
       "</table>\n",
       "</div>"
      ],
      "text/plain": [
       "        loan_amount  collateral_value  cheque_bounces  number_of_loans  \\\n",
       "count  9.918000e+03       9918.000000     9918.000000      9918.000000   \n",
       "mean   3.827339e+05      57841.127977        1.763460         1.502420   \n",
       "std    5.007372e+05      93274.665976        1.783567         1.260129   \n",
       "min    2.009000e+03          1.160000        0.000000         0.000000   \n",
       "25%    2.407500e+04       3338.812500        0.000000         0.000000   \n",
       "50%    1.965420e+05      20364.375000        1.000000         1.000000   \n",
       "75%    4.348158e+05      64189.637500        3.000000         2.000000   \n",
       "max    1.998735e+06     591419.920000       10.000000         6.000000   \n",
       "\n",
       "       missed_repayments  vintage_in_months  tenure_years     interest  \\\n",
       "count        9918.000000        9918.000000   9918.000000  9918.000000   \n",
       "mean            9.742589          79.996068      2.992740    11.511474   \n",
       "std             7.668617          43.542479      1.413196     2.012211   \n",
       "min             0.000000          15.000000      1.000000     8.000000   \n",
       "25%             4.000000          45.000000      2.000000     9.800000   \n",
       "50%             8.000000          79.000000      3.000000    11.500000   \n",
       "75%            14.000000         112.000000      4.000000    13.200000   \n",
       "max            35.000000         235.000000      5.000000    15.000000   \n",
       "\n",
       "         monthly_emi  repayment_amount  balance_amount          LGD  \n",
       "count    9918.000000      9.918000e+03     9918.000000  9918.000000  \n",
       "mean    16589.329126      1.530098e+05     7646.420428     0.448900  \n",
       "std     26349.498314      2.541952e+05    15322.388091     0.238735  \n",
       "min        45.520000      0.000000e+00        1.590481     0.000780  \n",
       "25%      1158.697500      6.921822e+03      433.492533     0.245286  \n",
       "50%      6673.340000      4.974993e+04     2220.853842     0.448757  \n",
       "75%     19559.632500      1.671279e+05     7537.811612     0.661967  \n",
       "max    177491.690000      1.772722e+06   222997.614259     0.894842  "
      ]
     },
     "execution_count": 780,
     "metadata": {},
     "output_type": "execute_result"
    }
   ],
   "source": [
    "df_test.describe()"
   ]
  },
  {
   "cell_type": "code",
   "execution_count": 781,
   "id": "7b44890a",
   "metadata": {},
   "outputs": [],
   "source": [
    "#Converting the date variables to date format\n",
    "df_test['default_date'] = pd.to_datetime(df_test['default_date'], format='%Y-%m-%d')\n",
    "df_test['disbursal_date'] = pd.to_datetime(df_test['disbursal_date'], format='%Y-%m-%d')"
   ]
  },
  {
   "cell_type": "code",
   "execution_count": 782,
   "id": "41e008c0",
   "metadata": {},
   "outputs": [],
   "source": [
    "#Calculating the days to default for each customer\n",
    "df_test['days_to_default'] = (df_test['default_date'] - df_test['disbursal_date']).dt.days"
   ]
  },
  {
   "cell_type": "code",
   "execution_count": 783,
   "id": "088c8e08",
   "metadata": {},
   "outputs": [],
   "source": [
    "df_test_copy=df_test"
   ]
  },
  {
   "cell_type": "code",
   "execution_count": 784,
   "id": "c08de06b",
   "metadata": {},
   "outputs": [],
   "source": [
    "#Dropping some of the columns which are not required for modelling\n",
    "df_test=df_test.drop([\"loan_acc_num\",\"customer_name\",\"customer_address\",\"disbursal_date\",\"default_date\"],axis=1)"
   ]
  },
  {
   "cell_type": "code",
   "execution_count": 785,
   "id": "07aa8a1b",
   "metadata": {},
   "outputs": [
    {
     "name": "stdout",
     "output_type": "stream",
     "text": [
      "<class 'pandas.core.frame.DataFrame'>\n",
      "Int64Index: 9918 entries, 0 to 9996\n",
      "Data columns (total 14 columns):\n",
      " #   Column             Non-Null Count  Dtype  \n",
      "---  ------             --------------  -----  \n",
      " 0   loan_type          9918 non-null   object \n",
      " 1   loan_amount        9918 non-null   int64  \n",
      " 2   collateral_value   9918 non-null   float64\n",
      " 3   cheque_bounces     9918 non-null   int64  \n",
      " 4   number_of_loans    9918 non-null   int64  \n",
      " 5   missed_repayments  9918 non-null   int64  \n",
      " 6   vintage_in_months  9918 non-null   int64  \n",
      " 7   tenure_years       9918 non-null   int64  \n",
      " 8   interest           9918 non-null   float64\n",
      " 9   monthly_emi        9918 non-null   float64\n",
      " 10  repayment_amount   9918 non-null   float64\n",
      " 11  balance_amount     9918 non-null   float64\n",
      " 12  LGD                9918 non-null   float64\n",
      " 13  days_to_default    9918 non-null   int64  \n",
      "dtypes: float64(6), int64(7), object(1)\n",
      "memory usage: 1.1+ MB\n"
     ]
    }
   ],
   "source": [
    "#Checking the test dataset\n",
    "df_test.info()"
   ]
  },
  {
   "cell_type": "code",
   "execution_count": 786,
   "id": "dc3df199",
   "metadata": {},
   "outputs": [
    {
     "data": {
      "text/html": [
       "<div>\n",
       "<style scoped>\n",
       "    .dataframe tbody tr th:only-of-type {\n",
       "        vertical-align: middle;\n",
       "    }\n",
       "\n",
       "    .dataframe tbody tr th {\n",
       "        vertical-align: top;\n",
       "    }\n",
       "\n",
       "    .dataframe thead th {\n",
       "        text-align: right;\n",
       "    }\n",
       "</style>\n",
       "<table border=\"1\" class=\"dataframe\">\n",
       "  <thead>\n",
       "    <tr style=\"text-align: right;\">\n",
       "      <th></th>\n",
       "      <th>loan_amount</th>\n",
       "      <th>collateral_value</th>\n",
       "      <th>cheque_bounces</th>\n",
       "      <th>number_of_loans</th>\n",
       "      <th>missed_repayments</th>\n",
       "      <th>vintage_in_months</th>\n",
       "      <th>tenure_years</th>\n",
       "      <th>interest</th>\n",
       "      <th>monthly_emi</th>\n",
       "      <th>repayment_amount</th>\n",
       "      <th>balance_amount</th>\n",
       "      <th>LGD</th>\n",
       "      <th>days_to_default</th>\n",
       "      <th>Consumer-Durable</th>\n",
       "      <th>Personal</th>\n",
       "      <th>Two-Wheeler</th>\n",
       "    </tr>\n",
       "  </thead>\n",
       "  <tbody>\n",
       "    <tr>\n",
       "      <th>count</th>\n",
       "      <td>9.918000e+03</td>\n",
       "      <td>9918.000000</td>\n",
       "      <td>9918.000000</td>\n",
       "      <td>9918.000000</td>\n",
       "      <td>9918.000000</td>\n",
       "      <td>9918.000000</td>\n",
       "      <td>9918.000000</td>\n",
       "      <td>9918.000000</td>\n",
       "      <td>9918.000000</td>\n",
       "      <td>9.918000e+03</td>\n",
       "      <td>9918.000000</td>\n",
       "      <td>9918.000000</td>\n",
       "      <td>9918.000000</td>\n",
       "      <td>9918.000000</td>\n",
       "      <td>9918.000000</td>\n",
       "      <td>9918.000000</td>\n",
       "    </tr>\n",
       "    <tr>\n",
       "      <th>mean</th>\n",
       "      <td>3.827339e+05</td>\n",
       "      <td>57841.127977</td>\n",
       "      <td>1.763460</td>\n",
       "      <td>1.502420</td>\n",
       "      <td>9.742589</td>\n",
       "      <td>79.996068</td>\n",
       "      <td>2.992740</td>\n",
       "      <td>11.511474</td>\n",
       "      <td>16589.329126</td>\n",
       "      <td>1.530098e+05</td>\n",
       "      <td>7646.420428</td>\n",
       "      <td>0.448900</td>\n",
       "      <td>532.663541</td>\n",
       "      <td>0.245715</td>\n",
       "      <td>0.248639</td>\n",
       "      <td>0.256302</td>\n",
       "    </tr>\n",
       "    <tr>\n",
       "      <th>std</th>\n",
       "      <td>5.007372e+05</td>\n",
       "      <td>93274.665976</td>\n",
       "      <td>1.783567</td>\n",
       "      <td>1.260129</td>\n",
       "      <td>7.668617</td>\n",
       "      <td>43.542479</td>\n",
       "      <td>1.413196</td>\n",
       "      <td>2.012211</td>\n",
       "      <td>26349.498314</td>\n",
       "      <td>2.541952e+05</td>\n",
       "      <td>15322.388091</td>\n",
       "      <td>0.238735</td>\n",
       "      <td>387.450568</td>\n",
       "      <td>0.430532</td>\n",
       "      <td>0.432246</td>\n",
       "      <td>0.436612</td>\n",
       "    </tr>\n",
       "    <tr>\n",
       "      <th>min</th>\n",
       "      <td>2.009000e+03</td>\n",
       "      <td>1.160000</td>\n",
       "      <td>0.000000</td>\n",
       "      <td>0.000000</td>\n",
       "      <td>0.000000</td>\n",
       "      <td>15.000000</td>\n",
       "      <td>1.000000</td>\n",
       "      <td>8.000000</td>\n",
       "      <td>45.520000</td>\n",
       "      <td>0.000000e+00</td>\n",
       "      <td>1.590481</td>\n",
       "      <td>0.000780</td>\n",
       "      <td>90.000000</td>\n",
       "      <td>0.000000</td>\n",
       "      <td>0.000000</td>\n",
       "      <td>0.000000</td>\n",
       "    </tr>\n",
       "    <tr>\n",
       "      <th>25%</th>\n",
       "      <td>2.407500e+04</td>\n",
       "      <td>3338.812500</td>\n",
       "      <td>0.000000</td>\n",
       "      <td>0.000000</td>\n",
       "      <td>4.000000</td>\n",
       "      <td>45.000000</td>\n",
       "      <td>2.000000</td>\n",
       "      <td>9.800000</td>\n",
       "      <td>1158.697500</td>\n",
       "      <td>6.921822e+03</td>\n",
       "      <td>433.492533</td>\n",
       "      <td>0.245286</td>\n",
       "      <td>214.000000</td>\n",
       "      <td>0.000000</td>\n",
       "      <td>0.000000</td>\n",
       "      <td>0.000000</td>\n",
       "    </tr>\n",
       "    <tr>\n",
       "      <th>50%</th>\n",
       "      <td>1.965420e+05</td>\n",
       "      <td>20364.375000</td>\n",
       "      <td>1.000000</td>\n",
       "      <td>1.000000</td>\n",
       "      <td>8.000000</td>\n",
       "      <td>79.000000</td>\n",
       "      <td>3.000000</td>\n",
       "      <td>11.500000</td>\n",
       "      <td>6673.340000</td>\n",
       "      <td>4.974993e+04</td>\n",
       "      <td>2220.853842</td>\n",
       "      <td>0.448757</td>\n",
       "      <td>426.000000</td>\n",
       "      <td>0.000000</td>\n",
       "      <td>0.000000</td>\n",
       "      <td>0.000000</td>\n",
       "    </tr>\n",
       "    <tr>\n",
       "      <th>75%</th>\n",
       "      <td>4.348158e+05</td>\n",
       "      <td>64189.637500</td>\n",
       "      <td>3.000000</td>\n",
       "      <td>2.000000</td>\n",
       "      <td>14.000000</td>\n",
       "      <td>112.000000</td>\n",
       "      <td>4.000000</td>\n",
       "      <td>13.200000</td>\n",
       "      <td>19559.632500</td>\n",
       "      <td>1.671279e+05</td>\n",
       "      <td>7537.811612</td>\n",
       "      <td>0.661967</td>\n",
       "      <td>768.000000</td>\n",
       "      <td>0.000000</td>\n",
       "      <td>0.000000</td>\n",
       "      <td>1.000000</td>\n",
       "    </tr>\n",
       "    <tr>\n",
       "      <th>max</th>\n",
       "      <td>1.998735e+06</td>\n",
       "      <td>591419.920000</td>\n",
       "      <td>10.000000</td>\n",
       "      <td>6.000000</td>\n",
       "      <td>35.000000</td>\n",
       "      <td>235.000000</td>\n",
       "      <td>5.000000</td>\n",
       "      <td>15.000000</td>\n",
       "      <td>177491.690000</td>\n",
       "      <td>1.772722e+06</td>\n",
       "      <td>222997.614259</td>\n",
       "      <td>0.894842</td>\n",
       "      <td>1709.000000</td>\n",
       "      <td>1.000000</td>\n",
       "      <td>1.000000</td>\n",
       "      <td>1.000000</td>\n",
       "    </tr>\n",
       "  </tbody>\n",
       "</table>\n",
       "</div>"
      ],
      "text/plain": [
       "        loan_amount  collateral_value  cheque_bounces  number_of_loans  \\\n",
       "count  9.918000e+03       9918.000000     9918.000000      9918.000000   \n",
       "mean   3.827339e+05      57841.127977        1.763460         1.502420   \n",
       "std    5.007372e+05      93274.665976        1.783567         1.260129   \n",
       "min    2.009000e+03          1.160000        0.000000         0.000000   \n",
       "25%    2.407500e+04       3338.812500        0.000000         0.000000   \n",
       "50%    1.965420e+05      20364.375000        1.000000         1.000000   \n",
       "75%    4.348158e+05      64189.637500        3.000000         2.000000   \n",
       "max    1.998735e+06     591419.920000       10.000000         6.000000   \n",
       "\n",
       "       missed_repayments  vintage_in_months  tenure_years     interest  \\\n",
       "count        9918.000000        9918.000000   9918.000000  9918.000000   \n",
       "mean            9.742589          79.996068      2.992740    11.511474   \n",
       "std             7.668617          43.542479      1.413196     2.012211   \n",
       "min             0.000000          15.000000      1.000000     8.000000   \n",
       "25%             4.000000          45.000000      2.000000     9.800000   \n",
       "50%             8.000000          79.000000      3.000000    11.500000   \n",
       "75%            14.000000         112.000000      4.000000    13.200000   \n",
       "max            35.000000         235.000000      5.000000    15.000000   \n",
       "\n",
       "         monthly_emi  repayment_amount  balance_amount          LGD  \\\n",
       "count    9918.000000      9.918000e+03     9918.000000  9918.000000   \n",
       "mean    16589.329126      1.530098e+05     7646.420428     0.448900   \n",
       "std     26349.498314      2.541952e+05    15322.388091     0.238735   \n",
       "min        45.520000      0.000000e+00        1.590481     0.000780   \n",
       "25%      1158.697500      6.921822e+03      433.492533     0.245286   \n",
       "50%      6673.340000      4.974993e+04     2220.853842     0.448757   \n",
       "75%     19559.632500      1.671279e+05     7537.811612     0.661967   \n",
       "max    177491.690000      1.772722e+06   222997.614259     0.894842   \n",
       "\n",
       "       days_to_default  Consumer-Durable     Personal  Two-Wheeler  \n",
       "count      9918.000000       9918.000000  9918.000000  9918.000000  \n",
       "mean        532.663541          0.245715     0.248639     0.256302  \n",
       "std         387.450568          0.430532     0.432246     0.436612  \n",
       "min          90.000000          0.000000     0.000000     0.000000  \n",
       "25%         214.000000          0.000000     0.000000     0.000000  \n",
       "50%         426.000000          0.000000     0.000000     0.000000  \n",
       "75%         768.000000          0.000000     0.000000     1.000000  \n",
       "max        1709.000000          1.000000     1.000000     1.000000  "
      ]
     },
     "execution_count": 786,
     "metadata": {},
     "output_type": "execute_result"
    }
   ],
   "source": [
    "#Converting the loan_type to dummy variables\n",
    "dummy = pd.get_dummies(df_test['loan_type'],drop_first=True)\n",
    "\n",
    "#Joining the dummy dataset\n",
    "df_test=pd.concat([df_test,dummy],axis=1)\n",
    "\n",
    "#Dropping the loan_type column\n",
    "df_test= df_test.drop(\"loan_type\",axis=1)\n",
    "\n",
    "#Checking the train dataset\n",
    "df_test.describe()"
   ]
  },
  {
   "cell_type": "code",
   "execution_count": 787,
   "id": "df9fc055",
   "metadata": {},
   "outputs": [],
   "source": [
    "#Splitting the data into X and y variables\n",
    "X_test=df_test.drop(\"LGD\",axis=1)\n",
    "y_test=df_test[\"LGD\"]"
   ]
  },
  {
   "cell_type": "code",
   "execution_count": 788,
   "id": "02136d67",
   "metadata": {},
   "outputs": [],
   "source": [
    "#Scaling the data\n",
    "X_test[['loan_amount', 'collateral_value', 'cheque_bounces', 'number_of_loans',\n",
    "       'missed_repayments', 'vintage_in_months', 'tenure_years', 'interest',\n",
    "       'monthly_emi', 'repayment_amount', 'balance_amount', 'days_to_default']]=scaler.transform(X_test[['loan_amount', 'collateral_value', 'cheque_bounces', 'number_of_loans',\n",
    "       'missed_repayments', 'vintage_in_months', 'tenure_years', 'interest',\n",
    "       'monthly_emi', 'repayment_amount', 'balance_amount', 'days_to_default']])\n"
   ]
  },
  {
   "cell_type": "code",
   "execution_count": 789,
   "id": "f348ec11",
   "metadata": {},
   "outputs": [
    {
     "data": {
      "text/html": [
       "<div>\n",
       "<style scoped>\n",
       "    .dataframe tbody tr th:only-of-type {\n",
       "        vertical-align: middle;\n",
       "    }\n",
       "\n",
       "    .dataframe tbody tr th {\n",
       "        vertical-align: top;\n",
       "    }\n",
       "\n",
       "    .dataframe thead th {\n",
       "        text-align: right;\n",
       "    }\n",
       "</style>\n",
       "<table border=\"1\" class=\"dataframe\">\n",
       "  <thead>\n",
       "    <tr style=\"text-align: right;\">\n",
       "      <th></th>\n",
       "      <th>loan_amount</th>\n",
       "      <th>collateral_value</th>\n",
       "      <th>cheque_bounces</th>\n",
       "      <th>number_of_loans</th>\n",
       "      <th>missed_repayments</th>\n",
       "      <th>vintage_in_months</th>\n",
       "      <th>tenure_years</th>\n",
       "      <th>interest</th>\n",
       "      <th>monthly_emi</th>\n",
       "      <th>repayment_amount</th>\n",
       "      <th>balance_amount</th>\n",
       "      <th>days_to_default</th>\n",
       "      <th>Consumer-Durable</th>\n",
       "      <th>Personal</th>\n",
       "      <th>Two-Wheeler</th>\n",
       "    </tr>\n",
       "  </thead>\n",
       "  <tbody>\n",
       "    <tr>\n",
       "      <th>count</th>\n",
       "      <td>9918.000000</td>\n",
       "      <td>9918.000000</td>\n",
       "      <td>9918.000000</td>\n",
       "      <td>9918.000000</td>\n",
       "      <td>9918.000000</td>\n",
       "      <td>9918.000000</td>\n",
       "      <td>9918.000000</td>\n",
       "      <td>9918.000000</td>\n",
       "      <td>9918.000000</td>\n",
       "      <td>9918.000000</td>\n",
       "      <td>9918.000000</td>\n",
       "      <td>9918.000000</td>\n",
       "      <td>9918.000000</td>\n",
       "      <td>9918.000000</td>\n",
       "      <td>9918.000000</td>\n",
       "    </tr>\n",
       "    <tr>\n",
       "      <th>mean</th>\n",
       "      <td>0.190558</td>\n",
       "      <td>0.097615</td>\n",
       "      <td>0.160315</td>\n",
       "      <td>0.250403</td>\n",
       "      <td>0.256384</td>\n",
       "      <td>0.267474</td>\n",
       "      <td>0.498185</td>\n",
       "      <td>0.501639</td>\n",
       "      <td>0.092193</td>\n",
       "      <td>0.082614</td>\n",
       "      <td>0.029207</td>\n",
       "      <td>0.273418</td>\n",
       "      <td>0.245715</td>\n",
       "      <td>0.248639</td>\n",
       "      <td>0.256302</td>\n",
       "    </tr>\n",
       "    <tr>\n",
       "      <th>std</th>\n",
       "      <td>0.250620</td>\n",
       "      <td>0.157413</td>\n",
       "      <td>0.162142</td>\n",
       "      <td>0.210021</td>\n",
       "      <td>0.201806</td>\n",
       "      <td>0.179187</td>\n",
       "      <td>0.353299</td>\n",
       "      <td>0.287459</td>\n",
       "      <td>0.146811</td>\n",
       "      <td>0.137246</td>\n",
       "      <td>0.058527</td>\n",
       "      <td>0.239315</td>\n",
       "      <td>0.430532</td>\n",
       "      <td>0.432246</td>\n",
       "      <td>0.436612</td>\n",
       "    </tr>\n",
       "    <tr>\n",
       "      <th>min</th>\n",
       "      <td>0.000005</td>\n",
       "      <td>0.000002</td>\n",
       "      <td>0.000000</td>\n",
       "      <td>0.000000</td>\n",
       "      <td>0.000000</td>\n",
       "      <td>0.000000</td>\n",
       "      <td>0.000000</td>\n",
       "      <td>0.000000</td>\n",
       "      <td>0.000017</td>\n",
       "      <td>0.000000</td>\n",
       "      <td>0.000006</td>\n",
       "      <td>0.000000</td>\n",
       "      <td>0.000000</td>\n",
       "      <td>0.000000</td>\n",
       "      <td>0.000000</td>\n",
       "    </tr>\n",
       "    <tr>\n",
       "      <th>25%</th>\n",
       "      <td>0.011049</td>\n",
       "      <td>0.005635</td>\n",
       "      <td>0.000000</td>\n",
       "      <td>0.000000</td>\n",
       "      <td>0.105263</td>\n",
       "      <td>0.123457</td>\n",
       "      <td>0.250000</td>\n",
       "      <td>0.257143</td>\n",
       "      <td>0.006219</td>\n",
       "      <td>0.003737</td>\n",
       "      <td>0.001655</td>\n",
       "      <td>0.076590</td>\n",
       "      <td>0.000000</td>\n",
       "      <td>0.000000</td>\n",
       "      <td>0.000000</td>\n",
       "    </tr>\n",
       "    <tr>\n",
       "      <th>50%</th>\n",
       "      <td>0.097369</td>\n",
       "      <td>0.034367</td>\n",
       "      <td>0.090909</td>\n",
       "      <td>0.166667</td>\n",
       "      <td>0.210526</td>\n",
       "      <td>0.263374</td>\n",
       "      <td>0.500000</td>\n",
       "      <td>0.500000</td>\n",
       "      <td>0.036945</td>\n",
       "      <td>0.026861</td>\n",
       "      <td>0.008483</td>\n",
       "      <td>0.207536</td>\n",
       "      <td>0.000000</td>\n",
       "      <td>0.000000</td>\n",
       "      <td>0.000000</td>\n",
       "    </tr>\n",
       "    <tr>\n",
       "      <th>75%</th>\n",
       "      <td>0.216625</td>\n",
       "      <td>0.108328</td>\n",
       "      <td>0.272727</td>\n",
       "      <td>0.333333</td>\n",
       "      <td>0.368421</td>\n",
       "      <td>0.399177</td>\n",
       "      <td>0.750000</td>\n",
       "      <td>0.742857</td>\n",
       "      <td>0.108743</td>\n",
       "      <td>0.090236</td>\n",
       "      <td>0.028792</td>\n",
       "      <td>0.418777</td>\n",
       "      <td>0.000000</td>\n",
       "      <td>0.000000</td>\n",
       "      <td>1.000000</td>\n",
       "    </tr>\n",
       "    <tr>\n",
       "      <th>max</th>\n",
       "      <td>0.999371</td>\n",
       "      <td>0.998100</td>\n",
       "      <td>0.909091</td>\n",
       "      <td>1.000000</td>\n",
       "      <td>0.921053</td>\n",
       "      <td>0.905350</td>\n",
       "      <td>1.000000</td>\n",
       "      <td>1.000000</td>\n",
       "      <td>0.988690</td>\n",
       "      <td>0.957136</td>\n",
       "      <td>0.851786</td>\n",
       "      <td>1.000000</td>\n",
       "      <td>1.000000</td>\n",
       "      <td>1.000000</td>\n",
       "      <td>1.000000</td>\n",
       "    </tr>\n",
       "  </tbody>\n",
       "</table>\n",
       "</div>"
      ],
      "text/plain": [
       "       loan_amount  collateral_value  cheque_bounces  number_of_loans  \\\n",
       "count  9918.000000       9918.000000     9918.000000      9918.000000   \n",
       "mean      0.190558          0.097615        0.160315         0.250403   \n",
       "std       0.250620          0.157413        0.162142         0.210021   \n",
       "min       0.000005          0.000002        0.000000         0.000000   \n",
       "25%       0.011049          0.005635        0.000000         0.000000   \n",
       "50%       0.097369          0.034367        0.090909         0.166667   \n",
       "75%       0.216625          0.108328        0.272727         0.333333   \n",
       "max       0.999371          0.998100        0.909091         1.000000   \n",
       "\n",
       "       missed_repayments  vintage_in_months  tenure_years     interest  \\\n",
       "count        9918.000000        9918.000000   9918.000000  9918.000000   \n",
       "mean            0.256384           0.267474      0.498185     0.501639   \n",
       "std             0.201806           0.179187      0.353299     0.287459   \n",
       "min             0.000000           0.000000      0.000000     0.000000   \n",
       "25%             0.105263           0.123457      0.250000     0.257143   \n",
       "50%             0.210526           0.263374      0.500000     0.500000   \n",
       "75%             0.368421           0.399177      0.750000     0.742857   \n",
       "max             0.921053           0.905350      1.000000     1.000000   \n",
       "\n",
       "       monthly_emi  repayment_amount  balance_amount  days_to_default  \\\n",
       "count  9918.000000       9918.000000     9918.000000      9918.000000   \n",
       "mean      0.092193          0.082614        0.029207         0.273418   \n",
       "std       0.146811          0.137246        0.058527         0.239315   \n",
       "min       0.000017          0.000000        0.000006         0.000000   \n",
       "25%       0.006219          0.003737        0.001655         0.076590   \n",
       "50%       0.036945          0.026861        0.008483         0.207536   \n",
       "75%       0.108743          0.090236        0.028792         0.418777   \n",
       "max       0.988690          0.957136        0.851786         1.000000   \n",
       "\n",
       "       Consumer-Durable     Personal  Two-Wheeler  \n",
       "count       9918.000000  9918.000000  9918.000000  \n",
       "mean           0.245715     0.248639     0.256302  \n",
       "std            0.430532     0.432246     0.436612  \n",
       "min            0.000000     0.000000     0.000000  \n",
       "25%            0.000000     0.000000     0.000000  \n",
       "50%            0.000000     0.000000     0.000000  \n",
       "75%            0.000000     0.000000     1.000000  \n",
       "max            1.000000     1.000000     1.000000  "
      ]
     },
     "execution_count": 789,
     "metadata": {},
     "output_type": "execute_result"
    }
   ],
   "source": [
    "#Checking the data\n",
    "X_test.describe()"
   ]
  },
  {
   "cell_type": "markdown",
   "id": "6bc26048",
   "metadata": {},
   "source": [
    "# Building Predictive models for LGD- Multiple Linear Regression"
   ]
  },
  {
   "cell_type": "markdown",
   "id": "abbeb116",
   "metadata": {},
   "source": [
    "We will be using the LinearRegression function from SciKit Learn along with RFE to select the variables"
   ]
  },
  {
   "cell_type": "code",
   "execution_count": 790,
   "id": "d04413d3",
   "metadata": {},
   "outputs": [],
   "source": [
    "# Importing RFE and LinearRegression\n",
    "from sklearn.feature_selection import RFE\n",
    "from sklearn.linear_model import LinearRegression"
   ]
  },
  {
   "cell_type": "code",
   "execution_count": 791,
   "id": "ec14a54f",
   "metadata": {},
   "outputs": [],
   "source": [
    "# Running RFE with the output number of the variable equal to 10\n",
    "lm = LinearRegression()\n",
    "lm.fit(X_train, y_train)\n",
    "\n",
    "rfe = RFE(lm, n_features_to_select=10)             # running RFE\n",
    "rfe = rfe.fit(X_train, y_train)"
   ]
  },
  {
   "cell_type": "code",
   "execution_count": 792,
   "id": "5fabca70",
   "metadata": {},
   "outputs": [
    {
     "data": {
      "text/plain": [
       "[('loan_amount', True, 1),\n",
       " ('collateral_value', True, 1),\n",
       " ('cheque_bounces', True, 1),\n",
       " ('number_of_loans', True, 1),\n",
       " ('missed_repayments', True, 1),\n",
       " ('vintage_in_months', True, 1),\n",
       " ('tenure_years', True, 1),\n",
       " ('interest', False, 2),\n",
       " ('monthly_emi', True, 1),\n",
       " ('repayment_amount', True, 1),\n",
       " ('balance_amount', True, 1),\n",
       " ('days_to_default', False, 3),\n",
       " ('Consumer-Durable', False, 4),\n",
       " ('Personal', False, 5),\n",
       " ('Two-Wheeler', False, 6)]"
      ]
     },
     "execution_count": 792,
     "metadata": {},
     "output_type": "execute_result"
    }
   ],
   "source": [
    "list(zip(X_train.columns,rfe.support_,rfe.ranking_))"
   ]
  },
  {
   "cell_type": "code",
   "execution_count": 793,
   "id": "0e9e2ab8",
   "metadata": {},
   "outputs": [
    {
     "data": {
      "text/plain": [
       "Index(['loan_amount', 'collateral_value', 'cheque_bounces', 'number_of_loans',\n",
       "       'missed_repayments', 'vintage_in_months', 'tenure_years', 'monthly_emi',\n",
       "       'repayment_amount', 'balance_amount'],\n",
       "      dtype='object')"
      ]
     },
     "execution_count": 793,
     "metadata": {},
     "output_type": "execute_result"
    }
   ],
   "source": [
    "col = X_train.columns[rfe.support_]\n",
    "col"
   ]
  },
  {
   "cell_type": "markdown",
   "id": "8f116cbc",
   "metadata": {},
   "source": [
    "As next steps we will build the model using stats model to better capture statistics"
   ]
  },
  {
   "cell_type": "code",
   "execution_count": 794,
   "id": "75b9a748",
   "metadata": {},
   "outputs": [],
   "source": [
    "X_train_lr=X_train[col]"
   ]
  },
  {
   "cell_type": "code",
   "execution_count": 795,
   "id": "18d3ef59",
   "metadata": {},
   "outputs": [],
   "source": [
    "# Importing statsmodel and adding a constant variable \n",
    "import statsmodels.api as sm  \n",
    "X_train_sm = sm.add_constant(X_train_lr)"
   ]
  },
  {
   "cell_type": "code",
   "execution_count": 796,
   "id": "28b057ee",
   "metadata": {},
   "outputs": [],
   "source": [
    "lm = sm.OLS(y_train,X_train_sm).fit()   # Running the linear model"
   ]
  },
  {
   "cell_type": "code",
   "execution_count": 797,
   "id": "fd007622",
   "metadata": {},
   "outputs": [
    {
     "name": "stdout",
     "output_type": "stream",
     "text": [
      "                            OLS Regression Results                            \n",
      "==============================================================================\n",
      "Dep. Variable:                    LGD   R-squared:                       0.847\n",
      "Model:                            OLS   Adj. R-squared:                  0.847\n",
      "Method:                 Least Squares   F-statistic:                 2.753e+04\n",
      "Date:                Sat, 20 Jan 2024   Prob (F-statistic):               0.00\n",
      "Time:                        19:32:20   Log-Likelihood:                 46969.\n",
      "No. Observations:               49575   AIC:                        -9.392e+04\n",
      "Df Residuals:                   49564   BIC:                        -9.382e+04\n",
      "Df Model:                          10                                         \n",
      "Covariance Type:            nonrobust                                         \n",
      "=====================================================================================\n",
      "                        coef    std err          t      P>|t|      [0.025      0.975]\n",
      "-------------------------------------------------------------------------------------\n",
      "const                 0.4155      0.002    258.036      0.000       0.412       0.419\n",
      "loan_amount           0.1932      0.006     32.400      0.000       0.181       0.205\n",
      "collateral_value     -0.1260      0.005    -24.774      0.000      -0.136      -0.116\n",
      "cheque_bounces        0.1071      0.003     37.562      0.000       0.101       0.113\n",
      "number_of_loans       0.2055      0.003     79.949      0.000       0.200       0.211\n",
      "missed_repayments     0.6848      0.004    173.115      0.000       0.677       0.693\n",
      "vintage_in_months    -0.3726      0.003   -114.484      0.000      -0.379      -0.366\n",
      "tenure_years         -0.2208      0.002   -110.267      0.000      -0.225      -0.217\n",
      "monthly_emi           0.1441      0.008     18.357      0.000       0.129       0.159\n",
      "repayment_amount     -0.3180      0.008    -42.066      0.000      -0.333      -0.303\n",
      "balance_amount       -0.4031      0.015    -27.111      0.000      -0.432      -0.374\n",
      "==============================================================================\n",
      "Omnibus:                      121.524   Durbin-Watson:                   1.999\n",
      "Prob(Omnibus):                  0.000   Jarque-Bera (JB):              139.434\n",
      "Skew:                          -0.070   Prob(JB):                     5.28e-31\n",
      "Kurtosis:                       3.218   Cond. No.                         50.7\n",
      "==============================================================================\n",
      "\n",
      "Notes:\n",
      "[1] Standard Errors assume that the covariance matrix of the errors is correctly specified.\n"
     ]
    }
   ],
   "source": [
    "# Checking the summary of the linear model\n",
    "print(lm.summary())"
   ]
  },
  {
   "cell_type": "markdown",
   "id": "812a5077",
   "metadata": {},
   "source": [
    "- the model has an adjusted R squared of .847 which shows that the model is able to explain ~85% of the variance which is good\n",
    "- the Prob (F-statistic) is ~ 0 which shows that the overall model fit is significant\n",
    "- All p values are significant\n",
    "- we will look into the VIF of each of the variables and check"
   ]
  },
  {
   "cell_type": "code",
   "execution_count": 798,
   "id": "fc774b45",
   "metadata": {},
   "outputs": [
    {
     "data": {
      "text/html": [
       "<div>\n",
       "<style scoped>\n",
       "    .dataframe tbody tr th:only-of-type {\n",
       "        vertical-align: middle;\n",
       "    }\n",
       "\n",
       "    .dataframe tbody tr th {\n",
       "        vertical-align: top;\n",
       "    }\n",
       "\n",
       "    .dataframe thead th {\n",
       "        text-align: right;\n",
       "    }\n",
       "</style>\n",
       "<table border=\"1\" class=\"dataframe\">\n",
       "  <thead>\n",
       "    <tr style=\"text-align: right;\">\n",
       "      <th></th>\n",
       "      <th>Predictors</th>\n",
       "      <th>VIF</th>\n",
       "    </tr>\n",
       "  </thead>\n",
       "  <tbody>\n",
       "    <tr>\n",
       "      <th>0</th>\n",
       "      <td>loan_amount</td>\n",
       "      <td>22.32</td>\n",
       "    </tr>\n",
       "    <tr>\n",
       "      <th>6</th>\n",
       "      <td>tenure_years</td>\n",
       "      <td>10.68</td>\n",
       "    </tr>\n",
       "    <tr>\n",
       "      <th>8</th>\n",
       "      <td>monthly_emi</td>\n",
       "      <td>10.41</td>\n",
       "    </tr>\n",
       "    <tr>\n",
       "      <th>4</th>\n",
       "      <td>missed_repayments</td>\n",
       "      <td>9.31</td>\n",
       "    </tr>\n",
       "    <tr>\n",
       "      <th>9</th>\n",
       "      <td>repayment_amount</td>\n",
       "      <td>8.20</td>\n",
       "    </tr>\n",
       "    <tr>\n",
       "      <th>10</th>\n",
       "      <td>balance_amount</td>\n",
       "      <td>5.70</td>\n",
       "    </tr>\n",
       "    <tr>\n",
       "      <th>1</th>\n",
       "      <td>collateral_value</td>\n",
       "      <td>4.97</td>\n",
       "    </tr>\n",
       "    <tr>\n",
       "      <th>5</th>\n",
       "      <td>vintage_in_months</td>\n",
       "      <td>4.88</td>\n",
       "    </tr>\n",
       "    <tr>\n",
       "      <th>11</th>\n",
       "      <td>days_to_default</td>\n",
       "      <td>4.05</td>\n",
       "    </tr>\n",
       "    <tr>\n",
       "      <th>3</th>\n",
       "      <td>number_of_loans</td>\n",
       "      <td>3.71</td>\n",
       "    </tr>\n",
       "    <tr>\n",
       "      <th>7</th>\n",
       "      <td>interest</td>\n",
       "      <td>3.66</td>\n",
       "    </tr>\n",
       "    <tr>\n",
       "      <th>12</th>\n",
       "      <td>Consumer-Durable</td>\n",
       "      <td>3.14</td>\n",
       "    </tr>\n",
       "    <tr>\n",
       "      <th>14</th>\n",
       "      <td>Two-Wheeler</td>\n",
       "      <td>2.73</td>\n",
       "    </tr>\n",
       "    <tr>\n",
       "      <th>13</th>\n",
       "      <td>Personal</td>\n",
       "      <td>2.50</td>\n",
       "    </tr>\n",
       "    <tr>\n",
       "      <th>2</th>\n",
       "      <td>cheque_bounces</td>\n",
       "      <td>2.28</td>\n",
       "    </tr>\n",
       "  </tbody>\n",
       "</table>\n",
       "</div>"
      ],
      "text/plain": [
       "           Predictors    VIF\n",
       "0         loan_amount  22.32\n",
       "6        tenure_years  10.68\n",
       "8         monthly_emi  10.41\n",
       "4   missed_repayments   9.31\n",
       "9    repayment_amount   8.20\n",
       "10     balance_amount   5.70\n",
       "1    collateral_value   4.97\n",
       "5   vintage_in_months   4.88\n",
       "11    days_to_default   4.05\n",
       "3     number_of_loans   3.71\n",
       "7            interest   3.66\n",
       "12   Consumer-Durable   3.14\n",
       "14        Two-Wheeler   2.73\n",
       "13           Personal   2.50\n",
       "2      cheque_bounces   2.28"
      ]
     },
     "execution_count": 798,
     "metadata": {},
     "output_type": "execute_result"
    }
   ],
   "source": [
    "#Check the VIF of all the predictors\n",
    "from statsmodels.stats.outliers_influence import variance_inflation_factor\n",
    "vif = pd.DataFrame()\n",
    "vif['Predictors'] = X_train.columns\n",
    "vif['VIF'] = [variance_inflation_factor(X_train.values, i) for i in range(X_train.shape[1])]\n",
    "vif['VIF'] = round(vif['VIF'], 2)\n",
    "vif = vif.sort_values(by = \"VIF\", ascending = False)\n",
    "vif"
   ]
  },
  {
   "cell_type": "markdown",
   "id": "3d031a01",
   "metadata": {},
   "source": [
    "The loan amount column has a high VIF but we won't be dropping it considering it's an important factor"
   ]
  },
  {
   "cell_type": "markdown",
   "id": "eb19f768",
   "metadata": {},
   "source": [
    "## Residual Analysis of the model"
   ]
  },
  {
   "cell_type": "code",
   "execution_count": 799,
   "id": "59073df0",
   "metadata": {},
   "outputs": [],
   "source": [
    "y_train_pred=lm.predict(X_train_sm)"
   ]
  },
  {
   "cell_type": "code",
   "execution_count": 800,
   "id": "13bb7dfc",
   "metadata": {},
   "outputs": [
    {
     "data": {
      "image/png": "[encoded data removed]",
      "text/plain": [
       "<Figure size 432x288 with 1 Axes>"
      ]
     },
     "metadata": {
      "needs_background": "light"
     },
     "output_type": "display_data"
    }
   ],
   "source": [
    "res=y_train-y_train_pred\n",
    "sns.distplot(res)\n",
    "plt.title(\"Residual Analysis\")\n",
    "plt.show()"
   ]
  },
  {
   "cell_type": "markdown",
   "id": "e681b1c1",
   "metadata": {},
   "source": [
    "The Residual analysis is normally distributed with a mean of 0 which shows that the model is a good fit"
   ]
  },
  {
   "cell_type": "markdown",
   "id": "9de01d9d",
   "metadata": {},
   "source": [
    "### Evaluating on test dataset"
   ]
  },
  {
   "cell_type": "code",
   "execution_count": 801,
   "id": "2e5bc344",
   "metadata": {},
   "outputs": [],
   "source": [
    "#dropping the insignificant columns from test data\n",
    "X_test_lr=X_test[X_train_lr.columns]"
   ]
  },
  {
   "cell_type": "code",
   "execution_count": 802,
   "id": "284b3543",
   "metadata": {},
   "outputs": [
    {
     "data": {
      "text/plain": [
       "Index(['loan_amount', 'collateral_value', 'cheque_bounces', 'number_of_loans',\n",
       "       'missed_repayments', 'vintage_in_months', 'tenure_years', 'monthly_emi',\n",
       "       'repayment_amount', 'balance_amount'],\n",
       "      dtype='object')"
      ]
     },
     "execution_count": 802,
     "metadata": {},
     "output_type": "execute_result"
    }
   ],
   "source": [
    "#checling the columns\n",
    "X_test_lr.columns"
   ]
  },
  {
   "cell_type": "code",
   "execution_count": 803,
   "id": "6d619fad",
   "metadata": {},
   "outputs": [],
   "source": [
    "# Adding the constant\n",
    "X_test_sm=sm.add_constant(X_test_lr)"
   ]
  },
  {
   "cell_type": "code",
   "execution_count": 804,
   "id": "7dfd1c06",
   "metadata": {},
   "outputs": [
    {
     "data": {
      "text/html": [
       "<div>\n",
       "<style scoped>\n",
       "    .dataframe tbody tr th:only-of-type {\n",
       "        vertical-align: middle;\n",
       "    }\n",
       "\n",
       "    .dataframe tbody tr th {\n",
       "        vertical-align: top;\n",
       "    }\n",
       "\n",
       "    .dataframe thead th {\n",
       "        text-align: right;\n",
       "    }\n",
       "</style>\n",
       "<table border=\"1\" class=\"dataframe\">\n",
       "  <thead>\n",
       "    <tr style=\"text-align: right;\">\n",
       "      <th></th>\n",
       "      <th>const</th>\n",
       "      <th>loan_amount</th>\n",
       "      <th>collateral_value</th>\n",
       "      <th>cheque_bounces</th>\n",
       "      <th>number_of_loans</th>\n",
       "      <th>missed_repayments</th>\n",
       "      <th>vintage_in_months</th>\n",
       "      <th>tenure_years</th>\n",
       "      <th>monthly_emi</th>\n",
       "      <th>repayment_amount</th>\n",
       "      <th>balance_amount</th>\n",
       "    </tr>\n",
       "  </thead>\n",
       "  <tbody>\n",
       "    <tr>\n",
       "      <th>0</th>\n",
       "      <td>1.0</td>\n",
       "      <td>0.629163</td>\n",
       "      <td>0.017187</td>\n",
       "      <td>0.272727</td>\n",
       "      <td>0.166667</td>\n",
       "      <td>0.131579</td>\n",
       "      <td>0.362140</td>\n",
       "      <td>0.00</td>\n",
       "      <td>0.623373</td>\n",
       "      <td>0.364914</td>\n",
       "      <td>0.101453</td>\n",
       "    </tr>\n",
       "    <tr>\n",
       "      <th>1</th>\n",
       "      <td>1.0</td>\n",
       "      <td>0.009875</td>\n",
       "      <td>0.003904</td>\n",
       "      <td>0.000000</td>\n",
       "      <td>0.500000</td>\n",
       "      <td>0.684211</td>\n",
       "      <td>0.098765</td>\n",
       "      <td>1.00</td>\n",
       "      <td>0.002469</td>\n",
       "      <td>0.001193</td>\n",
       "      <td>0.000308</td>\n",
       "    </tr>\n",
       "    <tr>\n",
       "      <th>2</th>\n",
       "      <td>1.0</td>\n",
       "      <td>0.102933</td>\n",
       "      <td>0.014022</td>\n",
       "      <td>0.090909</td>\n",
       "      <td>0.333333</td>\n",
       "      <td>0.000000</td>\n",
       "      <td>0.197531</td>\n",
       "      <td>0.00</td>\n",
       "      <td>0.103594</td>\n",
       "      <td>0.060370</td>\n",
       "      <td>0.059210</td>\n",
       "    </tr>\n",
       "    <tr>\n",
       "      <th>3</th>\n",
       "      <td>1.0</td>\n",
       "      <td>0.095860</td>\n",
       "      <td>0.044608</td>\n",
       "      <td>0.363636</td>\n",
       "      <td>0.500000</td>\n",
       "      <td>0.315789</td>\n",
       "      <td>0.000000</td>\n",
       "      <td>0.25</td>\n",
       "      <td>0.050773</td>\n",
       "      <td>0.009886</td>\n",
       "      <td>0.010721</td>\n",
       "    </tr>\n",
       "    <tr>\n",
       "      <th>4</th>\n",
       "      <td>1.0</td>\n",
       "      <td>0.001992</td>\n",
       "      <td>0.002770</td>\n",
       "      <td>0.090909</td>\n",
       "      <td>0.166667</td>\n",
       "      <td>0.000000</td>\n",
       "      <td>0.563786</td>\n",
       "      <td>0.00</td>\n",
       "      <td>0.002764</td>\n",
       "      <td>0.001851</td>\n",
       "      <td>0.002570</td>\n",
       "    </tr>\n",
       "    <tr>\n",
       "      <th>...</th>\n",
       "      <td>...</td>\n",
       "      <td>...</td>\n",
       "      <td>...</td>\n",
       "      <td>...</td>\n",
       "      <td>...</td>\n",
       "      <td>...</td>\n",
       "      <td>...</td>\n",
       "      <td>...</td>\n",
       "      <td>...</td>\n",
       "      <td>...</td>\n",
       "      <td>...</td>\n",
       "    </tr>\n",
       "    <tr>\n",
       "      <th>9992</th>\n",
       "      <td>1.0</td>\n",
       "      <td>0.193787</td>\n",
       "      <td>0.196367</td>\n",
       "      <td>0.090909</td>\n",
       "      <td>0.000000</td>\n",
       "      <td>0.210526</td>\n",
       "      <td>0.378601</td>\n",
       "      <td>0.75</td>\n",
       "      <td>0.053313</td>\n",
       "      <td>0.094444</td>\n",
       "      <td>0.014041</td>\n",
       "    </tr>\n",
       "    <tr>\n",
       "      <th>9993</th>\n",
       "      <td>1.0</td>\n",
       "      <td>0.075706</td>\n",
       "      <td>0.040407</td>\n",
       "      <td>0.181818</td>\n",
       "      <td>0.333333</td>\n",
       "      <td>0.157895</td>\n",
       "      <td>0.185185</td>\n",
       "      <td>0.00</td>\n",
       "      <td>0.076434</td>\n",
       "      <td>0.007430</td>\n",
       "      <td>0.013346</td>\n",
       "    </tr>\n",
       "    <tr>\n",
       "      <th>9994</th>\n",
       "      <td>1.0</td>\n",
       "      <td>0.004352</td>\n",
       "      <td>0.001618</td>\n",
       "      <td>0.000000</td>\n",
       "      <td>0.166667</td>\n",
       "      <td>0.052632</td>\n",
       "      <td>0.604938</td>\n",
       "      <td>0.75</td>\n",
       "      <td>0.001243</td>\n",
       "      <td>0.004958</td>\n",
       "      <td>0.000911</td>\n",
       "    </tr>\n",
       "    <tr>\n",
       "      <th>9995</th>\n",
       "      <td>1.0</td>\n",
       "      <td>0.003097</td>\n",
       "      <td>0.002463</td>\n",
       "      <td>0.000000</td>\n",
       "      <td>0.166667</td>\n",
       "      <td>0.131579</td>\n",
       "      <td>0.502058</td>\n",
       "      <td>0.50</td>\n",
       "      <td>0.001322</td>\n",
       "      <td>0.002852</td>\n",
       "      <td>0.001267</td>\n",
       "    </tr>\n",
       "    <tr>\n",
       "      <th>9996</th>\n",
       "      <td>1.0</td>\n",
       "      <td>0.132329</td>\n",
       "      <td>0.103846</td>\n",
       "      <td>0.454545</td>\n",
       "      <td>0.500000</td>\n",
       "      <td>0.394737</td>\n",
       "      <td>0.000000</td>\n",
       "      <td>0.50</td>\n",
       "      <td>0.046549</td>\n",
       "      <td>0.004534</td>\n",
       "      <td>0.003748</td>\n",
       "    </tr>\n",
       "  </tbody>\n",
       "</table>\n",
       "<p>9918 rows × 11 columns</p>\n",
       "</div>"
      ],
      "text/plain": [
       "      const  loan_amount  collateral_value  cheque_bounces  number_of_loans  \\\n",
       "0       1.0     0.629163          0.017187        0.272727         0.166667   \n",
       "1       1.0     0.009875          0.003904        0.000000         0.500000   \n",
       "2       1.0     0.102933          0.014022        0.090909         0.333333   \n",
       "3       1.0     0.095860          0.044608        0.363636         0.500000   \n",
       "4       1.0     0.001992          0.002770        0.090909         0.166667   \n",
       "...     ...          ...               ...             ...              ...   \n",
       "9992    1.0     0.193787          0.196367        0.090909         0.000000   \n",
       "9993    1.0     0.075706          0.040407        0.181818         0.333333   \n",
       "9994    1.0     0.004352          0.001618        0.000000         0.166667   \n",
       "9995    1.0     0.003097          0.002463        0.000000         0.166667   \n",
       "9996    1.0     0.132329          0.103846        0.454545         0.500000   \n",
       "\n",
       "      missed_repayments  vintage_in_months  tenure_years  monthly_emi  \\\n",
       "0              0.131579           0.362140          0.00     0.623373   \n",
       "1              0.684211           0.098765          1.00     0.002469   \n",
       "2              0.000000           0.197531          0.00     0.103594   \n",
       "3              0.315789           0.000000          0.25     0.050773   \n",
       "4              0.000000           0.563786          0.00     0.002764   \n",
       "...                 ...                ...           ...          ...   \n",
       "9992           0.210526           0.378601          0.75     0.053313   \n",
       "9993           0.157895           0.185185          0.00     0.076434   \n",
       "9994           0.052632           0.604938          0.75     0.001243   \n",
       "9995           0.131579           0.502058          0.50     0.001322   \n",
       "9996           0.394737           0.000000          0.50     0.046549   \n",
       "\n",
       "      repayment_amount  balance_amount  \n",
       "0             0.364914        0.101453  \n",
       "1             0.001193        0.000308  \n",
       "2             0.060370        0.059210  \n",
       "3             0.009886        0.010721  \n",
       "4             0.001851        0.002570  \n",
       "...                ...             ...  \n",
       "9992          0.094444        0.014041  \n",
       "9993          0.007430        0.013346  \n",
       "9994          0.004958        0.000911  \n",
       "9995          0.002852        0.001267  \n",
       "9996          0.004534        0.003748  \n",
       "\n",
       "[9918 rows x 11 columns]"
      ]
     },
     "execution_count": 804,
     "metadata": {},
     "output_type": "execute_result"
    }
   ],
   "source": [
    "X_test_sm"
   ]
  },
  {
   "cell_type": "code",
   "execution_count": 805,
   "id": "a719a49c",
   "metadata": {},
   "outputs": [],
   "source": [
    "#Predicting the y_test \n",
    "y_test_pred= lm.predict(X_test_sm)"
   ]
  },
  {
   "cell_type": "code",
   "execution_count": 806,
   "id": "ea401d32",
   "metadata": {},
   "outputs": [
    {
     "name": "stdout",
     "output_type": "stream",
     "text": [
      "0.8461938439163538\n"
     ]
    }
   ],
   "source": [
    "#Importing r2_score\n",
    "from sklearn.metrics import r2_score\n",
    "#Evaluating the test model\n",
    "print(r2_score(y_test,y_test_pred))"
   ]
  },
  {
   "cell_type": "markdown",
   "id": "19cf4864",
   "metadata": {},
   "source": [
    "The r2 score on the test set is ~.846 which is close to the train R2 and shows that the model is a good predictor of LGD"
   ]
  },
  {
   "cell_type": "markdown",
   "id": "860f2c9b",
   "metadata": {},
   "source": [
    "# Building Predictive models for LGD- Random Forest Regressor"
   ]
  },
  {
   "cell_type": "code",
   "execution_count": 807,
   "id": "13f88c35",
   "metadata": {},
   "outputs": [],
   "source": [
    "# Importing Randomforest Regressor\n",
    "from sklearn.ensemble import RandomForestRegressor"
   ]
  },
  {
   "cell_type": "code",
   "execution_count": 808,
   "id": "ae334754",
   "metadata": {},
   "outputs": [],
   "source": [
    "# Running RFE with the output number of the variable equal to 10\n",
    "rf = RandomForestRegressor(random_state=42, n_estimators=50, oob_score=True)"
   ]
  },
  {
   "cell_type": "code",
   "execution_count": 809,
   "id": "5f3c68d6",
   "metadata": {},
   "outputs": [],
   "source": [
    "rfe = RFE(rf, n_features_to_select=10)             # running RFE"
   ]
  },
  {
   "cell_type": "code",
   "execution_count": 810,
   "id": "83ab2280",
   "metadata": {},
   "outputs": [
    {
     "data": {
      "text/html": [
       "<style>#sk-container-id-5 {color: black;}#sk-container-id-5 pre{padding: 0;}#sk-container-id-5 div.sk-toggleable {background-color: white;}#sk-container-id-5 label.sk-toggleable__label {cursor: pointer;display: block;width: 100%;margin-bottom: 0;padding: 0.3em;box-sizing: border-box;text-align: center;}#sk-container-id-5 label.sk-toggleable__label-arrow:before {content: \"▸\";float: left;margin-right: 0.25em;color: #696969;}#sk-container-id-5 label.sk-toggleable__label-arrow:hover:before {color: black;}#sk-container-id-5 div.sk-estimator:hover label.sk-toggleable__label-arrow:before {color: black;}#sk-container-id-5 div.sk-toggleable__content {max-height: 0;max-width: 0;overflow: hidden;text-align: left;background-color: #f0f8ff;}#sk-container-id-5 div.sk-toggleable__content pre {margin: 0.2em;color: black;border-radius: 0.25em;background-color: #f0f8ff;}#sk-container-id-5 input.sk-toggleable__control:checked~div.sk-toggleable__content {max-height: 200px;max-width: 100%;overflow: auto;}#sk-container-id-5 input.sk-toggleable__control:checked~label.sk-toggleable__label-arrow:before {content: \"▾\";}#sk-container-id-5 div.sk-estimator input.sk-toggleable__control:checked~label.sk-toggleable__label {background-color: #d4ebff;}#sk-container-id-5 div.sk-label input.sk-toggleable__control:checked~label.sk-toggleable__label {background-color: #d4ebff;}#sk-container-id-5 input.sk-hidden--visually {border: 0;clip: rect(1px 1px 1px 1px);clip: rect(1px, 1px, 1px, 1px);height: 1px;margin: -1px;overflow: hidden;padding: 0;position: absolute;width: 1px;}#sk-container-id-5 div.sk-estimator {font-family: monospace;background-color: #f0f8ff;border: 1px dotted black;border-radius: 0.25em;box-sizing: border-box;margin-bottom: 0.5em;}#sk-container-id-5 div.sk-estimator:hover {background-color: #d4ebff;}#sk-container-id-5 div.sk-parallel-item::after {content: \"\";width: 100%;border-bottom: 1px solid gray;flex-grow: 1;}#sk-container-id-5 div.sk-label:hover label.sk-toggleable__label {background-color: #d4ebff;}#sk-container-id-5 div.sk-serial::before {content: \"\";position: absolute;border-left: 1px solid gray;box-sizing: border-box;top: 0;bottom: 0;left: 50%;z-index: 0;}#sk-container-id-5 div.sk-serial {display: flex;flex-direction: column;align-items: center;background-color: white;padding-right: 0.2em;padding-left: 0.2em;position: relative;}#sk-container-id-5 div.sk-item {position: relative;z-index: 1;}#sk-container-id-5 div.sk-parallel {display: flex;align-items: stretch;justify-content: center;background-color: white;position: relative;}#sk-container-id-5 div.sk-item::before, #sk-container-id-5 div.sk-parallel-item::before {content: \"\";position: absolute;border-left: 1px solid gray;box-sizing: border-box;top: 0;bottom: 0;left: 50%;z-index: -1;}#sk-container-id-5 div.sk-parallel-item {display: flex;flex-direction: column;z-index: 1;position: relative;background-color: white;}#sk-container-id-5 div.sk-parallel-item:first-child::after {align-self: flex-end;width: 50%;}#sk-container-id-5 div.sk-parallel-item:last-child::after {align-self: flex-start;width: 50%;}#sk-container-id-5 div.sk-parallel-item:only-child::after {width: 0;}#sk-container-id-5 div.sk-dashed-wrapped {border: 1px dashed gray;margin: 0 0.4em 0.5em 0.4em;box-sizing: border-box;padding-bottom: 0.4em;background-color: white;}#sk-container-id-5 div.sk-label label {font-family: monospace;font-weight: bold;display: inline-block;line-height: 1.2em;}#sk-container-id-5 div.sk-label-container {text-align: center;}#sk-container-id-5 div.sk-container {/* jupyter's `normalize.less` sets `[hidden] { display: none; }` but bootstrap.min.css set `[hidden] { display: none !important; }` so we also need the `!important` here to be able to override the default hidden behavior on the sphinx rendered scikit-learn.org. See: https://github.com/scikit-learn/scikit-learn/issues/21755 */display: inline-block !important;position: relative;}#sk-container-id-5 div.sk-text-repr-fallback {display: none;}</style><div id=\"sk-container-id-5\" class=\"sk-top-container\"><div class=\"sk-text-repr-fallback\"><pre>RFE(estimator=RandomForestRegressor(n_estimators=50, oob_score=True,\n",
       "                                    random_state=42),\n",
       "    n_features_to_select=10)</pre><b>In a Jupyter environment, please rerun this cell to show the HTML representation or trust the notebook. <br />On GitHub, the HTML representation is unable to render, please try loading this page with nbviewer.org.</b></div><div class=\"sk-container\" hidden><div class=\"sk-item sk-dashed-wrapped\"><div class=\"sk-label-container\"><div class=\"sk-label sk-toggleable\"><input class=\"sk-toggleable__control sk-hidden--visually\" id=\"sk-estimator-id-9\" type=\"checkbox\" ><label for=\"sk-estimator-id-9\" class=\"sk-toggleable__label sk-toggleable__label-arrow\">RFE</label><div class=\"sk-toggleable__content\"><pre>RFE(estimator=RandomForestRegressor(n_estimators=50, oob_score=True,\n",
       "                                    random_state=42),\n",
       "    n_features_to_select=10)</pre></div></div></div><div class=\"sk-parallel\"><div class=\"sk-parallel-item\"><div class=\"sk-item\"><div class=\"sk-label-container\"><div class=\"sk-label sk-toggleable\"><input class=\"sk-toggleable__control sk-hidden--visually\" id=\"sk-estimator-id-10\" type=\"checkbox\" ><label for=\"sk-estimator-id-10\" class=\"sk-toggleable__label sk-toggleable__label-arrow\">estimator: RandomForestRegressor</label><div class=\"sk-toggleable__content\"><pre>RandomForestRegressor(n_estimators=50, oob_score=True, random_state=42)</pre></div></div></div><div class=\"sk-serial\"><div class=\"sk-item\"><div class=\"sk-estimator sk-toggleable\"><input class=\"sk-toggleable__control sk-hidden--visually\" id=\"sk-estimator-id-11\" type=\"checkbox\" ><label for=\"sk-estimator-id-11\" class=\"sk-toggleable__label sk-toggleable__label-arrow\">RandomForestRegressor</label><div class=\"sk-toggleable__content\"><pre>RandomForestRegressor(n_estimators=50, oob_score=True, random_state=42)</pre></div></div></div></div></div></div></div></div></div></div>"
      ],
      "text/plain": [
       "RFE(estimator=RandomForestRegressor(n_estimators=50, oob_score=True,\n",
       "                                    random_state=42),\n",
       "    n_features_to_select=10)"
      ]
     },
     "execution_count": 810,
     "metadata": {},
     "output_type": "execute_result"
    }
   ],
   "source": [
    "rfe.fit(X_train, y_train)"
   ]
  },
  {
   "cell_type": "code",
   "execution_count": 811,
   "id": "3ce7e422",
   "metadata": {},
   "outputs": [
    {
     "data": {
      "text/plain": [
       "[('loan_amount', True, 1),\n",
       " ('collateral_value', True, 1),\n",
       " ('cheque_bounces', False, 3),\n",
       " ('number_of_loans', True, 1),\n",
       " ('missed_repayments', True, 1),\n",
       " ('vintage_in_months', True, 1),\n",
       " ('tenure_years', True, 1),\n",
       " ('interest', True, 1),\n",
       " ('monthly_emi', True, 1),\n",
       " ('repayment_amount', True, 1),\n",
       " ('balance_amount', False, 2),\n",
       " ('days_to_default', True, 1),\n",
       " ('Consumer-Durable', False, 6),\n",
       " ('Personal', False, 4),\n",
       " ('Two-Wheeler', False, 5)]"
      ]
     },
     "execution_count": 811,
     "metadata": {},
     "output_type": "execute_result"
    }
   ],
   "source": [
    "#Checking the important columns\n",
    "list(zip(X_train.columns,rfe.support_,rfe.ranking_))"
   ]
  },
  {
   "cell_type": "code",
   "execution_count": 812,
   "id": "e684aba6",
   "metadata": {},
   "outputs": [
    {
     "data": {
      "text/plain": [
       "Index(['loan_amount', 'collateral_value', 'number_of_loans',\n",
       "       'missed_repayments', 'vintage_in_months', 'tenure_years', 'interest',\n",
       "       'monthly_emi', 'repayment_amount', 'days_to_default'],\n",
       "      dtype='object')"
      ]
     },
     "execution_count": 812,
     "metadata": {},
     "output_type": "execute_result"
    }
   ],
   "source": [
    "col = X_train.columns[rfe.support_]\n",
    "col"
   ]
  },
  {
   "cell_type": "code",
   "execution_count": 813,
   "id": "8f61ab98",
   "metadata": {},
   "outputs": [],
   "source": [
    "X_train_rf=X_train[col]"
   ]
  },
  {
   "cell_type": "markdown",
   "id": "73beed43",
   "metadata": {},
   "source": [
    "## Hyperparameter Tuning using Randomized Search"
   ]
  },
  {
   "cell_type": "code",
   "execution_count": 814,
   "id": "18b704e7",
   "metadata": {},
   "outputs": [],
   "source": [
    "#Importing Randomized Search\n",
    "from sklearn.model_selection import RandomizedSearchCV"
   ]
  },
  {
   "cell_type": "code",
   "execution_count": 815,
   "id": "1f7fe273",
   "metadata": {},
   "outputs": [],
   "source": [
    "#Setting the hyperparameters\n",
    "hyper_params = {'max_depth': range(3, 20),\n",
    "                'max_features': range(3, 17),\n",
    "                'min_samples_leaf': range(20, 400, 50),\n",
    "                'n_estimators': range(10, 101, 10)}"
   ]
  },
  {
   "cell_type": "code",
   "execution_count": 816,
   "id": "6cad26c4",
   "metadata": {},
   "outputs": [],
   "source": [
    "model_rcv = RandomizedSearchCV(estimator=rf, \n",
    "                              param_distributions=hyper_params,\n",
    "                              verbose=1,\n",
    "                              cv=5,\n",
    "                              return_train_score=True,\n",
    "                              n_jobs=-1,\n",
    "                              n_iter=50)"
   ]
  },
  {
   "cell_type": "code",
   "execution_count": 817,
   "id": "4d2f1125",
   "metadata": {},
   "outputs": [
    {
     "name": "stdout",
     "output_type": "stream",
     "text": [
      "Fitting 5 folds for each of 50 candidates, totalling 250 fits\n"
     ]
    },
    {
     "data": {
      "text/html": [
       "<style>#sk-container-id-6 {color: black;}#sk-container-id-6 pre{padding: 0;}#sk-container-id-6 div.sk-toggleable {background-color: white;}#sk-container-id-6 label.sk-toggleable__label {cursor: pointer;display: block;width: 100%;margin-bottom: 0;padding: 0.3em;box-sizing: border-box;text-align: center;}#sk-container-id-6 label.sk-toggleable__label-arrow:before {content: \"▸\";float: left;margin-right: 0.25em;color: #696969;}#sk-container-id-6 label.sk-toggleable__label-arrow:hover:before {color: black;}#sk-container-id-6 div.sk-estimator:hover label.sk-toggleable__label-arrow:before {color: black;}#sk-container-id-6 div.sk-toggleable__content {max-height: 0;max-width: 0;overflow: hidden;text-align: left;background-color: #f0f8ff;}#sk-container-id-6 div.sk-toggleable__content pre {margin: 0.2em;color: black;border-radius: 0.25em;background-color: #f0f8ff;}#sk-container-id-6 input.sk-toggleable__control:checked~div.sk-toggleable__content {max-height: 200px;max-width: 100%;overflow: auto;}#sk-container-id-6 input.sk-toggleable__control:checked~label.sk-toggleable__label-arrow:before {content: \"▾\";}#sk-container-id-6 div.sk-estimator input.sk-toggleable__control:checked~label.sk-toggleable__label {background-color: #d4ebff;}#sk-container-id-6 div.sk-label input.sk-toggleable__control:checked~label.sk-toggleable__label {background-color: #d4ebff;}#sk-container-id-6 input.sk-hidden--visually {border: 0;clip: rect(1px 1px 1px 1px);clip: rect(1px, 1px, 1px, 1px);height: 1px;margin: -1px;overflow: hidden;padding: 0;position: absolute;width: 1px;}#sk-container-id-6 div.sk-estimator {font-family: monospace;background-color: #f0f8ff;border: 1px dotted black;border-radius: 0.25em;box-sizing: border-box;margin-bottom: 0.5em;}#sk-container-id-6 div.sk-estimator:hover {background-color: #d4ebff;}#sk-container-id-6 div.sk-parallel-item::after {content: \"\";width: 100%;border-bottom: 1px solid gray;flex-grow: 1;}#sk-container-id-6 div.sk-label:hover label.sk-toggleable__label {background-color: #d4ebff;}#sk-container-id-6 div.sk-serial::before {content: \"\";position: absolute;border-left: 1px solid gray;box-sizing: border-box;top: 0;bottom: 0;left: 50%;z-index: 0;}#sk-container-id-6 div.sk-serial {display: flex;flex-direction: column;align-items: center;background-color: white;padding-right: 0.2em;padding-left: 0.2em;position: relative;}#sk-container-id-6 div.sk-item {position: relative;z-index: 1;}#sk-container-id-6 div.sk-parallel {display: flex;align-items: stretch;justify-content: center;background-color: white;position: relative;}#sk-container-id-6 div.sk-item::before, #sk-container-id-6 div.sk-parallel-item::before {content: \"\";position: absolute;border-left: 1px solid gray;box-sizing: border-box;top: 0;bottom: 0;left: 50%;z-index: -1;}#sk-container-id-6 div.sk-parallel-item {display: flex;flex-direction: column;z-index: 1;position: relative;background-color: white;}#sk-container-id-6 div.sk-parallel-item:first-child::after {align-self: flex-end;width: 50%;}#sk-container-id-6 div.sk-parallel-item:last-child::after {align-self: flex-start;width: 50%;}#sk-container-id-6 div.sk-parallel-item:only-child::after {width: 0;}#sk-container-id-6 div.sk-dashed-wrapped {border: 1px dashed gray;margin: 0 0.4em 0.5em 0.4em;box-sizing: border-box;padding-bottom: 0.4em;background-color: white;}#sk-container-id-6 div.sk-label label {font-family: monospace;font-weight: bold;display: inline-block;line-height: 1.2em;}#sk-container-id-6 div.sk-label-container {text-align: center;}#sk-container-id-6 div.sk-container {/* jupyter's `normalize.less` sets `[hidden] { display: none; }` but bootstrap.min.css set `[hidden] { display: none !important; }` so we also need the `!important` here to be able to override the default hidden behavior on the sphinx rendered scikit-learn.org. See: https://github.com/scikit-learn/scikit-learn/issues/21755 */display: inline-block !important;position: relative;}#sk-container-id-6 div.sk-text-repr-fallback {display: none;}</style><div id=\"sk-container-id-6\" class=\"sk-top-container\"><div class=\"sk-text-repr-fallback\"><pre>RandomizedSearchCV(cv=5,\n",
       "                   estimator=RandomForestRegressor(n_estimators=50,\n",
       "                                                   oob_score=True,\n",
       "                                                   random_state=42),\n",
       "                   n_iter=50, n_jobs=-1,\n",
       "                   param_distributions={&#x27;max_depth&#x27;: range(3, 20),\n",
       "                                        &#x27;max_features&#x27;: range(3, 17),\n",
       "                                        &#x27;min_samples_leaf&#x27;: range(20, 400, 50),\n",
       "                                        &#x27;n_estimators&#x27;: range(10, 101, 10)},\n",
       "                   return_train_score=True, verbose=1)</pre><b>In a Jupyter environment, please rerun this cell to show the HTML representation or trust the notebook. <br />On GitHub, the HTML representation is unable to render, please try loading this page with nbviewer.org.</b></div><div class=\"sk-container\" hidden><div class=\"sk-item sk-dashed-wrapped\"><div class=\"sk-label-container\"><div class=\"sk-label sk-toggleable\"><input class=\"sk-toggleable__control sk-hidden--visually\" id=\"sk-estimator-id-12\" type=\"checkbox\" ><label for=\"sk-estimator-id-12\" class=\"sk-toggleable__label sk-toggleable__label-arrow\">RandomizedSearchCV</label><div class=\"sk-toggleable__content\"><pre>RandomizedSearchCV(cv=5,\n",
       "                   estimator=RandomForestRegressor(n_estimators=50,\n",
       "                                                   oob_score=True,\n",
       "                                                   random_state=42),\n",
       "                   n_iter=50, n_jobs=-1,\n",
       "                   param_distributions={&#x27;max_depth&#x27;: range(3, 20),\n",
       "                                        &#x27;max_features&#x27;: range(3, 17),\n",
       "                                        &#x27;min_samples_leaf&#x27;: range(20, 400, 50),\n",
       "                                        &#x27;n_estimators&#x27;: range(10, 101, 10)},\n",
       "                   return_train_score=True, verbose=1)</pre></div></div></div><div class=\"sk-parallel\"><div class=\"sk-parallel-item\"><div class=\"sk-item\"><div class=\"sk-label-container\"><div class=\"sk-label sk-toggleable\"><input class=\"sk-toggleable__control sk-hidden--visually\" id=\"sk-estimator-id-13\" type=\"checkbox\" ><label for=\"sk-estimator-id-13\" class=\"sk-toggleable__label sk-toggleable__label-arrow\">estimator: RandomForestRegressor</label><div class=\"sk-toggleable__content\"><pre>RandomForestRegressor(n_estimators=50, oob_score=True, random_state=42)</pre></div></div></div><div class=\"sk-serial\"><div class=\"sk-item\"><div class=\"sk-estimator sk-toggleable\"><input class=\"sk-toggleable__control sk-hidden--visually\" id=\"sk-estimator-id-14\" type=\"checkbox\" ><label for=\"sk-estimator-id-14\" class=\"sk-toggleable__label sk-toggleable__label-arrow\">RandomForestRegressor</label><div class=\"sk-toggleable__content\"><pre>RandomForestRegressor(n_estimators=50, oob_score=True, random_state=42)</pre></div></div></div></div></div></div></div></div></div></div>"
      ],
      "text/plain": [
       "RandomizedSearchCV(cv=5,\n",
       "                   estimator=RandomForestRegressor(n_estimators=50,\n",
       "                                                   oob_score=True,\n",
       "                                                   random_state=42),\n",
       "                   n_iter=50, n_jobs=-1,\n",
       "                   param_distributions={'max_depth': range(3, 20),\n",
       "                                        'max_features': range(3, 17),\n",
       "                                        'min_samples_leaf': range(20, 400, 50),\n",
       "                                        'n_estimators': range(10, 101, 10)},\n",
       "                   return_train_score=True, verbose=1)"
      ]
     },
     "execution_count": 817,
     "metadata": {},
     "output_type": "execute_result"
    }
   ],
   "source": [
    "#Fitting the model\n",
    "model_rcv.fit(X_train_rf, y_train)"
   ]
  },
  {
   "cell_type": "code",
   "execution_count": 818,
   "id": "5a4501e2",
   "metadata": {},
   "outputs": [
    {
     "data": {
      "text/plain": [
       "0.9005333753274531"
      ]
     },
     "execution_count": 818,
     "metadata": {},
     "output_type": "execute_result"
    }
   ],
   "source": [
    "#Checking the best score\n",
    "model_rcv.best_score_"
   ]
  },
  {
   "cell_type": "code",
   "execution_count": 819,
   "id": "035975f7",
   "metadata": {},
   "outputs": [],
   "source": [
    "#Selecting the best model\n",
    "rf_best = model_rcv.best_estimator_"
   ]
  },
  {
   "cell_type": "code",
   "execution_count": 820,
   "id": "41a38c80",
   "metadata": {},
   "outputs": [
    {
     "data": {
      "text/html": [
       "<style>#sk-container-id-7 {color: black;}#sk-container-id-7 pre{padding: 0;}#sk-container-id-7 div.sk-toggleable {background-color: white;}#sk-container-id-7 label.sk-toggleable__label {cursor: pointer;display: block;width: 100%;margin-bottom: 0;padding: 0.3em;box-sizing: border-box;text-align: center;}#sk-container-id-7 label.sk-toggleable__label-arrow:before {content: \"▸\";float: left;margin-right: 0.25em;color: #696969;}#sk-container-id-7 label.sk-toggleable__label-arrow:hover:before {color: black;}#sk-container-id-7 div.sk-estimator:hover label.sk-toggleable__label-arrow:before {color: black;}#sk-container-id-7 div.sk-toggleable__content {max-height: 0;max-width: 0;overflow: hidden;text-align: left;background-color: #f0f8ff;}#sk-container-id-7 div.sk-toggleable__content pre {margin: 0.2em;color: black;border-radius: 0.25em;background-color: #f0f8ff;}#sk-container-id-7 input.sk-toggleable__control:checked~div.sk-toggleable__content {max-height: 200px;max-width: 100%;overflow: auto;}#sk-container-id-7 input.sk-toggleable__control:checked~label.sk-toggleable__label-arrow:before {content: \"▾\";}#sk-container-id-7 div.sk-estimator input.sk-toggleable__control:checked~label.sk-toggleable__label {background-color: #d4ebff;}#sk-container-id-7 div.sk-label input.sk-toggleable__control:checked~label.sk-toggleable__label {background-color: #d4ebff;}#sk-container-id-7 input.sk-hidden--visually {border: 0;clip: rect(1px 1px 1px 1px);clip: rect(1px, 1px, 1px, 1px);height: 1px;margin: -1px;overflow: hidden;padding: 0;position: absolute;width: 1px;}#sk-container-id-7 div.sk-estimator {font-family: monospace;background-color: #f0f8ff;border: 1px dotted black;border-radius: 0.25em;box-sizing: border-box;margin-bottom: 0.5em;}#sk-container-id-7 div.sk-estimator:hover {background-color: #d4ebff;}#sk-container-id-7 div.sk-parallel-item::after {content: \"\";width: 100%;border-bottom: 1px solid gray;flex-grow: 1;}#sk-container-id-7 div.sk-label:hover label.sk-toggleable__label {background-color: #d4ebff;}#sk-container-id-7 div.sk-serial::before {content: \"\";position: absolute;border-left: 1px solid gray;box-sizing: border-box;top: 0;bottom: 0;left: 50%;z-index: 0;}#sk-container-id-7 div.sk-serial {display: flex;flex-direction: column;align-items: center;background-color: white;padding-right: 0.2em;padding-left: 0.2em;position: relative;}#sk-container-id-7 div.sk-item {position: relative;z-index: 1;}#sk-container-id-7 div.sk-parallel {display: flex;align-items: stretch;justify-content: center;background-color: white;position: relative;}#sk-container-id-7 div.sk-item::before, #sk-container-id-7 div.sk-parallel-item::before {content: \"\";position: absolute;border-left: 1px solid gray;box-sizing: border-box;top: 0;bottom: 0;left: 50%;z-index: -1;}#sk-container-id-7 div.sk-parallel-item {display: flex;flex-direction: column;z-index: 1;position: relative;background-color: white;}#sk-container-id-7 div.sk-parallel-item:first-child::after {align-self: flex-end;width: 50%;}#sk-container-id-7 div.sk-parallel-item:last-child::after {align-self: flex-start;width: 50%;}#sk-container-id-7 div.sk-parallel-item:only-child::after {width: 0;}#sk-container-id-7 div.sk-dashed-wrapped {border: 1px dashed gray;margin: 0 0.4em 0.5em 0.4em;box-sizing: border-box;padding-bottom: 0.4em;background-color: white;}#sk-container-id-7 div.sk-label label {font-family: monospace;font-weight: bold;display: inline-block;line-height: 1.2em;}#sk-container-id-7 div.sk-label-container {text-align: center;}#sk-container-id-7 div.sk-container {/* jupyter's `normalize.less` sets `[hidden] { display: none; }` but bootstrap.min.css set `[hidden] { display: none !important; }` so we also need the `!important` here to be able to override the default hidden behavior on the sphinx rendered scikit-learn.org. See: https://github.com/scikit-learn/scikit-learn/issues/21755 */display: inline-block !important;position: relative;}#sk-container-id-7 div.sk-text-repr-fallback {display: none;}</style><div id=\"sk-container-id-7\" class=\"sk-top-container\"><div class=\"sk-text-repr-fallback\"><pre>RandomForestRegressor(max_depth=19, max_features=6, min_samples_leaf=20,\n",
       "                      n_estimators=60, oob_score=True, random_state=42)</pre><b>In a Jupyter environment, please rerun this cell to show the HTML representation or trust the notebook. <br />On GitHub, the HTML representation is unable to render, please try loading this page with nbviewer.org.</b></div><div class=\"sk-container\" hidden><div class=\"sk-item\"><div class=\"sk-estimator sk-toggleable\"><input class=\"sk-toggleable__control sk-hidden--visually\" id=\"sk-estimator-id-15\" type=\"checkbox\" checked><label for=\"sk-estimator-id-15\" class=\"sk-toggleable__label sk-toggleable__label-arrow\">RandomForestRegressor</label><div class=\"sk-toggleable__content\"><pre>RandomForestRegressor(max_depth=19, max_features=6, min_samples_leaf=20,\n",
       "                      n_estimators=60, oob_score=True, random_state=42)</pre></div></div></div></div></div>"
      ],
      "text/plain": [
       "RandomForestRegressor(max_depth=19, max_features=6, min_samples_leaf=20,\n",
       "                      n_estimators=60, oob_score=True, random_state=42)"
      ]
     },
     "execution_count": 820,
     "metadata": {},
     "output_type": "execute_result"
    }
   ],
   "source": [
    "rf_best"
   ]
  },
  {
   "cell_type": "markdown",
   "id": "5fdc2c8a",
   "metadata": {},
   "source": [
    "## Evaluating on test data"
   ]
  },
  {
   "cell_type": "code",
   "execution_count": 821,
   "id": "1023bbdf",
   "metadata": {},
   "outputs": [],
   "source": [
    "X_test_rf=X_test[X_train_rf.columns]"
   ]
  },
  {
   "cell_type": "code",
   "execution_count": 822,
   "id": "934918bd",
   "metadata": {},
   "outputs": [],
   "source": [
    "#Predicting the y_test \n",
    "y_test_pred_rf= rf_best.predict(X_test_rf)"
   ]
  },
  {
   "cell_type": "code",
   "execution_count": 823,
   "id": "976bf84b",
   "metadata": {},
   "outputs": [
    {
     "name": "stdout",
     "output_type": "stream",
     "text": [
      "0.9025455848511335\n"
     ]
    }
   ],
   "source": [
    "#Evaluating the test model\n",
    "print(r2_score(y_test,y_test_pred_rf))"
   ]
  },
  {
   "cell_type": "markdown",
   "id": "92841350",
   "metadata": {},
   "source": [
    "The R2 score on the randomforest model for test dataset is .9 which is shows that the model performs better on the test data using the randomforest model"
   ]
  },
  {
   "cell_type": "code",
   "execution_count": 834,
   "id": "2849252e",
   "metadata": {},
   "outputs": [
    {
     "data": {
      "image/png": "[encoded data removed]",
      "text/plain": [
       "<Figure size 432x288 with 1 Axes>"
      ]
     },
     "metadata": {
      "needs_background": "light"
     },
     "output_type": "display_data"
    }
   ],
   "source": [
    "#Plotting the y_pred vs y_test\n",
    "\n",
    "sns.regplot(x=y_test,y=y_test_pred_rf)\n",
    "plt.xlabel(\"y_test\")\n",
    "plt.ylabel(\"y_test_pred\")\n",
    "plt.show()"
   ]
  },
  {
   "cell_type": "code",
   "execution_count": 831,
   "id": "20261ce7",
   "metadata": {},
   "outputs": [],
   "source": [
    "#Making predictions\n",
    "LGD_df = rf_best.predict(X_test_rf)\n",
    "LGD_df = pd.Series(LGD_df)"
   ]
  },
  {
   "cell_type": "code",
   "execution_count": 832,
   "id": "252b6583",
   "metadata": {},
   "outputs": [],
   "source": [
    "#Combining the results into dataframe\n",
    "LGD_df = pd.DataFrame({'loan_acc_num':df_test_copy['loan_acc_num'].values, 'LGD_pred':LGD_df.values})"
   ]
  },
  {
   "cell_type": "code",
   "execution_count": 833,
   "id": "3b22bd1f",
   "metadata": {},
   "outputs": [
    {
     "data": {
      "text/html": [
       "<div>\n",
       "<style scoped>\n",
       "    .dataframe tbody tr th:only-of-type {\n",
       "        vertical-align: middle;\n",
       "    }\n",
       "\n",
       "    .dataframe tbody tr th {\n",
       "        vertical-align: top;\n",
       "    }\n",
       "\n",
       "    .dataframe thead th {\n",
       "        text-align: right;\n",
       "    }\n",
       "</style>\n",
       "<table border=\"1\" class=\"dataframe\">\n",
       "  <thead>\n",
       "    <tr style=\"text-align: right;\">\n",
       "      <th></th>\n",
       "      <th>loan_acc_num</th>\n",
       "      <th>LGD_pred</th>\n",
       "    </tr>\n",
       "  </thead>\n",
       "  <tbody>\n",
       "    <tr>\n",
       "      <th>0</th>\n",
       "      <td>LN14086568</td>\n",
       "      <td>0.367459</td>\n",
       "    </tr>\n",
       "    <tr>\n",
       "      <th>1</th>\n",
       "      <td>LN37082418</td>\n",
       "      <td>0.730996</td>\n",
       "    </tr>\n",
       "    <tr>\n",
       "      <th>2</th>\n",
       "      <td>LN42963368</td>\n",
       "      <td>0.396732</td>\n",
       "    </tr>\n",
       "    <tr>\n",
       "      <th>3</th>\n",
       "      <td>LN54572294</td>\n",
       "      <td>0.771631</td>\n",
       "    </tr>\n",
       "    <tr>\n",
       "      <th>4</th>\n",
       "      <td>LN65792799</td>\n",
       "      <td>0.155487</td>\n",
       "    </tr>\n",
       "  </tbody>\n",
       "</table>\n",
       "</div>"
      ],
      "text/plain": [
       "  loan_acc_num  LGD_pred\n",
       "0   LN14086568  0.367459\n",
       "1   LN37082418  0.730996\n",
       "2   LN42963368  0.396732\n",
       "3   LN54572294  0.771631\n",
       "4   LN65792799  0.155487"
      ]
     },
     "execution_count": 833,
     "metadata": {},
     "output_type": "execute_result"
    }
   ],
   "source": [
    "LGD_df.head()"
   ]
  },
  {
   "cell_type": "markdown",
   "id": "c5a35709",
   "metadata": {},
   "source": [
    "### Conclusions\n",
    "- We developed multiple regression models: MLR and RF to calculate LGD\n",
    "- The RF model is a better predictor of LGD with given input variables\n",
    "- We have hypertuned the parameters of the RF model and the rf_best is what we have selected as final model"
   ]
  }
 ],
 "metadata": {
  "kernelspec": {
   "display_name": "Python 3",
   "language": "python",
   "name": "python3"
  },
  "language_info": {
   "codemirror_mode": {
    "name": "ipython",
    "version": 3
   },
   "file_extension": ".py",
   "mimetype": "text/x-python",
   "name": "python",
   "nbconvert_exporter": "python",
   "pygments_lexer": "ipython3",
   "version": "3.8.8"
  }
 },
 "nbformat": 4,
 "nbformat_minor": 5
}
